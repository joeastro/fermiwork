{
 "cells": [
  {
   "cell_type": "markdown",
   "metadata": {},
   "source": [
    "# Fermipy Usage Statistics\n",
    "This notebook polls the SAO/NASA Astrophysics Data System [(ADS)](https://ui.adsabs.harvard.edu/) to determine usage rates of the [Fermipy](https://fermipy.readthedocs.io/en/master/) python package.\n",
    "\n",
    "## Setting up the API\n",
    "In the fields below, `token` should be replaced with [your own API token](https://ui.adsabs.harvard.edu/user/settings/token). If you haven't worked with the ADS API before, it's recommended that you read the [README](https://github.com/adsabs/adsabs-dev-api/blob/master/README.md) before beginning. You may want to familiarize yourself with their other API Jupyter notebooks, especially the ones on [searching](https://github.com/adsabs/adsabs-dev-api/blob/master/Search_API.ipynb), [interacting with libraries](https://github.com/adsabs/adsabs-dev-api/blob/master/Libraries_API.ipynb), and [using the API with Python](https://github.com/adsabs/adsabs-dev-api/blob/master/Converting_curl_to_python.ipynb).\n",
    "\n",
    "Note that much of the code in this notebook was adapted from the example notebook for [maintaining a mission bibliography](https://github.com/adsabs/adsabs-dev-api/blob/master/API_documentation_Python/API_examples/maintain_mission_bibliography.ipynb) on the ADS website."
   ]
  },
  {
   "cell_type": "code",
   "execution_count": 27,
   "metadata": {},
   "outputs": [],
   "source": [
    "# import the requests package and set your token in a variable for later use\n",
    "import requests\n",
    "import numpy as np\n",
    "import matplotlib.pyplot as plt\n",
    "\n",
    "token=\"i4bKvOj8azhzoZp1wi1eSV3B9BTuJQUhSo7qboHp\"\n",
    "base_url = \"https://api.adsabs.harvard.edu/v1/search/query?\""
   ]
  },
  {
   "cell_type": "markdown",
   "metadata": {},
   "source": [
    "The usage statistics are compiled in *very* simple fashion: count the number of refereed publications that reference 'Fermipy' in a given year vs. the number of publications that only reference the FermiTools (formerly ScienceTools). This will give us a rough lower bound for Fermipy usage amongst the community. If you were to enter the queries into the ADS online search, they would look like this:\n",
    "\n",
    "query1 = 'pubdate:[2023-01 TO 2024-01] abs:fermi OR keyword:(\"gamma ray\") body:(fermi AND (sciencetools OR fermitools) NOT fermipy) property:refereed'\n",
    "\n",
    "query2 = 'pubdate:[2023-01 TO 2024-01] abs:fermi OR keyword:(\"gamma ray\") body:(fermi AND fermipy) property:refereed'\n",
    "\n",
    "After you enter those queries into the ADS search bar, you'll notice that the url changes to reflect the specfic paramters of your search. You'll want to copy everything after the \"search/q=\" part of these urls for use in the next step:\n",
    "\n",
    "query1 = 'pubdate%3A%5B2023-01%20TO%202024-01%5D%20abs%3Afermi%20OR%20keyword%3A(\"gamma%20ray\")%20body%3A(fermi%20AND%20(sciencetools%20OR%20fermitools)%20NOT%20fermipy)%20property%3Arefereed&sort=date%20desc%2C%20bibcode%20desc&p_=0'\n",
    "\n",
    "query2 = 'pubdate%3A%5B2008-01%20TO%202009-01%5D%20abs%3Afermi%20OR%20keyword%3A(\"gamma%20ray\")%20body%3A(fermi%20AND%20fermipy)%20property%3Arefereed&sort=date%20desc%2C%20bibcode%20desc&p_=0'"
   ]
  },
  {
   "cell_type": "code",
   "execution_count": 41,
   "metadata": {},
   "outputs": [
    {
     "name": "stdout",
     "output_type": "stream",
     "text": [
      "2008-2009:\n",
      "  Fermitools: 1\n",
      "  Fermipy: 0\n",
      "2009-2010:\n",
      "  Fermitools: 8\n",
      "  Fermipy: 0\n",
      "2010-2011:\n",
      "  Fermitools: 19\n",
      "  Fermipy: 0\n",
      "2011-2012:\n",
      "  Fermitools: 20\n",
      "  Fermipy: 0\n",
      "2012-2013:\n",
      "  Fermitools: 32\n",
      "  Fermipy: 0\n",
      "2013-2014:\n",
      "  Fermitools: 24\n",
      "  Fermipy: 0\n",
      "2014-2015:\n",
      "  Fermitools: 35\n",
      "  Fermipy: 0\n",
      "2015-2016:\n",
      "  Fermitools: 49\n",
      "  Fermipy: 0\n",
      "2016-2017:\n",
      "  Fermitools: 41\n",
      "  Fermipy: 2\n",
      "2017-2018:\n",
      "  Fermitools: 36\n",
      "  Fermipy: 8\n",
      "2018-2019:\n",
      "  Fermitools: 35\n",
      "  Fermipy: 16\n",
      "2019-2020:\n",
      "  Fermitools: 42\n",
      "  Fermipy: 27\n",
      "2020-2021:\n",
      "  Fermitools: 44\n",
      "  Fermipy: 43\n",
      "2021-2022:\n",
      "  Fermitools: 46\n",
      "  Fermipy: 52\n",
      "2022-2023:\n",
      "  Fermitools: 54\n",
      "  Fermipy: 45\n",
      "2023-2024:\n",
      "  Fermitools: 62\n",
      "  Fermipy: 69\n"
     ]
    }
   ],
   "source": [
    "startYear = 2008\n",
    "endYear = 2024\n",
    "\n",
    "year = []\n",
    "toolct = [] # array to store count of FermiTools-only papers\n",
    "frmpyct = [] # attay to store count of fermipy papers\n",
    "for i in range(startYear,endYear): \n",
    "    #This block gets the papers that do NOT use fermipy\n",
    "    results = requests.get(\"https://api.adsabs.harvard.edu/v1/search/query?\" \\\n",
    "                           'q=pubdate%3A%5B'+str(i)+'-01%20TO%20'+str(i+1)+'-01%5D%20abs%3Afermi%20OR%20keyword%3A(\"gamma%20ray\")%20body%3A(fermi%20AND%20(sciencetools%20OR%20fermitools)%20NOT%20fermipy)%20property%3Arefereed&sort=date%20desc%2C%20bibcode%20desc' \\\n",
    "                           \"&sort=date%20desc%2C%20bibcode%20desc\" \\\n",
    "                           \"&fl=bibcode,title\" \\\n",
    "                           \"&rows=500\", \\\n",
    "                           headers={'Authorization': 'Bearer ' + token})\n",
    "    res = results.json()['response']['docs']\n",
    "    bibcodes = [d['bibcode'] for d in res]\n",
    "    year.append(i)\n",
    "    toolct.append(len(bibcodes))\n",
    "    #print(str(i)+\"-\"+str(i+1)+\":\",str(len(bibcodes)))\n",
    "\n",
    "    # This block gets the papers that DO use fermipy\n",
    "    results2 = requests.get(\"https://api.adsabs.harvard.edu/v1/search/query?\" \\\n",
    "                           'q=pubdate%3A%5B'+str(i)+'-01%20TO%20'+str(i+1)+'-01%5D%20abs%3Afermi%20OR%20keyword%3A(\"gamma%20ray\")%20body%3A(fermi%20AND%20fermipy)%20property%3Arefereed&sort=date%20desc%2C%20bibcode%20desc' \\\n",
    "                           \"&sort=date%20desc%2C%20bibcode%20desc\" \\\n",
    "                           \"&fl=bibcode,title\" \\\n",
    "                           \"&rows=500\", \\\n",
    "                           headers={'Authorization': 'Bearer ' + token})\n",
    "    res2 = results2.json()['response']['docs']\n",
    "    bibcodes2 = [d['bibcode'] for d in res2]\n",
    "    frmpyct.append(len(bibcodes2))\n",
    "    print(str(i)+\"-\"+str(i+1)+\":\")\n",
    "    print(\"  Fermitools: \"+str(len(bibcodes)))\n",
    "    print(\"  Fermipy: \"+str(len(bibcodes2)))\n",
    "    i+=1"
   ]
  },
  {
   "cell_type": "code",
   "execution_count": 43,
   "metadata": {},
   "outputs": [
    {
     "data": {
      "image/png": "[encoded data removed]",
      "text/plain": [
       "<Figure size 640x480 with 1 Axes>"
      ]
     },
     "metadata": {},
     "output_type": "display_data"
    }
   ],
   "source": [
    "width = 0.35\n",
    "p1 = plt.bar(year, toolct, width)\n",
    "p2 = plt.bar(year, frmpyct, width, bottom=toolct)\n",
    "\n",
    "plt.title('FermiTools + Fermipy Usage')\n",
    "plt.ylabel('# of Citations')\n",
    "plt.xlabel('Year')\n",
    "plt.legend((p2[0], p1[0]), ('Fermipy', 'FermiTools'))\n",
    "\n",
    "plt.show()"
   ]
  },
  {
   "cell_type": "code",
   "execution_count": 46,
   "metadata": {},
   "outputs": [
    {
     "name": "stdout",
     "output_type": "stream",
     "text": [
      "0.5036144578313253\n"
     ]
    }
   ],
   "source": [
    "# What fraction of papers used fermipy since 2020?\n",
    "\n",
    "print(sum(frmpyct[-4:])/(sum(toolct[-4:])+sum(frmpyct[-4:])))"
   ]
  },
  {
   "cell_type": "markdown",
   "metadata": {},
   "source": [
    "## Conclusion\n",
    "Half of all published studies in the refereed literature since 2020 that analyse *Fermi/LAT* data utilize Fermipy."
   ]
  },
  {
   "cell_type": "code",
   "execution_count": null,
   "metadata": {},
   "outputs": [],
   "source": []
  }
 ],
 "metadata": {
  "kernelspec": {
   "display_name": "Python 3 (ipykernel)",
   "language": "python",
   "name": "python3"
  },
  "language_info": {
   "codemirror_mode": {
    "name": "ipython",
    "version": 3
   },
   "file_extension": ".py",
   "mimetype": "text/x-python",
   "name": "python",
   "nbconvert_exporter": "python",
   "pygments_lexer": "ipython3",
   "version": "3.12.4"
  }
 },
 "nbformat": 4,
 "nbformat_minor": 4
}
