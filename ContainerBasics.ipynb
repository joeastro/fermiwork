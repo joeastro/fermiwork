{
 "cells": [
  {
   "cell_type": "markdown",
   "id": "74956c6a",
   "metadata": {},
   "source": [
    "Virtual Machine (VM) Setup\n",
    "=========================\n",
    "Introduction to the analysis environment\n",
    "-------------------------\n",
    "\n",
    "This tutorial is designed to familiarize you with the analysis environment that we have set up for use in the Summer School. We will describe the setup of your environment and how to get started with using it. We'll also discuss some of pros & cons of using this setup both here and after you leave the Summer School.\n",
    "\n",
    "**Goal:**  *Set up a virtual environment; understand how it interfaces with the rest of your system*"
   ]
  },
  {
   "cell_type": "markdown",
   "id": "a0fbc831",
   "metadata": {},
   "source": [
    "Getting Started\n",
    "-------------------"
   ]
  },
  {
   "cell_type": "markdown",
   "id": "a5a1c79a",
   "metadata": {},
   "source": [
    "The Fermi Science Support Center (FSSC) has developed an analysis environment for your use. It contains all of the software tools you will need to participate in the various walkthroughs in the Summer School and perform your own analyses. \n",
    "\n",
    "The software, instructions on getting started, and iPhython notebooks that we'll be following during the school are all on GitHub at:\n",
    "\n",
    "https://github.com/fermi-lat/FermiBottle"
   ]
  },
  {
   "cell_type": "markdown",
   "id": "f927ea9f",
   "metadata": {},
   "source": [
    "How to think about the container\n",
    "-------------------"
   ]
  },
  {
   "cell_type": "markdown",
   "id": "18b4f7c5",
   "metadata": {},
   "source": [
    "The container is a complete Linux operating system that has all the analysis tools you will need during the Summer School pre-installed. This enables you to focus on learniing gamma-ray analysis rather than spending 2 weeks debugging package installation conflicts :)\n",
    "\n",
    "Advantages:\n",
    "- Easier installation procedure\n",
    "- The same environment can be installed on any system \n",
    "- Installation is not OS or hardware-dependant\n",
    "- All tools are fully-functional for doing science\n",
    "- Work done in the *correct directory* in your container will be accessible from your host OS\n",
    "\n",
    "Disadvantages:\n",
    "- Work done *outside* the correct directory in your container will **NOT** be accessible from your host OS\n",
    "- The resources being usedd to run the container are not available for analysis\n",
    "- Analyses that require a lot of memory require extra setup steps\n",
    "- You likely won't need all of the tools installed in the container for your own analysis\n",
    "- The container is an extra layer of abstraction that you need to be cognizant of"
   ]
  },
  {
   "cell_type": "code",
   "execution_count": 23,
   "id": "87819649",
   "metadata": {},
   "outputs": [],
   "source": [
    "# Let's make a visual aid\n",
    "%matplotlib inline\n",
    "import numpy as np\n",
    "import matplotlib.pyplot as plt"
   ]
  },
  {
   "cell_type": "code",
   "execution_count": 76,
   "id": "a5c08a18",
   "metadata": {},
   "outputs": [
    {
     "data": {
      "text/plain": [
       "<Figure size 2000x2000 with 0 Axes>"
      ]
     },
     "metadata": {},
     "output_type": "display_data"
    },
    {
     "data": {
      "image/png": "[encoded data removed]",
      "text/plain": [
       "<Figure size 640x480 with 1 Axes>"
      ]
     },
     "metadata": {},
     "output_type": "display_data"
    }
   ],
   "source": [
    "fig = plt.figure(figsize=(20, 20), facecolor='w')\n",
    "fig = plt.figure()\n",
    "ax = fig.add_subplot()\n",
    "ax.set_aspect('equal', adjustable='box')\n",
    "ax.set_xlim(0,11)\n",
    "ax.set_ylim(0,11)\n",
    "ax.set_facecolor(\"cornflowerblue\")\n",
    "ax.tick_params(left = False, bottom = False)\n",
    "#ax.set_yticklabels([])\n",
    "#ax.set_xticklabels([])\n",
    "square = plt.Rectangle((4,2), 6, 6, fc='gold',ec=\"none\")\n",
    "rectangle = plt.Rectangle((4,7), 2, 1, fc='limegreen',ec=\"none\")\n",
    "plt.gca().add_patch(square)\n",
    "plt.gca().add_patch(rectangle)\n",
    "x1 = np.array([4,4, 10, 10, 6, 6])\n",
    "y1 = np.array([9,2, 2, 8, 8, 7])\n",
    "x2 = np.array([10,10])\n",
    "y2 = np.array([8,9])\n",
    "plt.plot(x1, y1, x2, y2, linewidth = '2', color = 'k')\n",
    "plt.text(0.4,10.4,\"<upper levels of directory tree>\",fontsize=13)\n",
    "plt.text(2.8,9.5,\"~/YourHomeDir\",fontsize=13)\n",
    "plt.text(5,8.5,\"/FermiSchool\",fontsize=13)\n",
    "plt.text(4.2,7.2,\"/data   /bin /home /...\",fontsize=13)\n",
    "plt.text(5.8,2.4,\"Container\",fontsize=14,color='r')\n",
    "plt.text(3.7,0.75,\"Machine OS\",fontsize=14,color='r')\n",
    "plt.show()"
   ]
  },
  {
   "cell_type": "markdown",
   "id": "f3e803d0",
   "metadata": {},
   "source": [
    "When you create a container note the directory in which you run the `create` command. This directory is your \"doorway\" into your container. Every time you (re)start the container, regardless of where you do it from, this directory will be the only way in. In this example that directory is called `/FermiSchool`, but you can name it whatever you want.\n",
    "\n",
    "Inside each container is a directory called `/data`. You can navigate to it using the following command *in the container terminal*:\n",
    "\n",
    "`cd /data`\n",
    "\n",
    "The content in the `/data` directory (and sub-directories thereof) in your container is fully accessible in the `/FermiSchool` directory in your machine's native system, and *vice versa*. Files & folders stored or created in this branch of the directory tree will not be lost if the container is shut down or deleted.\n",
    "\n",
    "You can start multiple containers from the same directory on your host system. This could be usefull if, for example, the original container stops working correctly and you need to create a new one but don't want redo and analysis."
   ]
  },
  {
   "cell_type": "code",
   "execution_count": null,
   "id": "852218de",
   "metadata": {},
   "outputs": [],
   "source": []
  }
 ],
 "metadata": {
  "kernelspec": {
   "display_name": "Python 3 (ipykernel)",
   "language": "python",
   "name": "python3"
  },
  "language_info": {
   "codemirror_mode": {
    "name": "ipython",
    "version": 3
   },
   "file_extension": ".py",
   "mimetype": "text/x-python",
   "name": "python",
   "nbconvert_exporter": "python",
   "pygments_lexer": "ipython3",
   "version": "3.10.8"
  }
 },
 "nbformat": 4,
 "nbformat_minor": 5
}
