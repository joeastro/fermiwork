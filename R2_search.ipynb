{
 "cells": [
  {
   "cell_type": "code",
   "execution_count": 5,
   "id": "2a60eeb6",
   "metadata": {},
   "outputs": [
    {
     "name": "stderr",
     "output_type": "stream",
     "text": [
      "[nltk_data] Downloading package punkt to /Users/jeggen/nltk_data...\n",
      "[nltk_data]   Package punkt is already up-to-date!\n",
      "[nltk_data] Downloading package wordnet to /Users/jeggen/nltk_data...\n",
      "[nltk_data]   Package wordnet is already up-to-date!\n"
     ]
    },
    {
     "data": {
      "text/plain": [
       "True"
      ]
     },
     "execution_count": 5,
     "metadata": {},
     "output_type": "execute_result"
    }
   ],
   "source": [
    "import requests\n",
    "from urllib.parse import urlencode, quote_plus\n",
    "import numpy as np\n",
    "import sys\n",
    "\n",
    "import nltk\n",
    "nltk.download('punkt')\n",
    "nltk.download('wordnet')"
   ]
  },
  {
   "cell_type": "code",
   "execution_count": 1,
   "id": "8d07c1a8",
   "metadata": {},
   "outputs": [
    {
     "name": "stdout",
     "output_type": "stream",
     "text": [
      "1.5.3\n"
     ]
    }
   ],
   "source": [
    "#We designed the code to work with Pandas 1.5.3\n",
    "import pandas as pd\n",
    "print(pd. __version__)\n",
    "\n",
    "#If the Pandas version differs from 1.5.3, run the following:\n",
    "#pip install pandas==1.5.3 --user"
   ]
  },
  {
   "cell_type": "markdown",
   "id": "ae673e64",
   "metadata": {},
   "source": [
    "Directory set up\n",
    "The file stopwords.txt is utilized to create meaningful N-grams. Make sure to provide an accurate path in the following cell.\n",
    "Also, the path will be used by the code in other instances to identify other useful files."
   ]
  },
  {
   "cell_type": "code",
   "execution_count": 9,
   "id": "060e5b87",
   "metadata": {},
   "outputs": [],
   "source": [
    "path_stop= '/Users/jeggen/FERMI/FSSCtesting/reviewTools/ReviewerExtractor/'\n",
    "stop_file='stopwords.txt'\n",
    "stop_dir=path_stop+stop_file\n",
    "sys.path.append(path_stop)"
   ]
  },
  {
   "cell_type": "code",
   "execution_count": 10,
   "id": "7bde3536",
   "metadata": {},
   "outputs": [],
   "source": [
    "#For the TextAnalysis File, please refer to M. Volze et al. 2023\n",
    "import TextAnalysis as TA\n",
    "import ADSsearcherpkg as AP"
   ]
  },
  {
   "cell_type": "code",
   "execution_count": 11,
   "id": "2b2e5912",
   "metadata": {},
   "outputs": [],
   "source": [
    "token = 'i4bKvOj8azhzoZp1wi1eSV3B9BTuJQUhSo7qboHp' #Insert your API token"
   ]
  },
  {
   "cell_type": "markdown",
   "id": "2646ca48",
   "metadata": {},
   "source": [
    "# **Search through a list of institutions**"
   ]
  },
  {
   "cell_type": "markdown",
   "id": "da47af53",
   "metadata": {},
   "source": [
    "The search will focus on papers from a list of institutions, so the input is a csv file that has multiple institution names stored in it. This will then find all papers from those institutions (see CAVEATS in Example 2 above related to Institution Names):\n",
    "\n",
    "The input file has to be a .csv file (e.g.\"top10inst.csv\"), and must contain at least one column titled \"Current Institution\" or \"Institution\" (the first cell of the column is usually interpreted as such). The file can contains other columns, they will be ignored.\n",
    "If the file is in a different directory than the one where the code it, include the whole path.\n",
    "\n",
    "The code will run as in Example 2 above for each institutions and append the results at each iteration providing a final dataframe with all the researchers at all the institutions in the list provided.\n",
    "NOTE: at the moment if an institution query returns an empty dataframe the code will ignore it and continue to the following one."
   ]
  },
  {
   "cell_type": "code",
   "execution_count": 15,
   "id": "b1866065",
   "metadata": {},
   "outputs": [
    {
     "name": "stdout",
     "output_type": "stream",
     "text": [
      "I will search for every paper who first authors is afiliated with Air Force Institute of Technology-Graduate School of Engineering & Management and published in the past 15 years.\n",
      "\n",
      "I am now querying ADS.\n",
      "\n",
      "DataFrame is empty! Something is wrong with the institution\n",
      "I am querying ADS in a different way, stay tuned!/n\n",
      "I will search for every paper who first authors is afiliated with Air Force Institute of Technology-Graduate School of Engineering & Management and published in the past 15 years.\n",
      "\n"
     ]
    },
    {
     "name": "stderr",
     "output_type": "stream",
     "text": [
      "/Users/jeggen/FERMI/FSSCtesting/reviewTools/ReviewerExtractor/codeV2/ADSsearcherpkg.py:124: FutureWarning: The frame.append method is deprecated and will be removed from pandas in a future version. Use pandas.concat instead.\n",
      "  final_df= final_df.append(data1, ignore_index= True)\n"
     ]
    },
    {
     "name": "stdout",
     "output_type": "stream",
     "text": [
      "1 iterations done\n",
      "I will search for every paper who first authors is afiliated with American University and published in the past 15 years.\n",
      "\n",
      "I am now querying ADS.\n",
      "\n"
     ]
    },
    {
     "name": "stderr",
     "output_type": "stream",
     "text": [
      "/Users/jeggen/FERMI/FSSCtesting/reviewTools/ReviewerExtractor/codeV2/ADSsearcherpkg.py:124: FutureWarning: The frame.append method is deprecated and will be removed from pandas in a future version. Use pandas.concat instead.\n",
      "  final_df= final_df.append(data1, ignore_index= True)\n"
     ]
    },
    {
     "name": "stdout",
     "output_type": "stream",
     "text": [
      "2 iterations done\n",
      "I will search for every paper who first authors is afiliated with Arizona State University Digital Immersion and published in the past 15 years.\n",
      "\n",
      "I am now querying ADS.\n",
      "\n",
      "DataFrame is empty! Something is wrong with the institution\n",
      "I am querying ADS in a different way, stay tuned!/n\n",
      "I will search for every paper who first authors is afiliated with Arizona State University Digital Immersion and published in the past 15 years.\n",
      "\n"
     ]
    },
    {
     "name": "stderr",
     "output_type": "stream",
     "text": [
      "/Users/jeggen/FERMI/FSSCtesting/reviewTools/ReviewerExtractor/codeV2/ADSsearcherpkg.py:124: FutureWarning: The frame.append method is deprecated and will be removed from pandas in a future version. Use pandas.concat instead.\n",
      "  final_df= final_df.append(data1, ignore_index= True)\n"
     ]
    },
    {
     "name": "stdout",
     "output_type": "stream",
     "text": [
      "3 iterations done\n",
      "I will search for every paper who first authors is afiliated with Arkansas State University and published in the past 15 years.\n",
      "\n",
      "I am now querying ADS.\n",
      "\n"
     ]
    },
    {
     "name": "stderr",
     "output_type": "stream",
     "text": [
      "/Users/jeggen/FERMI/FSSCtesting/reviewTools/ReviewerExtractor/codeV2/ADSsearcherpkg.py:124: FutureWarning: The frame.append method is deprecated and will be removed from pandas in a future version. Use pandas.concat instead.\n",
      "  final_df= final_df.append(data1, ignore_index= True)\n"
     ]
    },
    {
     "name": "stdout",
     "output_type": "stream",
     "text": [
      "4 iterations done\n",
      "I will search for every paper who first authors is afiliated with Augusta University and published in the past 15 years.\n",
      "\n",
      "I am now querying ADS.\n",
      "\n"
     ]
    },
    {
     "name": "stderr",
     "output_type": "stream",
     "text": [
      "/Users/jeggen/FERMI/FSSCtesting/reviewTools/ReviewerExtractor/codeV2/ADSsearcherpkg.py:124: FutureWarning: The frame.append method is deprecated and will be removed from pandas in a future version. Use pandas.concat instead.\n",
      "  final_df= final_df.append(data1, ignore_index= True)\n"
     ]
    },
    {
     "name": "stdout",
     "output_type": "stream",
     "text": [
      "5 iterations done\n",
      "I will search for every paper who first authors is afiliated with Azusa Pacific University and published in the past 15 years.\n",
      "\n",
      "I am now querying ADS.\n",
      "\n",
      "DataFrame is empty! Something is wrong with the institution\n",
      "I am querying ADS in a different way, stay tuned!/n\n",
      "I will search for every paper who first authors is afiliated with Azusa Pacific University and published in the past 15 years.\n",
      "\n"
     ]
    },
    {
     "name": "stderr",
     "output_type": "stream",
     "text": [
      "/Users/jeggen/FERMI/FSSCtesting/reviewTools/ReviewerExtractor/codeV2/ADSsearcherpkg.py:124: FutureWarning: The frame.append method is deprecated and will be removed from pandas in a future version. Use pandas.concat instead.\n",
      "  final_df= final_df.append(data1, ignore_index= True)\n"
     ]
    },
    {
     "name": "stdout",
     "output_type": "stream",
     "text": [
      "6 iterations done\n",
      "I will search for every paper who first authors is afiliated with Ball State University and published in the past 15 years.\n",
      "\n",
      "I am now querying ADS.\n",
      "\n"
     ]
    },
    {
     "name": "stderr",
     "output_type": "stream",
     "text": [
      "/Users/jeggen/FERMI/FSSCtesting/reviewTools/ReviewerExtractor/codeV2/ADSsearcherpkg.py:124: FutureWarning: The frame.append method is deprecated and will be removed from pandas in a future version. Use pandas.concat instead.\n",
      "  final_df= final_df.append(data1, ignore_index= True)\n"
     ]
    },
    {
     "name": "stdout",
     "output_type": "stream",
     "text": [
      "7 iterations done\n",
      "I will search for every paper who first authors is afiliated with Boise State University and published in the past 15 years.\n",
      "\n",
      "I am now querying ADS.\n",
      "\n"
     ]
    },
    {
     "name": "stderr",
     "output_type": "stream",
     "text": [
      "/Users/jeggen/FERMI/FSSCtesting/reviewTools/ReviewerExtractor/codeV2/ADSsearcherpkg.py:124: FutureWarning: The frame.append method is deprecated and will be removed from pandas in a future version. Use pandas.concat instead.\n",
      "  final_df= final_df.append(data1, ignore_index= True)\n"
     ]
    },
    {
     "name": "stdout",
     "output_type": "stream",
     "text": [
      "8 iterations done\n",
      "I will search for every paper who first authors is afiliated with Bowling Green State University-Main Campus and published in the past 15 years.\n",
      "\n",
      "I am now querying ADS.\n",
      "\n",
      "DataFrame is empty! Something is wrong with the institution\n",
      "I am querying ADS in a different way, stay tuned!/n\n",
      "I will search for every paper who first authors is afiliated with Bowling Green State University-Main Campus and published in the past 15 years.\n",
      "\n"
     ]
    },
    {
     "name": "stderr",
     "output_type": "stream",
     "text": [
      "/Users/jeggen/FERMI/FSSCtesting/reviewTools/ReviewerExtractor/codeV2/ADSsearcherpkg.py:124: FutureWarning: The frame.append method is deprecated and will be removed from pandas in a future version. Use pandas.concat instead.\n",
      "  final_df= final_df.append(data1, ignore_index= True)\n"
     ]
    },
    {
     "name": "stdout",
     "output_type": "stream",
     "text": [
      "9 iterations done\n",
      "I will search for every paper who first authors is afiliated with Brigham Young University and published in the past 15 years.\n",
      "\n",
      "I am now querying ADS.\n",
      "\n"
     ]
    },
    {
     "name": "stderr",
     "output_type": "stream",
     "text": [
      "/Users/jeggen/FERMI/FSSCtesting/reviewTools/ReviewerExtractor/codeV2/ADSsearcherpkg.py:124: FutureWarning: The frame.append method is deprecated and will be removed from pandas in a future version. Use pandas.concat instead.\n",
      "  final_df= final_df.append(data1, ignore_index= True)\n"
     ]
    },
    {
     "name": "stdout",
     "output_type": "stream",
     "text": [
      "10 iterations done\n",
      "I will search for every paper who first authors is afiliated with California State University-East Bay and published in the past 15 years.\n",
      "\n",
      "I am now querying ADS.\n",
      "\n",
      "DataFrame is empty! Something is wrong with the institution\n",
      "I am querying ADS in a different way, stay tuned!/n\n",
      "I will search for every paper who first authors is afiliated with California State University-East Bay and published in the past 15 years.\n",
      "\n"
     ]
    },
    {
     "name": "stderr",
     "output_type": "stream",
     "text": [
      "/Users/jeggen/FERMI/FSSCtesting/reviewTools/ReviewerExtractor/codeV2/ADSsearcherpkg.py:124: FutureWarning: The frame.append method is deprecated and will be removed from pandas in a future version. Use pandas.concat instead.\n",
      "  final_df= final_df.append(data1, ignore_index= True)\n"
     ]
    },
    {
     "name": "stdout",
     "output_type": "stream",
     "text": [
      "11 iterations done\n",
      "I will search for every paper who first authors is afiliated with California State University-Fresno and published in the past 15 years.\n",
      "\n",
      "I am now querying ADS.\n",
      "\n",
      "DataFrame is empty! Something is wrong with the institution\n",
      "I am querying ADS in a different way, stay tuned!/n\n",
      "I will search for every paper who first authors is afiliated with California State University-Fresno and published in the past 15 years.\n",
      "\n"
     ]
    },
    {
     "name": "stderr",
     "output_type": "stream",
     "text": [
      "/Users/jeggen/FERMI/FSSCtesting/reviewTools/ReviewerExtractor/codeV2/ADSsearcherpkg.py:124: FutureWarning: The frame.append method is deprecated and will be removed from pandas in a future version. Use pandas.concat instead.\n",
      "  final_df= final_df.append(data1, ignore_index= True)\n"
     ]
    },
    {
     "name": "stdout",
     "output_type": "stream",
     "text": [
      "12 iterations done\n",
      "I will search for every paper who first authors is afiliated with California State University-Fullerton and published in the past 15 years.\n",
      "\n",
      "I am now querying ADS.\n",
      "\n",
      "DataFrame is empty! Something is wrong with the institution\n",
      "I am querying ADS in a different way, stay tuned!/n\n",
      "I will search for every paper who first authors is afiliated with California State University-Fullerton and published in the past 15 years.\n",
      "\n"
     ]
    },
    {
     "name": "stderr",
     "output_type": "stream",
     "text": [
      "/Users/jeggen/FERMI/FSSCtesting/reviewTools/ReviewerExtractor/codeV2/ADSsearcherpkg.py:124: FutureWarning: The frame.append method is deprecated and will be removed from pandas in a future version. Use pandas.concat instead.\n",
      "  final_df= final_df.append(data1, ignore_index= True)\n"
     ]
    },
    {
     "name": "stdout",
     "output_type": "stream",
     "text": [
      "13 iterations done\n",
      "I will search for every paper who first authors is afiliated with California State University-Long Beach and published in the past 15 years.\n",
      "\n",
      "I am now querying ADS.\n",
      "\n",
      "DataFrame is empty! Something is wrong with the institution\n",
      "I am querying ADS in a different way, stay tuned!/n\n",
      "I will search for every paper who first authors is afiliated with California State University-Long Beach and published in the past 15 years.\n",
      "\n"
     ]
    },
    {
     "name": "stderr",
     "output_type": "stream",
     "text": [
      "/Users/jeggen/FERMI/FSSCtesting/reviewTools/ReviewerExtractor/codeV2/ADSsearcherpkg.py:124: FutureWarning: The frame.append method is deprecated and will be removed from pandas in a future version. Use pandas.concat instead.\n",
      "  final_df= final_df.append(data1, ignore_index= True)\n"
     ]
    },
    {
     "name": "stdout",
     "output_type": "stream",
     "text": [
      "14 iterations done\n",
      "I will search for every paper who first authors is afiliated with California State University-San Bernardino and published in the past 15 years.\n",
      "\n",
      "I am now querying ADS.\n",
      "\n",
      "DataFrame is empty! Something is wrong with the institution\n",
      "I am querying ADS in a different way, stay tuned!/n\n",
      "I will search for every paper who first authors is afiliated with California State University-San Bernardino and published in the past 15 years.\n",
      "\n"
     ]
    },
    {
     "name": "stderr",
     "output_type": "stream",
     "text": [
      "/Users/jeggen/FERMI/FSSCtesting/reviewTools/ReviewerExtractor/codeV2/ADSsearcherpkg.py:124: FutureWarning: The frame.append method is deprecated and will be removed from pandas in a future version. Use pandas.concat instead.\n",
      "  final_df= final_df.append(data1, ignore_index= True)\n"
     ]
    },
    {
     "name": "stdout",
     "output_type": "stream",
     "text": [
      "15 iterations done\n",
      "I will search for every paper who first authors is afiliated with Central Michigan University and published in the past 15 years.\n",
      "\n",
      "I am now querying ADS.\n",
      "\n"
     ]
    },
    {
     "name": "stderr",
     "output_type": "stream",
     "text": [
      "/Users/jeggen/FERMI/FSSCtesting/reviewTools/ReviewerExtractor/codeV2/ADSsearcherpkg.py:124: FutureWarning: The frame.append method is deprecated and will be removed from pandas in a future version. Use pandas.concat instead.\n",
      "  final_df= final_df.append(data1, ignore_index= True)\n"
     ]
    },
    {
     "name": "stdout",
     "output_type": "stream",
     "text": [
      "16 iterations done\n",
      "I will search for every paper who first authors is afiliated with Chapman University and published in the past 15 years.\n",
      "\n",
      "I am now querying ADS.\n",
      "\n"
     ]
    },
    {
     "name": "stderr",
     "output_type": "stream",
     "text": [
      "/Users/jeggen/FERMI/FSSCtesting/reviewTools/ReviewerExtractor/codeV2/ADSsearcherpkg.py:124: FutureWarning: The frame.append method is deprecated and will be removed from pandas in a future version. Use pandas.concat instead.\n",
      "  final_df= final_df.append(data1, ignore_index= True)\n"
     ]
    },
    {
     "name": "stdout",
     "output_type": "stream",
     "text": [
      "17 iterations done\n",
      "I will search for every paper who first authors is afiliated with Claremont Graduate University and published in the past 15 years.\n",
      "\n",
      "I am now querying ADS.\n",
      "\n",
      "DataFrame is empty! Something is wrong with the institution\n",
      "I am querying ADS in a different way, stay tuned!/n\n",
      "I will search for every paper who first authors is afiliated with Claremont Graduate University and published in the past 15 years.\n",
      "\n"
     ]
    },
    {
     "name": "stderr",
     "output_type": "stream",
     "text": [
      "/Users/jeggen/FERMI/FSSCtesting/reviewTools/ReviewerExtractor/codeV2/ADSsearcherpkg.py:124: FutureWarning: The frame.append method is deprecated and will be removed from pandas in a future version. Use pandas.concat instead.\n",
      "  final_df= final_df.append(data1, ignore_index= True)\n"
     ]
    },
    {
     "name": "stdout",
     "output_type": "stream",
     "text": [
      "18 iterations done\n",
      "I will search for every paper who first authors is afiliated with Clark Atlanta University and published in the past 15 years.\n",
      "\n",
      "I am now querying ADS.\n",
      "\n"
     ]
    },
    {
     "name": "stderr",
     "output_type": "stream",
     "text": [
      "/Users/jeggen/FERMI/FSSCtesting/reviewTools/ReviewerExtractor/codeV2/ADSsearcherpkg.py:124: FutureWarning: The frame.append method is deprecated and will be removed from pandas in a future version. Use pandas.concat instead.\n",
      "  final_df= final_df.append(data1, ignore_index= True)\n"
     ]
    },
    {
     "name": "stdout",
     "output_type": "stream",
     "text": [
      "19 iterations done\n",
      "I will search for every paper who first authors is afiliated with Clark University and published in the past 15 years.\n",
      "\n",
      "I am now querying ADS.\n",
      "\n"
     ]
    },
    {
     "name": "stderr",
     "output_type": "stream",
     "text": [
      "/Users/jeggen/FERMI/FSSCtesting/reviewTools/ReviewerExtractor/codeV2/ADSsearcherpkg.py:124: FutureWarning: The frame.append method is deprecated and will be removed from pandas in a future version. Use pandas.concat instead.\n",
      "  final_df= final_df.append(data1, ignore_index= True)\n"
     ]
    },
    {
     "name": "stdout",
     "output_type": "stream",
     "text": [
      "20 iterations done\n",
      "I will search for every paper who first authors is afiliated with Clarkson University and published in the past 15 years.\n",
      "\n",
      "I am now querying ADS.\n",
      "\n"
     ]
    },
    {
     "name": "stderr",
     "output_type": "stream",
     "text": [
      "/Users/jeggen/FERMI/FSSCtesting/reviewTools/ReviewerExtractor/codeV2/ADSsearcherpkg.py:124: FutureWarning: The frame.append method is deprecated and will be removed from pandas in a future version. Use pandas.concat instead.\n",
      "  final_df= final_df.append(data1, ignore_index= True)\n"
     ]
    },
    {
     "name": "stdout",
     "output_type": "stream",
     "text": [
      "21 iterations done\n",
      "I will search for every paper who first authors is afiliated with Cleveland State University and published in the past 15 years.\n",
      "\n",
      "I am now querying ADS.\n",
      "\n"
     ]
    },
    {
     "name": "stderr",
     "output_type": "stream",
     "text": [
      "/Users/jeggen/FERMI/FSSCtesting/reviewTools/ReviewerExtractor/codeV2/ADSsearcherpkg.py:124: FutureWarning: The frame.append method is deprecated and will be removed from pandas in a future version. Use pandas.concat instead.\n",
      "  final_df= final_df.append(data1, ignore_index= True)\n"
     ]
    },
    {
     "name": "stdout",
     "output_type": "stream",
     "text": [
      "22 iterations done\n",
      "I will search for every paper who first authors is afiliated with Creighton University and published in the past 15 years.\n",
      "\n",
      "I am now querying ADS.\n",
      "\n"
     ]
    },
    {
     "name": "stderr",
     "output_type": "stream",
     "text": [
      "/Users/jeggen/FERMI/FSSCtesting/reviewTools/ReviewerExtractor/codeV2/ADSsearcherpkg.py:124: FutureWarning: The frame.append method is deprecated and will be removed from pandas in a future version. Use pandas.concat instead.\n",
      "  final_df= final_df.append(data1, ignore_index= True)\n"
     ]
    },
    {
     "name": "stdout",
     "output_type": "stream",
     "text": [
      "23 iterations done\n",
      "I will search for every paper who first authors is afiliated with CUNY City College and published in the past 15 years.\n",
      "\n",
      "I am now querying ADS.\n",
      "\n",
      "DataFrame is empty! Something is wrong with the institution\n",
      "I am querying ADS in a different way, stay tuned!/n\n",
      "I will search for every paper who first authors is afiliated with CUNY City College and published in the past 15 years.\n",
      "\n"
     ]
    },
    {
     "name": "stderr",
     "output_type": "stream",
     "text": [
      "/Users/jeggen/FERMI/FSSCtesting/reviewTools/ReviewerExtractor/codeV2/ADSsearcherpkg.py:124: FutureWarning: The frame.append method is deprecated and will be removed from pandas in a future version. Use pandas.concat instead.\n",
      "  final_df= final_df.append(data1, ignore_index= True)\n"
     ]
    },
    {
     "name": "stdout",
     "output_type": "stream",
     "text": [
      "24 iterations done\n",
      "I will search for every paper who first authors is afiliated with DePaul University and published in the past 15 years.\n",
      "\n",
      "I am now querying ADS.\n",
      "\n"
     ]
    },
    {
     "name": "stderr",
     "output_type": "stream",
     "text": [
      "/Users/jeggen/FERMI/FSSCtesting/reviewTools/ReviewerExtractor/codeV2/ADSsearcherpkg.py:124: FutureWarning: The frame.append method is deprecated and will be removed from pandas in a future version. Use pandas.concat instead.\n",
      "  final_df= final_df.append(data1, ignore_index= True)\n"
     ]
    },
    {
     "name": "stdout",
     "output_type": "stream",
     "text": [
      "25 iterations done\n",
      "I will search for every paper who first authors is afiliated with Duquesne University and published in the past 15 years.\n",
      "\n",
      "I am now querying ADS.\n",
      "\n"
     ]
    },
    {
     "name": "stderr",
     "output_type": "stream",
     "text": [
      "/Users/jeggen/FERMI/FSSCtesting/reviewTools/ReviewerExtractor/codeV2/ADSsearcherpkg.py:124: FutureWarning: The frame.append method is deprecated and will be removed from pandas in a future version. Use pandas.concat instead.\n",
      "  final_df= final_df.append(data1, ignore_index= True)\n"
     ]
    },
    {
     "name": "stdout",
     "output_type": "stream",
     "text": [
      "26 iterations done\n",
      "I will search for every paper who first authors is afiliated with East Carolina University and published in the past 15 years.\n",
      "\n",
      "I am now querying ADS.\n",
      "\n"
     ]
    },
    {
     "name": "stderr",
     "output_type": "stream",
     "text": [
      "/Users/jeggen/FERMI/FSSCtesting/reviewTools/ReviewerExtractor/codeV2/ADSsearcherpkg.py:124: FutureWarning: The frame.append method is deprecated and will be removed from pandas in a future version. Use pandas.concat instead.\n",
      "  final_df= final_df.append(data1, ignore_index= True)\n"
     ]
    },
    {
     "name": "stdout",
     "output_type": "stream",
     "text": [
      "27 iterations done\n",
      "I will search for every paper who first authors is afiliated with East Tennessee State University and published in the past 15 years.\n",
      "\n",
      "I am now querying ADS.\n",
      "\n",
      "DataFrame is empty! Something is wrong with the institution\n",
      "I am querying ADS in a different way, stay tuned!/n\n",
      "I will search for every paper who first authors is afiliated with East Tennessee State University and published in the past 15 years.\n",
      "\n"
     ]
    },
    {
     "name": "stderr",
     "output_type": "stream",
     "text": [
      "/Users/jeggen/FERMI/FSSCtesting/reviewTools/ReviewerExtractor/codeV2/ADSsearcherpkg.py:124: FutureWarning: The frame.append method is deprecated and will be removed from pandas in a future version. Use pandas.concat instead.\n",
      "  final_df= final_df.append(data1, ignore_index= True)\n"
     ]
    },
    {
     "name": "stdout",
     "output_type": "stream",
     "text": [
      "28 iterations done\n",
      "I will search for every paper who first authors is afiliated with Eastern Michigan University and published in the past 15 years.\n",
      "\n",
      "I am now querying ADS.\n",
      "\n"
     ]
    },
    {
     "name": "stderr",
     "output_type": "stream",
     "text": [
      "/Users/jeggen/FERMI/FSSCtesting/reviewTools/ReviewerExtractor/codeV2/ADSsearcherpkg.py:124: FutureWarning: The frame.append method is deprecated and will be removed from pandas in a future version. Use pandas.concat instead.\n",
      "  final_df= final_df.append(data1, ignore_index= True)\n"
     ]
    },
    {
     "name": "stdout",
     "output_type": "stream",
     "text": [
      "29 iterations done\n",
      "I will search for every paper who first authors is afiliated with Florida Agricultural and Mechanical University and published in the past 15 years.\n",
      "\n",
      "I am now querying ADS.\n",
      "\n",
      "DataFrame is empty! Something is wrong with the institution\n",
      "I am querying ADS in a different way, stay tuned!/n\n",
      "I will search for every paper who first authors is afiliated with Florida Agricultural and Mechanical University and published in the past 15 years.\n",
      "\n"
     ]
    },
    {
     "name": "stderr",
     "output_type": "stream",
     "text": [
      "/Users/jeggen/FERMI/FSSCtesting/reviewTools/ReviewerExtractor/codeV2/ADSsearcherpkg.py:124: FutureWarning: The frame.append method is deprecated and will be removed from pandas in a future version. Use pandas.concat instead.\n",
      "  final_df= final_df.append(data1, ignore_index= True)\n"
     ]
    },
    {
     "name": "stdout",
     "output_type": "stream",
     "text": [
      "30 iterations done\n",
      "I will search for every paper who first authors is afiliated with Florida Atlantic University and published in the past 15 years.\n",
      "\n",
      "I am now querying ADS.\n",
      "\n"
     ]
    },
    {
     "name": "stderr",
     "output_type": "stream",
     "text": [
      "/Users/jeggen/FERMI/FSSCtesting/reviewTools/ReviewerExtractor/codeV2/ADSsearcherpkg.py:124: FutureWarning: The frame.append method is deprecated and will be removed from pandas in a future version. Use pandas.concat instead.\n",
      "  final_df= final_df.append(data1, ignore_index= True)\n"
     ]
    },
    {
     "name": "stdout",
     "output_type": "stream",
     "text": [
      "31 iterations done\n",
      "I will search for every paper who first authors is afiliated with Florida Institute of Technology and published in the past 15 years.\n",
      "\n",
      "I am now querying ADS.\n",
      "\n"
     ]
    },
    {
     "name": "stderr",
     "output_type": "stream",
     "text": [
      "/Users/jeggen/FERMI/FSSCtesting/reviewTools/ReviewerExtractor/codeV2/ADSsearcherpkg.py:124: FutureWarning: The frame.append method is deprecated and will be removed from pandas in a future version. Use pandas.concat instead.\n",
      "  final_df= final_df.append(data1, ignore_index= True)\n"
     ]
    },
    {
     "name": "stdout",
     "output_type": "stream",
     "text": [
      "32 iterations done\n",
      "I will search for every paper who first authors is afiliated with Fordham University and published in the past 15 years.\n",
      "\n",
      "I am now querying ADS.\n",
      "\n"
     ]
    },
    {
     "name": "stderr",
     "output_type": "stream",
     "text": [
      "/Users/jeggen/FERMI/FSSCtesting/reviewTools/ReviewerExtractor/codeV2/ADSsearcherpkg.py:124: FutureWarning: The frame.append method is deprecated and will be removed from pandas in a future version. Use pandas.concat instead.\n",
      "  final_df= final_df.append(data1, ignore_index= True)\n"
     ]
    },
    {
     "name": "stdout",
     "output_type": "stream",
     "text": [
      "33 iterations done\n",
      "I will search for every paper who first authors is afiliated with Georgia Southern University and published in the past 15 years.\n",
      "\n",
      "I am now querying ADS.\n",
      "\n"
     ]
    },
    {
     "name": "stderr",
     "output_type": "stream",
     "text": [
      "/Users/jeggen/FERMI/FSSCtesting/reviewTools/ReviewerExtractor/codeV2/ADSsearcherpkg.py:124: FutureWarning: The frame.append method is deprecated and will be removed from pandas in a future version. Use pandas.concat instead.\n",
      "  final_df= final_df.append(data1, ignore_index= True)\n"
     ]
    },
    {
     "name": "stdout",
     "output_type": "stream",
     "text": [
      "34 iterations done\n",
      "I will search for every paper who first authors is afiliated with Howard University and published in the past 15 years.\n",
      "\n",
      "I am now querying ADS.\n",
      "\n"
     ]
    },
    {
     "name": "stderr",
     "output_type": "stream",
     "text": [
      "/Users/jeggen/FERMI/FSSCtesting/reviewTools/ReviewerExtractor/codeV2/ADSsearcherpkg.py:124: FutureWarning: The frame.append method is deprecated and will be removed from pandas in a future version. Use pandas.concat instead.\n",
      "  final_df= final_df.append(data1, ignore_index= True)\n"
     ]
    },
    {
     "name": "stdout",
     "output_type": "stream",
     "text": [
      "35 iterations done\n",
      "I will search for every paper who first authors is afiliated with Idaho State University and published in the past 15 years.\n",
      "\n",
      "I am now querying ADS.\n",
      "\n"
     ]
    },
    {
     "name": "stderr",
     "output_type": "stream",
     "text": [
      "/Users/jeggen/FERMI/FSSCtesting/reviewTools/ReviewerExtractor/codeV2/ADSsearcherpkg.py:124: FutureWarning: The frame.append method is deprecated and will be removed from pandas in a future version. Use pandas.concat instead.\n",
      "  final_df= final_df.append(data1, ignore_index= True)\n"
     ]
    },
    {
     "name": "stdout",
     "output_type": "stream",
     "text": [
      "36 iterations done\n",
      "I will search for every paper who first authors is afiliated with Illinois Institute of Technology and published in the past 15 years.\n",
      "\n",
      "I am now querying ADS.\n",
      "\n"
     ]
    },
    {
     "name": "stderr",
     "output_type": "stream",
     "text": [
      "/Users/jeggen/FERMI/FSSCtesting/reviewTools/ReviewerExtractor/codeV2/ADSsearcherpkg.py:124: FutureWarning: The frame.append method is deprecated and will be removed from pandas in a future version. Use pandas.concat instead.\n",
      "  final_df= final_df.append(data1, ignore_index= True)\n"
     ]
    },
    {
     "name": "stdout",
     "output_type": "stream",
     "text": [
      "37 iterations done\n",
      "I will search for every paper who first authors is afiliated with Illinois State University and published in the past 15 years.\n",
      "\n",
      "I am now querying ADS.\n",
      "\n",
      "DataFrame is empty! Something is wrong with the institution\n",
      "I am querying ADS in a different way, stay tuned!/n\n",
      "I will search for every paper who first authors is afiliated with Illinois State University and published in the past 15 years.\n",
      "\n"
     ]
    },
    {
     "name": "stderr",
     "output_type": "stream",
     "text": [
      "/Users/jeggen/FERMI/FSSCtesting/reviewTools/ReviewerExtractor/codeV2/ADSsearcherpkg.py:124: FutureWarning: The frame.append method is deprecated and will be removed from pandas in a future version. Use pandas.concat instead.\n",
      "  final_df= final_df.append(data1, ignore_index= True)\n"
     ]
    },
    {
     "name": "stdout",
     "output_type": "stream",
     "text": [
      "38 iterations done\n",
      "I will search for every paper who first authors is afiliated with Indiana University of Pennsylvania-Main Campus and published in the past 15 years.\n",
      "\n",
      "I am now querying ADS.\n",
      "\n",
      "DataFrame is empty! Something is wrong with the institution\n",
      "I am querying ADS in a different way, stay tuned!/n\n",
      "I will search for every paper who first authors is afiliated with Indiana University of Pennsylvania-Main Campus and published in the past 15 years.\n",
      "\n"
     ]
    },
    {
     "name": "stderr",
     "output_type": "stream",
     "text": [
      "/Users/jeggen/FERMI/FSSCtesting/reviewTools/ReviewerExtractor/codeV2/ADSsearcherpkg.py:124: FutureWarning: The frame.append method is deprecated and will be removed from pandas in a future version. Use pandas.concat instead.\n",
      "  final_df= final_df.append(data1, ignore_index= True)\n"
     ]
    },
    {
     "name": "stdout",
     "output_type": "stream",
     "text": [
      "39 iterations done\n",
      "I will search for every paper who first authors is afiliated with Indiana University-Purdue University-Indianapolis and published in the past 15 years.\n",
      "\n",
      "I am now querying ADS.\n",
      "\n",
      "DataFrame is empty! Something is wrong with the institution\n",
      "I am querying ADS in a different way, stay tuned!/n\n",
      "I will search for every paper who first authors is afiliated with Indiana University-Purdue University-Indianapolis and published in the past 15 years.\n",
      "\n"
     ]
    },
    {
     "name": "stderr",
     "output_type": "stream",
     "text": [
      "/Users/jeggen/FERMI/FSSCtesting/reviewTools/ReviewerExtractor/codeV2/ADSsearcherpkg.py:124: FutureWarning: The frame.append method is deprecated and will be removed from pandas in a future version. Use pandas.concat instead.\n",
      "  final_df= final_df.append(data1, ignore_index= True)\n"
     ]
    },
    {
     "name": "stdout",
     "output_type": "stream",
     "text": [
      "40 iterations done\n",
      "I will search for every paper who first authors is afiliated with Jackson State University and published in the past 15 years.\n",
      "\n",
      "I am now querying ADS.\n",
      "\n"
     ]
    },
    {
     "name": "stderr",
     "output_type": "stream",
     "text": [
      "/Users/jeggen/FERMI/FSSCtesting/reviewTools/ReviewerExtractor/codeV2/ADSsearcherpkg.py:124: FutureWarning: The frame.append method is deprecated and will be removed from pandas in a future version. Use pandas.concat instead.\n",
      "  final_df= final_df.append(data1, ignore_index= True)\n"
     ]
    },
    {
     "name": "stdout",
     "output_type": "stream",
     "text": [
      "41 iterations done\n",
      "I will search for every paper who first authors is afiliated with James Madison University and published in the past 15 years.\n",
      "\n",
      "I am now querying ADS.\n",
      "\n"
     ]
    },
    {
     "name": "stderr",
     "output_type": "stream",
     "text": [
      "/Users/jeggen/FERMI/FSSCtesting/reviewTools/ReviewerExtractor/codeV2/ADSsearcherpkg.py:124: FutureWarning: The frame.append method is deprecated and will be removed from pandas in a future version. Use pandas.concat instead.\n",
      "  final_df= final_df.append(data1, ignore_index= True)\n"
     ]
    },
    {
     "name": "stdout",
     "output_type": "stream",
     "text": [
      "42 iterations done\n",
      "I will search for every paper who first authors is afiliated with Kennesaw State University and published in the past 15 years.\n",
      "\n",
      "I am now querying ADS.\n",
      "\n"
     ]
    },
    {
     "name": "stderr",
     "output_type": "stream",
     "text": [
      "/Users/jeggen/FERMI/FSSCtesting/reviewTools/ReviewerExtractor/codeV2/ADSsearcherpkg.py:124: FutureWarning: The frame.append method is deprecated and will be removed from pandas in a future version. Use pandas.concat instead.\n",
      "  final_df= final_df.append(data1, ignore_index= True)\n"
     ]
    },
    {
     "name": "stdout",
     "output_type": "stream",
     "text": [
      "43 iterations done\n",
      "I will search for every paper who first authors is afiliated with Lehigh University and published in the past 15 years.\n",
      "\n",
      "I am now querying ADS.\n",
      "\n"
     ]
    },
    {
     "name": "stderr",
     "output_type": "stream",
     "text": [
      "/Users/jeggen/FERMI/FSSCtesting/reviewTools/ReviewerExtractor/codeV2/ADSsearcherpkg.py:124: FutureWarning: The frame.append method is deprecated and will be removed from pandas in a future version. Use pandas.concat instead.\n",
      "  final_df= final_df.append(data1, ignore_index= True)\n"
     ]
    },
    {
     "name": "stdout",
     "output_type": "stream",
     "text": [
      "44 iterations done\n",
      "I will search for every paper who first authors is afiliated with Loma Linda University and published in the past 15 years.\n",
      "\n",
      "I am now querying ADS.\n",
      "\n",
      "DataFrame is empty! Something is wrong with the institution\n",
      "I am querying ADS in a different way, stay tuned!/n\n",
      "I will search for every paper who first authors is afiliated with Loma Linda University and published in the past 15 years.\n",
      "\n"
     ]
    },
    {
     "name": "stderr",
     "output_type": "stream",
     "text": [
      "/Users/jeggen/FERMI/FSSCtesting/reviewTools/ReviewerExtractor/codeV2/ADSsearcherpkg.py:124: FutureWarning: The frame.append method is deprecated and will be removed from pandas in a future version. Use pandas.concat instead.\n",
      "  final_df= final_df.append(data1, ignore_index= True)\n"
     ]
    },
    {
     "name": "stdout",
     "output_type": "stream",
     "text": [
      "45 iterations done\n",
      "I will search for every paper who first authors is afiliated with Long Island University and published in the past 15 years.\n",
      "\n",
      "I am now querying ADS.\n",
      "\n"
     ]
    },
    {
     "name": "stderr",
     "output_type": "stream",
     "text": [
      "/Users/jeggen/FERMI/FSSCtesting/reviewTools/ReviewerExtractor/codeV2/ADSsearcherpkg.py:124: FutureWarning: The frame.append method is deprecated and will be removed from pandas in a future version. Use pandas.concat instead.\n",
      "  final_df= final_df.append(data1, ignore_index= True)\n"
     ]
    },
    {
     "name": "stdout",
     "output_type": "stream",
     "text": [
      "46 iterations done\n",
      "I will search for every paper who first authors is afiliated with Louisiana Tech University and published in the past 15 years.\n",
      "\n",
      "I am now querying ADS.\n",
      "\n",
      "DataFrame is empty! Something is wrong with the institution\n",
      "I am querying ADS in a different way, stay tuned!/n\n",
      "I will search for every paper who first authors is afiliated with Louisiana Tech University and published in the past 15 years.\n",
      "\n"
     ]
    },
    {
     "name": "stderr",
     "output_type": "stream",
     "text": [
      "/Users/jeggen/FERMI/FSSCtesting/reviewTools/ReviewerExtractor/codeV2/ADSsearcherpkg.py:124: FutureWarning: The frame.append method is deprecated and will be removed from pandas in a future version. Use pandas.concat instead.\n",
      "  final_df= final_df.append(data1, ignore_index= True)\n"
     ]
    },
    {
     "name": "stdout",
     "output_type": "stream",
     "text": [
      "47 iterations done\n",
      "I will search for every paper who first authors is afiliated with Loyola Marymount University and published in the past 15 years.\n",
      "\n",
      "I am now querying ADS.\n",
      "\n"
     ]
    },
    {
     "name": "stderr",
     "output_type": "stream",
     "text": [
      "/Users/jeggen/FERMI/FSSCtesting/reviewTools/ReviewerExtractor/codeV2/ADSsearcherpkg.py:124: FutureWarning: The frame.append method is deprecated and will be removed from pandas in a future version. Use pandas.concat instead.\n",
      "  final_df= final_df.append(data1, ignore_index= True)\n"
     ]
    },
    {
     "name": "stdout",
     "output_type": "stream",
     "text": [
      "48 iterations done\n",
      "I will search for every paper who first authors is afiliated with Loyola University Chicago and published in the past 15 years.\n",
      "\n",
      "I am now querying ADS.\n",
      "\n"
     ]
    },
    {
     "name": "stderr",
     "output_type": "stream",
     "text": [
      "/Users/jeggen/FERMI/FSSCtesting/reviewTools/ReviewerExtractor/codeV2/ADSsearcherpkg.py:124: FutureWarning: The frame.append method is deprecated and will be removed from pandas in a future version. Use pandas.concat instead.\n",
      "  final_df= final_df.append(data1, ignore_index= True)\n"
     ]
    },
    {
     "name": "stdout",
     "output_type": "stream",
     "text": [
      "49 iterations done\n",
      "I will search for every paper who first authors is afiliated with Marquette University and published in the past 15 years.\n",
      "\n",
      "I am now querying ADS.\n",
      "\n"
     ]
    },
    {
     "name": "stderr",
     "output_type": "stream",
     "text": [
      "/Users/jeggen/FERMI/FSSCtesting/reviewTools/ReviewerExtractor/codeV2/ADSsearcherpkg.py:124: FutureWarning: The frame.append method is deprecated and will be removed from pandas in a future version. Use pandas.concat instead.\n",
      "  final_df= final_df.append(data1, ignore_index= True)\n"
     ]
    },
    {
     "name": "stdout",
     "output_type": "stream",
     "text": [
      "50 iterations done\n",
      "I will search for every paper who first authors is afiliated with Marshall University and published in the past 15 years.\n",
      "\n",
      "I am now querying ADS.\n",
      "\n"
     ]
    },
    {
     "name": "stderr",
     "output_type": "stream",
     "text": [
      "/Users/jeggen/FERMI/FSSCtesting/reviewTools/ReviewerExtractor/codeV2/ADSsearcherpkg.py:124: FutureWarning: The frame.append method is deprecated and will be removed from pandas in a future version. Use pandas.concat instead.\n",
      "  final_df= final_df.append(data1, ignore_index= True)\n"
     ]
    },
    {
     "name": "stdout",
     "output_type": "stream",
     "text": [
      "51 iterations done\n",
      "I will search for every paper who first authors is afiliated with Mercer University and published in the past 15 years.\n",
      "\n",
      "I am now querying ADS.\n",
      "\n"
     ]
    },
    {
     "name": "stderr",
     "output_type": "stream",
     "text": [
      "/Users/jeggen/FERMI/FSSCtesting/reviewTools/ReviewerExtractor/codeV2/ADSsearcherpkg.py:124: FutureWarning: The frame.append method is deprecated and will be removed from pandas in a future version. Use pandas.concat instead.\n",
      "  final_df= final_df.append(data1, ignore_index= True)\n"
     ]
    },
    {
     "name": "stdout",
     "output_type": "stream",
     "text": [
      "52 iterations done\n",
      "I will search for every paper who first authors is afiliated with Miami University-Oxford and published in the past 15 years.\n",
      "\n",
      "I am now querying ADS.\n",
      "\n",
      "DataFrame is empty! Something is wrong with the institution\n",
      "I am querying ADS in a different way, stay tuned!/n\n",
      "I will search for every paper who first authors is afiliated with Miami University-Oxford and published in the past 15 years.\n",
      "\n"
     ]
    },
    {
     "name": "stderr",
     "output_type": "stream",
     "text": [
      "/Users/jeggen/FERMI/FSSCtesting/reviewTools/ReviewerExtractor/codeV2/ADSsearcherpkg.py:124: FutureWarning: The frame.append method is deprecated and will be removed from pandas in a future version. Use pandas.concat instead.\n",
      "  final_df= final_df.append(data1, ignore_index= True)\n"
     ]
    },
    {
     "name": "stdout",
     "output_type": "stream",
     "text": [
      "53 iterations done\n",
      "I will search for every paper who first authors is afiliated with Michigan Technological University and published in the past 15 years.\n",
      "\n",
      "I am now querying ADS.\n",
      "\n"
     ]
    },
    {
     "name": "stderr",
     "output_type": "stream",
     "text": [
      "/Users/jeggen/FERMI/FSSCtesting/reviewTools/ReviewerExtractor/codeV2/ADSsearcherpkg.py:124: FutureWarning: The frame.append method is deprecated and will be removed from pandas in a future version. Use pandas.concat instead.\n",
      "  final_df= final_df.append(data1, ignore_index= True)\n"
     ]
    },
    {
     "name": "stdout",
     "output_type": "stream",
     "text": [
      "54 iterations done\n",
      "I will search for every paper who first authors is afiliated with Middle Tennessee State University and published in the past 15 years.\n",
      "\n",
      "I am now querying ADS.\n",
      "\n"
     ]
    },
    {
     "name": "stderr",
     "output_type": "stream",
     "text": [
      "/Users/jeggen/FERMI/FSSCtesting/reviewTools/ReviewerExtractor/codeV2/ADSsearcherpkg.py:124: FutureWarning: The frame.append method is deprecated and will be removed from pandas in a future version. Use pandas.concat instead.\n",
      "  final_df= final_df.append(data1, ignore_index= True)\n"
     ]
    },
    {
     "name": "stdout",
     "output_type": "stream",
     "text": [
      "55 iterations done\n",
      "I will search for every paper who first authors is afiliated with Missouri University of Science and Technology and published in the past 15 years.\n",
      "\n",
      "I am now querying ADS.\n",
      "\n",
      "DataFrame is empty! Something is wrong with the institution\n",
      "I am querying ADS in a different way, stay tuned!/n\n",
      "I will search for every paper who first authors is afiliated with Missouri University of Science and Technology and published in the past 15 years.\n",
      "\n"
     ]
    },
    {
     "name": "stderr",
     "output_type": "stream",
     "text": [
      "/Users/jeggen/FERMI/FSSCtesting/reviewTools/ReviewerExtractor/codeV2/ADSsearcherpkg.py:124: FutureWarning: The frame.append method is deprecated and will be removed from pandas in a future version. Use pandas.concat instead.\n",
      "  final_df= final_df.append(data1, ignore_index= True)\n"
     ]
    },
    {
     "name": "stdout",
     "output_type": "stream",
     "text": [
      "56 iterations done\n",
      "I will search for every paper who first authors is afiliated with Montclair State University and published in the past 15 years.\n",
      "\n",
      "I am now querying ADS.\n",
      "\n"
     ]
    },
    {
     "name": "stderr",
     "output_type": "stream",
     "text": [
      "/Users/jeggen/FERMI/FSSCtesting/reviewTools/ReviewerExtractor/codeV2/ADSsearcherpkg.py:124: FutureWarning: The frame.append method is deprecated and will be removed from pandas in a future version. Use pandas.concat instead.\n",
      "  final_df= final_df.append(data1, ignore_index= True)\n"
     ]
    },
    {
     "name": "stdout",
     "output_type": "stream",
     "text": [
      "57 iterations done\n",
      "I will search for every paper who first authors is afiliated with Morgan State University and published in the past 15 years.\n",
      "\n",
      "I am now querying ADS.\n",
      "\n"
     ]
    },
    {
     "name": "stderr",
     "output_type": "stream",
     "text": [
      "/Users/jeggen/FERMI/FSSCtesting/reviewTools/ReviewerExtractor/codeV2/ADSsearcherpkg.py:124: FutureWarning: The frame.append method is deprecated and will be removed from pandas in a future version. Use pandas.concat instead.\n",
      "  final_df= final_df.append(data1, ignore_index= True)\n"
     ]
    },
    {
     "name": "stdout",
     "output_type": "stream",
     "text": [
      "58 iterations done\n",
      "I will search for every paper who first authors is afiliated with New Mexico State University-Main Campus and published in the past 15 years.\n",
      "\n",
      "I am now querying ADS.\n",
      "\n",
      "DataFrame is empty! Something is wrong with the institution\n",
      "I am querying ADS in a different way, stay tuned!/n\n",
      "I will search for every paper who first authors is afiliated with New Mexico State University-Main Campus and published in the past 15 years.\n",
      "\n"
     ]
    },
    {
     "name": "stderr",
     "output_type": "stream",
     "text": [
      "/Users/jeggen/FERMI/FSSCtesting/reviewTools/ReviewerExtractor/codeV2/ADSsearcherpkg.py:124: FutureWarning: The frame.append method is deprecated and will be removed from pandas in a future version. Use pandas.concat instead.\n",
      "  final_df= final_df.append(data1, ignore_index= True)\n"
     ]
    },
    {
     "name": "stdout",
     "output_type": "stream",
     "text": [
      "59 iterations done\n",
      "I will search for every paper who first authors is afiliated with North Carolina A & T State University and published in the past 15 years.\n",
      "\n",
      "I am now querying ADS.\n",
      "\n",
      "DataFrame is empty! Something is wrong with the institution\n",
      "I am querying ADS in a different way, stay tuned!/n\n",
      "I will search for every paper who first authors is afiliated with North Carolina A & T State University and published in the past 15 years.\n",
      "\n"
     ]
    },
    {
     "name": "stderr",
     "output_type": "stream",
     "text": [
      "/Users/jeggen/FERMI/FSSCtesting/reviewTools/ReviewerExtractor/codeV2/ADSsearcherpkg.py:124: FutureWarning: The frame.append method is deprecated and will be removed from pandas in a future version. Use pandas.concat instead.\n",
      "  final_df= final_df.append(data1, ignore_index= True)\n"
     ]
    },
    {
     "name": "stdout",
     "output_type": "stream",
     "text": [
      "60 iterations done\n",
      "I will search for every paper who first authors is afiliated with Northern Arizona University and published in the past 15 years.\n",
      "\n",
      "I am now querying ADS.\n",
      "\n"
     ]
    },
    {
     "name": "stderr",
     "output_type": "stream",
     "text": [
      "/Users/jeggen/FERMI/FSSCtesting/reviewTools/ReviewerExtractor/codeV2/ADSsearcherpkg.py:124: FutureWarning: The frame.append method is deprecated and will be removed from pandas in a future version. Use pandas.concat instead.\n",
      "  final_df= final_df.append(data1, ignore_index= True)\n"
     ]
    },
    {
     "name": "stdout",
     "output_type": "stream",
     "text": [
      "61 iterations done\n",
      "I will search for every paper who first authors is afiliated with Northern Illinois University and published in the past 15 years.\n",
      "\n",
      "I am now querying ADS.\n",
      "\n"
     ]
    },
    {
     "name": "stderr",
     "output_type": "stream",
     "text": [
      "/Users/jeggen/FERMI/FSSCtesting/reviewTools/ReviewerExtractor/codeV2/ADSsearcherpkg.py:124: FutureWarning: The frame.append method is deprecated and will be removed from pandas in a future version. Use pandas.concat instead.\n",
      "  final_df= final_df.append(data1, ignore_index= True)\n"
     ]
    },
    {
     "name": "stdout",
     "output_type": "stream",
     "text": [
      "62 iterations done\n",
      "I will search for every paper who first authors is afiliated with Nova Southeastern University and published in the past 15 years.\n",
      "\n",
      "I am now querying ADS.\n",
      "\n"
     ]
    },
    {
     "name": "stderr",
     "output_type": "stream",
     "text": [
      "/Users/jeggen/FERMI/FSSCtesting/reviewTools/ReviewerExtractor/codeV2/ADSsearcherpkg.py:124: FutureWarning: The frame.append method is deprecated and will be removed from pandas in a future version. Use pandas.concat instead.\n",
      "  final_df= final_df.append(data1, ignore_index= True)\n"
     ]
    },
    {
     "name": "stdout",
     "output_type": "stream",
     "text": [
      "63 iterations done\n",
      "I will search for every paper who first authors is afiliated with Oakland University and published in the past 15 years.\n",
      "\n",
      "I am now querying ADS.\n",
      "\n"
     ]
    },
    {
     "name": "stderr",
     "output_type": "stream",
     "text": [
      "/Users/jeggen/FERMI/FSSCtesting/reviewTools/ReviewerExtractor/codeV2/ADSsearcherpkg.py:124: FutureWarning: The frame.append method is deprecated and will be removed from pandas in a future version. Use pandas.concat instead.\n",
      "  final_df= final_df.append(data1, ignore_index= True)\n"
     ]
    },
    {
     "name": "stdout",
     "output_type": "stream",
     "text": [
      "64 iterations done\n",
      "I will search for every paper who first authors is afiliated with Portland State University and published in the past 15 years.\n",
      "\n",
      "I am now querying ADS.\n",
      "\n"
     ]
    },
    {
     "name": "stderr",
     "output_type": "stream",
     "text": [
      "/Users/jeggen/FERMI/FSSCtesting/reviewTools/ReviewerExtractor/codeV2/ADSsearcherpkg.py:124: FutureWarning: The frame.append method is deprecated and will be removed from pandas in a future version. Use pandas.concat instead.\n",
      "  final_df= final_df.append(data1, ignore_index= True)\n"
     ]
    },
    {
     "name": "stdout",
     "output_type": "stream",
     "text": [
      "65 iterations done\n",
      "I will search for every paper who first authors is afiliated with Prairie View A & M University and published in the past 15 years.\n",
      "\n",
      "I am now querying ADS.\n",
      "\n",
      "DataFrame is empty! Something is wrong with the institution\n",
      "I am querying ADS in a different way, stay tuned!/n\n",
      "I will search for every paper who first authors is afiliated with Prairie View A & M University and published in the past 15 years.\n",
      "\n"
     ]
    },
    {
     "name": "stderr",
     "output_type": "stream",
     "text": [
      "/Users/jeggen/FERMI/FSSCtesting/reviewTools/ReviewerExtractor/codeV2/ADSsearcherpkg.py:124: FutureWarning: The frame.append method is deprecated and will be removed from pandas in a future version. Use pandas.concat instead.\n",
      "  final_df= final_df.append(data1, ignore_index= True)\n"
     ]
    },
    {
     "name": "stdout",
     "output_type": "stream",
     "text": [
      "66 iterations done\n",
      "I will search for every paper who first authors is afiliated with Rochester Institute of Technology and published in the past 15 years.\n",
      "\n",
      "I am now querying ADS.\n",
      "\n"
     ]
    },
    {
     "name": "stderr",
     "output_type": "stream",
     "text": [
      "/Users/jeggen/FERMI/FSSCtesting/reviewTools/ReviewerExtractor/codeV2/ADSsearcherpkg.py:124: FutureWarning: The frame.append method is deprecated and will be removed from pandas in a future version. Use pandas.concat instead.\n",
      "  final_df= final_df.append(data1, ignore_index= True)\n"
     ]
    },
    {
     "name": "stdout",
     "output_type": "stream",
     "text": [
      "67 iterations done\n",
      "I will search for every paper who first authors is afiliated with Rowan University and published in the past 15 years.\n",
      "\n",
      "I am now querying ADS.\n",
      "\n"
     ]
    },
    {
     "name": "stderr",
     "output_type": "stream",
     "text": [
      "/Users/jeggen/FERMI/FSSCtesting/reviewTools/ReviewerExtractor/codeV2/ADSsearcherpkg.py:124: FutureWarning: The frame.append method is deprecated and will be removed from pandas in a future version. Use pandas.concat instead.\n",
      "  final_df= final_df.append(data1, ignore_index= True)\n"
     ]
    },
    {
     "name": "stdout",
     "output_type": "stream",
     "text": [
      "68 iterations done\n",
      "I will search for every paper who first authors is afiliated with Rutgers University-Camden and published in the past 15 years.\n",
      "\n",
      "I am now querying ADS.\n",
      "\n",
      "DataFrame is empty! Something is wrong with the institution\n",
      "I am querying ADS in a different way, stay tuned!/n\n",
      "I will search for every paper who first authors is afiliated with Rutgers University-Camden and published in the past 15 years.\n",
      "\n",
      "69 iterations done\n",
      "I will search for every paper who first authors is afiliated with Rutgers University-Newark and published in the past 15 years.\n",
      "\n",
      "I am now querying ADS.\n",
      "\n"
     ]
    },
    {
     "name": "stderr",
     "output_type": "stream",
     "text": [
      "/Users/jeggen/FERMI/FSSCtesting/reviewTools/ReviewerExtractor/codeV2/ADSsearcherpkg.py:124: FutureWarning: The frame.append method is deprecated and will be removed from pandas in a future version. Use pandas.concat instead.\n",
      "  final_df= final_df.append(data1, ignore_index= True)\n"
     ]
    },
    {
     "name": "stdout",
     "output_type": "stream",
     "text": [
      "DataFrame is empty! Something is wrong with the institution\n",
      "I am querying ADS in a different way, stay tuned!/n\n",
      "I will search for every paper who first authors is afiliated with Rutgers University-Newark and published in the past 15 years.\n",
      "\n",
      "70 iterations done\n",
      "I will search for every paper who first authors is afiliated with Saint Louis University and published in the past 15 years.\n",
      "\n",
      "I am now querying ADS.\n",
      "\n"
     ]
    },
    {
     "name": "stderr",
     "output_type": "stream",
     "text": [
      "/Users/jeggen/FERMI/FSSCtesting/reviewTools/ReviewerExtractor/codeV2/ADSsearcherpkg.py:124: FutureWarning: The frame.append method is deprecated and will be removed from pandas in a future version. Use pandas.concat instead.\n",
      "  final_df= final_df.append(data1, ignore_index= True)\n",
      "/Users/jeggen/FERMI/FSSCtesting/reviewTools/ReviewerExtractor/codeV2/ADSsearcherpkg.py:124: FutureWarning: The frame.append method is deprecated and will be removed from pandas in a future version. Use pandas.concat instead.\n",
      "  final_df= final_df.append(data1, ignore_index= True)\n"
     ]
    },
    {
     "name": "stdout",
     "output_type": "stream",
     "text": [
      "71 iterations done\n",
      "I will search for every paper who first authors is afiliated with Sam Houston State University and published in the past 15 years.\n",
      "\n",
      "I am now querying ADS.\n",
      "\n"
     ]
    },
    {
     "name": "stderr",
     "output_type": "stream",
     "text": [
      "/Users/jeggen/FERMI/FSSCtesting/reviewTools/ReviewerExtractor/codeV2/ADSsearcherpkg.py:124: FutureWarning: The frame.append method is deprecated and will be removed from pandas in a future version. Use pandas.concat instead.\n",
      "  final_df= final_df.append(data1, ignore_index= True)\n"
     ]
    },
    {
     "name": "stdout",
     "output_type": "stream",
     "text": [
      "72 iterations done\n",
      "I will search for every paper who first authors is afiliated with San Diego State University and published in the past 15 years.\n",
      "\n",
      "I am now querying ADS.\n",
      "\n"
     ]
    },
    {
     "name": "stderr",
     "output_type": "stream",
     "text": [
      "/Users/jeggen/FERMI/FSSCtesting/reviewTools/ReviewerExtractor/codeV2/ADSsearcherpkg.py:124: FutureWarning: The frame.append method is deprecated and will be removed from pandas in a future version. Use pandas.concat instead.\n",
      "  final_df= final_df.append(data1, ignore_index= True)\n"
     ]
    },
    {
     "name": "stdout",
     "output_type": "stream",
     "text": [
      "73 iterations done\n",
      "I will search for every paper who first authors is afiliated with San Francisco State University and published in the past 15 years.\n",
      "\n",
      "I am now querying ADS.\n",
      "\n"
     ]
    },
    {
     "name": "stderr",
     "output_type": "stream",
     "text": [
      "/Users/jeggen/FERMI/FSSCtesting/reviewTools/ReviewerExtractor/codeV2/ADSsearcherpkg.py:124: FutureWarning: The frame.append method is deprecated and will be removed from pandas in a future version. Use pandas.concat instead.\n",
      "  final_df= final_df.append(data1, ignore_index= True)\n"
     ]
    },
    {
     "name": "stdout",
     "output_type": "stream",
     "text": [
      "74 iterations done\n",
      "I will search for every paper who first authors is afiliated with Seton Hall University and published in the past 15 years.\n",
      "\n",
      "I am now querying ADS.\n",
      "\n"
     ]
    },
    {
     "name": "stderr",
     "output_type": "stream",
     "text": [
      "/Users/jeggen/FERMI/FSSCtesting/reviewTools/ReviewerExtractor/codeV2/ADSsearcherpkg.py:124: FutureWarning: The frame.append method is deprecated and will be removed from pandas in a future version. Use pandas.concat instead.\n",
      "  final_df= final_df.append(data1, ignore_index= True)\n"
     ]
    },
    {
     "name": "stdout",
     "output_type": "stream",
     "text": [
      "75 iterations done\n",
      "I will search for every paper who first authors is afiliated with South Dakota State University and published in the past 15 years.\n",
      "\n",
      "I am now querying ADS.\n",
      "\n"
     ]
    },
    {
     "name": "stderr",
     "output_type": "stream",
     "text": [
      "/Users/jeggen/FERMI/FSSCtesting/reviewTools/ReviewerExtractor/codeV2/ADSsearcherpkg.py:124: FutureWarning: The frame.append method is deprecated and will be removed from pandas in a future version. Use pandas.concat instead.\n",
      "  final_df= final_df.append(data1, ignore_index= True)\n"
     ]
    },
    {
     "name": "stdout",
     "output_type": "stream",
     "text": [
      "76 iterations done\n",
      "I will search for every paper who first authors is afiliated with Southern Illinois University-Carbondale and published in the past 15 years.\n",
      "\n",
      "I am now querying ADS.\n",
      "\n",
      "DataFrame is empty! Something is wrong with the institution\n",
      "I am querying ADS in a different way, stay tuned!/n\n",
      "I will search for every paper who first authors is afiliated with Southern Illinois University-Carbondale and published in the past 15 years.\n",
      "\n"
     ]
    },
    {
     "name": "stderr",
     "output_type": "stream",
     "text": [
      "/Users/jeggen/FERMI/FSSCtesting/reviewTools/ReviewerExtractor/codeV2/ADSsearcherpkg.py:124: FutureWarning: The frame.append method is deprecated and will be removed from pandas in a future version. Use pandas.concat instead.\n",
      "  final_df= final_df.append(data1, ignore_index= True)\n"
     ]
    },
    {
     "name": "stdout",
     "output_type": "stream",
     "text": [
      "77 iterations done\n",
      "I will search for every paper who first authors is afiliated with Southern Methodist University and published in the past 15 years.\n",
      "\n",
      "I am now querying ADS.\n",
      "\n"
     ]
    },
    {
     "name": "stderr",
     "output_type": "stream",
     "text": [
      "/Users/jeggen/FERMI/FSSCtesting/reviewTools/ReviewerExtractor/codeV2/ADSsearcherpkg.py:124: FutureWarning: The frame.append method is deprecated and will be removed from pandas in a future version. Use pandas.concat instead.\n",
      "  final_df= final_df.append(data1, ignore_index= True)\n"
     ]
    },
    {
     "name": "stdout",
     "output_type": "stream",
     "text": [
      "78 iterations done\n",
      "I will search for every paper who first authors is afiliated with Southern University and A & M College and published in the past 15 years.\n",
      "\n",
      "I am now querying ADS.\n",
      "\n",
      "DataFrame is empty! Something is wrong with the institution\n",
      "I am querying ADS in a different way, stay tuned!/n\n",
      "I will search for every paper who first authors is afiliated with Southern University and A & M College and published in the past 15 years.\n",
      "\n"
     ]
    },
    {
     "name": "stderr",
     "output_type": "stream",
     "text": [
      "/Users/jeggen/FERMI/FSSCtesting/reviewTools/ReviewerExtractor/codeV2/ADSsearcherpkg.py:124: FutureWarning: The frame.append method is deprecated and will be removed from pandas in a future version. Use pandas.concat instead.\n",
      "  final_df= final_df.append(data1, ignore_index= True)\n"
     ]
    },
    {
     "name": "stdout",
     "output_type": "stream",
     "text": [
      "79 iterations done\n",
      "I will search for every paper who first authors is afiliated with Stevens Institute of Technology and published in the past 15 years.\n",
      "\n",
      "I am now querying ADS.\n",
      "\n"
     ]
    },
    {
     "name": "stderr",
     "output_type": "stream",
     "text": [
      "/Users/jeggen/FERMI/FSSCtesting/reviewTools/ReviewerExtractor/codeV2/ADSsearcherpkg.py:124: FutureWarning: The frame.append method is deprecated and will be removed from pandas in a future version. Use pandas.concat instead.\n",
      "  final_df= final_df.append(data1, ignore_index= True)\n"
     ]
    },
    {
     "name": "stdout",
     "output_type": "stream",
     "text": [
      "80 iterations done\n",
      "I will search for every paper who first authors is afiliated with SUNY College of Environmental Science and Forestry and published in the past 15 years.\n",
      "\n",
      "I am now querying ADS.\n",
      "\n",
      "DataFrame is empty! Something is wrong with the institution\n",
      "I am querying ADS in a different way, stay tuned!/n\n",
      "I will search for every paper who first authors is afiliated with SUNY College of Environmental Science and Forestry and published in the past 15 years.\n",
      "\n"
     ]
    },
    {
     "name": "stderr",
     "output_type": "stream",
     "text": [
      "/Users/jeggen/FERMI/FSSCtesting/reviewTools/ReviewerExtractor/codeV2/ADSsearcherpkg.py:124: FutureWarning: The frame.append method is deprecated and will be removed from pandas in a future version. Use pandas.concat instead.\n",
      "  final_df= final_df.append(data1, ignore_index= True)\n"
     ]
    },
    {
     "name": "stdout",
     "output_type": "stream",
     "text": [
      "81 iterations done\n",
      "I will search for every paper who first authors is afiliated with Tarleton State University and published in the past 15 years.\n",
      "\n",
      "I am now querying ADS.\n",
      "\n",
      "DataFrame is empty! Something is wrong with the institution\n",
      "I am querying ADS in a different way, stay tuned!/n\n",
      "I will search for every paper who first authors is afiliated with Tarleton State University and published in the past 15 years.\n",
      "\n"
     ]
    },
    {
     "name": "stderr",
     "output_type": "stream",
     "text": [
      "/Users/jeggen/FERMI/FSSCtesting/reviewTools/ReviewerExtractor/codeV2/ADSsearcherpkg.py:124: FutureWarning: The frame.append method is deprecated and will be removed from pandas in a future version. Use pandas.concat instead.\n",
      "  final_df= final_df.append(data1, ignore_index= True)\n"
     ]
    },
    {
     "name": "stdout",
     "output_type": "stream",
     "text": [
      "82 iterations done\n",
      "I will search for every paper who first authors is afiliated with Teachers College at Columbia University and published in the past 15 years.\n",
      "\n",
      "I am now querying ADS.\n",
      "\n",
      "DataFrame is empty! Something is wrong with the institution\n",
      "I am querying ADS in a different way, stay tuned!/n\n",
      "I will search for every paper who first authors is afiliated with Teachers College at Columbia University and published in the past 15 years.\n",
      "\n"
     ]
    },
    {
     "name": "stderr",
     "output_type": "stream",
     "text": [
      "/Users/jeggen/FERMI/FSSCtesting/reviewTools/ReviewerExtractor/codeV2/ADSsearcherpkg.py:124: FutureWarning: The frame.append method is deprecated and will be removed from pandas in a future version. Use pandas.concat instead.\n",
      "  final_df= final_df.append(data1, ignore_index= True)\n"
     ]
    },
    {
     "name": "stdout",
     "output_type": "stream",
     "text": [
      "83 iterations done\n",
      "I will search for every paper who first authors is afiliated with Tennessee State University and published in the past 15 years.\n",
      "\n",
      "I am now querying ADS.\n",
      "\n"
     ]
    },
    {
     "name": "stderr",
     "output_type": "stream",
     "text": [
      "/Users/jeggen/FERMI/FSSCtesting/reviewTools/ReviewerExtractor/codeV2/ADSsearcherpkg.py:124: FutureWarning: The frame.append method is deprecated and will be removed from pandas in a future version. Use pandas.concat instead.\n",
      "  final_df= final_df.append(data1, ignore_index= True)\n"
     ]
    },
    {
     "name": "stdout",
     "output_type": "stream",
     "text": [
      "84 iterations done\n",
      "I will search for every paper who first authors is afiliated with Tennessee Technological University and published in the past 15 years.\n",
      "\n",
      "I am now querying ADS.\n",
      "\n"
     ]
    },
    {
     "name": "stderr",
     "output_type": "stream",
     "text": [
      "/Users/jeggen/FERMI/FSSCtesting/reviewTools/ReviewerExtractor/codeV2/ADSsearcherpkg.py:124: FutureWarning: The frame.append method is deprecated and will be removed from pandas in a future version. Use pandas.concat instead.\n",
      "  final_df= final_df.append(data1, ignore_index= True)\n"
     ]
    },
    {
     "name": "stdout",
     "output_type": "stream",
     "text": [
      "85 iterations done\n",
      "I will search for every paper who first authors is afiliated with Texas A & M University-Corpus Christi and published in the past 15 years.\n",
      "\n",
      "I am now querying ADS.\n",
      "\n",
      "DataFrame is empty! Something is wrong with the institution\n",
      "I am querying ADS in a different way, stay tuned!/n\n",
      "I will search for every paper who first authors is afiliated with Texas A & M University-Corpus Christi and published in the past 15 years.\n",
      "\n"
     ]
    },
    {
     "name": "stderr",
     "output_type": "stream",
     "text": [
      "/Users/jeggen/FERMI/FSSCtesting/reviewTools/ReviewerExtractor/codeV2/ADSsearcherpkg.py:124: FutureWarning: The frame.append method is deprecated and will be removed from pandas in a future version. Use pandas.concat instead.\n",
      "  final_df= final_df.append(data1, ignore_index= True)\n"
     ]
    },
    {
     "name": "stdout",
     "output_type": "stream",
     "text": [
      "86 iterations done\n",
      "I will search for every paper who first authors is afiliated with Texas A & M University-Kingsville and published in the past 15 years.\n",
      "\n",
      "I am now querying ADS.\n",
      "\n",
      "DataFrame is empty! Something is wrong with the institution\n",
      "I am querying ADS in a different way, stay tuned!/n\n",
      "I will search for every paper who first authors is afiliated with Texas A & M University-Kingsville and published in the past 15 years.\n",
      "\n"
     ]
    },
    {
     "name": "stderr",
     "output_type": "stream",
     "text": [
      "/Users/jeggen/FERMI/FSSCtesting/reviewTools/ReviewerExtractor/codeV2/ADSsearcherpkg.py:124: FutureWarning: The frame.append method is deprecated and will be removed from pandas in a future version. Use pandas.concat instead.\n",
      "  final_df= final_df.append(data1, ignore_index= True)\n"
     ]
    },
    {
     "name": "stdout",
     "output_type": "stream",
     "text": [
      "87 iterations done\n",
      "I will search for every paper who first authors is afiliated with Texas Christian University and published in the past 15 years.\n",
      "\n",
      "I am now querying ADS.\n",
      "\n"
     ]
    },
    {
     "name": "stderr",
     "output_type": "stream",
     "text": [
      "/Users/jeggen/FERMI/FSSCtesting/reviewTools/ReviewerExtractor/codeV2/ADSsearcherpkg.py:124: FutureWarning: The frame.append method is deprecated and will be removed from pandas in a future version. Use pandas.concat instead.\n",
      "  final_df= final_df.append(data1, ignore_index= True)\n"
     ]
    },
    {
     "name": "stdout",
     "output_type": "stream",
     "text": [
      "88 iterations done\n",
      "I will search for every paper who first authors is afiliated with Texas Southern University and published in the past 15 years.\n",
      "\n",
      "I am now querying ADS.\n",
      "\n"
     ]
    },
    {
     "name": "stderr",
     "output_type": "stream",
     "text": [
      "/Users/jeggen/FERMI/FSSCtesting/reviewTools/ReviewerExtractor/codeV2/ADSsearcherpkg.py:124: FutureWarning: The frame.append method is deprecated and will be removed from pandas in a future version. Use pandas.concat instead.\n",
      "  final_df= final_df.append(data1, ignore_index= True)\n"
     ]
    },
    {
     "name": "stdout",
     "output_type": "stream",
     "text": [
      "89 iterations done\n",
      "I will search for every paper who first authors is afiliated with Texas State University and published in the past 15 years.\n",
      "\n",
      "I am now querying ADS.\n",
      "\n",
      "DataFrame is empty! Something is wrong with the institution\n",
      "I am querying ADS in a different way, stay tuned!/n\n",
      "I will search for every paper who first authors is afiliated with Texas State University and published in the past 15 years.\n",
      "\n"
     ]
    },
    {
     "name": "stderr",
     "output_type": "stream",
     "text": [
      "/Users/jeggen/FERMI/FSSCtesting/reviewTools/ReviewerExtractor/codeV2/ADSsearcherpkg.py:124: FutureWarning: The frame.append method is deprecated and will be removed from pandas in a future version. Use pandas.concat instead.\n",
      "  final_df= final_df.append(data1, ignore_index= True)\n"
     ]
    },
    {
     "name": "stdout",
     "output_type": "stream",
     "text": [
      "90 iterations done\n",
      "I will search for every paper who first authors is afiliated with The Catholic University of America and published in the past 15 years.\n",
      "\n",
      "I am now querying ADS.\n",
      "\n",
      "DataFrame is empty! Something is wrong with the institution\n",
      "I am querying ADS in a different way, stay tuned!/n\n",
      "I will search for every paper who first authors is afiliated with The Catholic University of America and published in the past 15 years.\n",
      "\n"
     ]
    },
    {
     "name": "stderr",
     "output_type": "stream",
     "text": [
      "/Users/jeggen/FERMI/FSSCtesting/reviewTools/ReviewerExtractor/codeV2/ADSsearcherpkg.py:124: FutureWarning: The frame.append method is deprecated and will be removed from pandas in a future version. Use pandas.concat instead.\n",
      "  final_df= final_df.append(data1, ignore_index= True)\n"
     ]
    },
    {
     "name": "stdout",
     "output_type": "stream",
     "text": [
      "91 iterations done\n",
      "I will search for every paper who first authors is afiliated with The New School and published in the past 15 years.\n",
      "\n",
      "I am now querying ADS.\n",
      "\n",
      "DataFrame is empty! Something is wrong with the institution\n",
      "I am querying ADS in a different way, stay tuned!/n\n",
      "I will search for every paper who first authors is afiliated with The New School and published in the past 15 years.\n",
      "\n"
     ]
    },
    {
     "name": "stderr",
     "output_type": "stream",
     "text": [
      "/Users/jeggen/FERMI/FSSCtesting/reviewTools/ReviewerExtractor/codeV2/ADSsearcherpkg.py:124: FutureWarning: The frame.append method is deprecated and will be removed from pandas in a future version. Use pandas.concat instead.\n",
      "  final_df= final_df.append(data1, ignore_index= True)\n"
     ]
    },
    {
     "name": "stdout",
     "output_type": "stream",
     "text": [
      "92 iterations done\n",
      "I will search for every paper who first authors is afiliated with The University of Texas at Tyler and published in the past 15 years.\n",
      "\n",
      "I am now querying ADS.\n",
      "\n",
      "DataFrame is empty! Something is wrong with the institution\n",
      "I am querying ADS in a different way, stay tuned!/n\n",
      "I will search for every paper who first authors is afiliated with The University of Texas at Tyler and published in the past 15 years.\n",
      "\n"
     ]
    },
    {
     "name": "stderr",
     "output_type": "stream",
     "text": [
      "/Users/jeggen/FERMI/FSSCtesting/reviewTools/ReviewerExtractor/codeV2/ADSsearcherpkg.py:124: FutureWarning: The frame.append method is deprecated and will be removed from pandas in a future version. Use pandas.concat instead.\n",
      "  final_df= final_df.append(data1, ignore_index= True)\n"
     ]
    },
    {
     "name": "stdout",
     "output_type": "stream",
     "text": [
      "93 iterations done\n",
      "I will search for every paper who first authors is afiliated with The University of Texas Rio Grande Valley and published in the past 15 years.\n",
      "\n",
      "I am now querying ADS.\n",
      "\n",
      "DataFrame is empty! Something is wrong with the institution\n",
      "I am querying ADS in a different way, stay tuned!/n\n",
      "I will search for every paper who first authors is afiliated with The University of Texas Rio Grande Valley and published in the past 15 years.\n",
      "\n"
     ]
    },
    {
     "name": "stderr",
     "output_type": "stream",
     "text": [
      "/Users/jeggen/FERMI/FSSCtesting/reviewTools/ReviewerExtractor/codeV2/ADSsearcherpkg.py:124: FutureWarning: The frame.append method is deprecated and will be removed from pandas in a future version. Use pandas.concat instead.\n",
      "  final_df= final_df.append(data1, ignore_index= True)\n"
     ]
    },
    {
     "name": "stdout",
     "output_type": "stream",
     "text": [
      "94 iterations done\n",
      "I will search for every paper who first authors is afiliated with Thomas Jefferson University and published in the past 15 years.\n",
      "\n",
      "I am now querying ADS.\n",
      "\n",
      "DataFrame is empty! Something is wrong with the institution\n",
      "I am querying ADS in a different way, stay tuned!/n\n",
      "I will search for every paper who first authors is afiliated with Thomas Jefferson University and published in the past 15 years.\n",
      "\n"
     ]
    },
    {
     "name": "stderr",
     "output_type": "stream",
     "text": [
      "/Users/jeggen/FERMI/FSSCtesting/reviewTools/ReviewerExtractor/codeV2/ADSsearcherpkg.py:124: FutureWarning: The frame.append method is deprecated and will be removed from pandas in a future version. Use pandas.concat instead.\n",
      "  final_df= final_df.append(data1, ignore_index= True)\n"
     ]
    },
    {
     "name": "stdout",
     "output_type": "stream",
     "text": [
      "95 iterations done\n",
      "I will search for every paper who first authors is afiliated with University of Akron Main Campus and published in the past 15 years.\n",
      "\n",
      "I am now querying ADS.\n",
      "\n",
      "DataFrame is empty! Something is wrong with the institution\n",
      "I am querying ADS in a different way, stay tuned!/n\n",
      "I will search for every paper who first authors is afiliated with University of Akron Main Campus and published in the past 15 years.\n",
      "\n"
     ]
    },
    {
     "name": "stderr",
     "output_type": "stream",
     "text": [
      "/Users/jeggen/FERMI/FSSCtesting/reviewTools/ReviewerExtractor/codeV2/ADSsearcherpkg.py:124: FutureWarning: The frame.append method is deprecated and will be removed from pandas in a future version. Use pandas.concat instead.\n",
      "  final_df= final_df.append(data1, ignore_index= True)\n"
     ]
    },
    {
     "name": "stdout",
     "output_type": "stream",
     "text": [
      "96 iterations done\n",
      "I will search for every paper who first authors is afiliated with University of Alaska Fairbanks and published in the past 15 years.\n",
      "\n",
      "I am now querying ADS.\n",
      "\n"
     ]
    },
    {
     "name": "stderr",
     "output_type": "stream",
     "text": [
      "/Users/jeggen/FERMI/FSSCtesting/reviewTools/ReviewerExtractor/codeV2/ADSsearcherpkg.py:124: FutureWarning: The frame.append method is deprecated and will be removed from pandas in a future version. Use pandas.concat instead.\n",
      "  final_df= final_df.append(data1, ignore_index= True)\n"
     ]
    },
    {
     "name": "stdout",
     "output_type": "stream",
     "text": [
      "97 iterations done\n",
      "I will search for every paper who first authors is afiliated with University of Arkansas at Little Rock and published in the past 15 years.\n",
      "\n",
      "I am now querying ADS.\n",
      "\n",
      "DataFrame is empty! Something is wrong with the institution\n",
      "I am querying ADS in a different way, stay tuned!/n\n",
      "I will search for every paper who first authors is afiliated with University of Arkansas at Little Rock and published in the past 15 years.\n",
      "\n"
     ]
    },
    {
     "name": "stderr",
     "output_type": "stream",
     "text": [
      "/Users/jeggen/FERMI/FSSCtesting/reviewTools/ReviewerExtractor/codeV2/ADSsearcherpkg.py:124: FutureWarning: The frame.append method is deprecated and will be removed from pandas in a future version. Use pandas.concat instead.\n",
      "  final_df= final_df.append(data1, ignore_index= True)\n"
     ]
    },
    {
     "name": "stdout",
     "output_type": "stream",
     "text": [
      "98 iterations done\n",
      "I will search for every paper who first authors is afiliated with University of California-Merced and published in the past 15 years.\n",
      "\n",
      "I am now querying ADS.\n",
      "\n",
      "DataFrame is empty! Something is wrong with the institution\n",
      "I am querying ADS in a different way, stay tuned!/n\n",
      "I will search for every paper who first authors is afiliated with University of California-Merced and published in the past 15 years.\n",
      "\n"
     ]
    },
    {
     "name": "stderr",
     "output_type": "stream",
     "text": [
      "/Users/jeggen/FERMI/FSSCtesting/reviewTools/ReviewerExtractor/codeV2/ADSsearcherpkg.py:124: FutureWarning: The frame.append method is deprecated and will be removed from pandas in a future version. Use pandas.concat instead.\n",
      "  final_df= final_df.append(data1, ignore_index= True)\n"
     ]
    },
    {
     "name": "stdout",
     "output_type": "stream",
     "text": [
      "99 iterations done\n",
      "I will search for every paper who first authors is afiliated with University of Colorado Colorado Springs and published in the past 15 years.\n",
      "\n",
      "I am now querying ADS.\n",
      "\n",
      "DataFrame is empty! Something is wrong with the institution\n",
      "I am querying ADS in a different way, stay tuned!/n\n",
      "I will search for every paper who first authors is afiliated with University of Colorado Colorado Springs and published in the past 15 years.\n",
      "\n"
     ]
    },
    {
     "name": "stderr",
     "output_type": "stream",
     "text": [
      "/Users/jeggen/FERMI/FSSCtesting/reviewTools/ReviewerExtractor/codeV2/ADSsearcherpkg.py:124: FutureWarning: The frame.append method is deprecated and will be removed from pandas in a future version. Use pandas.concat instead.\n",
      "  final_df= final_df.append(data1, ignore_index= True)\n"
     ]
    },
    {
     "name": "stdout",
     "output_type": "stream",
     "text": [
      "100 iterations done\n",
      "I will search for every paper who first authors is afiliated with University of Dayton and published in the past 15 years.\n",
      "\n",
      "I am now querying ADS.\n",
      "\n"
     ]
    },
    {
     "name": "stderr",
     "output_type": "stream",
     "text": [
      "/Users/jeggen/FERMI/FSSCtesting/reviewTools/ReviewerExtractor/codeV2/ADSsearcherpkg.py:124: FutureWarning: The frame.append method is deprecated and will be removed from pandas in a future version. Use pandas.concat instead.\n",
      "  final_df= final_df.append(data1, ignore_index= True)\n"
     ]
    },
    {
     "name": "stdout",
     "output_type": "stream",
     "text": [
      "101 iterations done\n",
      "I will search for every paper who first authors is afiliated with University of Idaho and published in the past 15 years.\n",
      "\n",
      "I am now querying ADS.\n",
      "\n"
     ]
    },
    {
     "name": "stderr",
     "output_type": "stream",
     "text": [
      "/Users/jeggen/FERMI/FSSCtesting/reviewTools/ReviewerExtractor/codeV2/ADSsearcherpkg.py:124: FutureWarning: The frame.append method is deprecated and will be removed from pandas in a future version. Use pandas.concat instead.\n",
      "  final_df= final_df.append(data1, ignore_index= True)\n"
     ]
    },
    {
     "name": "stdout",
     "output_type": "stream",
     "text": [
      "102 iterations done\n",
      "I will search for every paper who first authors is afiliated with University of Maryland Eastern Shore and published in the past 15 years.\n",
      "\n",
      "I am now querying ADS.\n",
      "\n",
      "DataFrame is empty! Something is wrong with the institution\n",
      "I am querying ADS in a different way, stay tuned!/n\n",
      "I will search for every paper who first authors is afiliated with University of Maryland Eastern Shore and published in the past 15 years.\n",
      "\n"
     ]
    },
    {
     "name": "stderr",
     "output_type": "stream",
     "text": [
      "/Users/jeggen/FERMI/FSSCtesting/reviewTools/ReviewerExtractor/codeV2/ADSsearcherpkg.py:124: FutureWarning: The frame.append method is deprecated and will be removed from pandas in a future version. Use pandas.concat instead.\n",
      "  final_df= final_df.append(data1, ignore_index= True)\n"
     ]
    },
    {
     "name": "stdout",
     "output_type": "stream",
     "text": [
      "103 iterations done\n",
      "I will search for every paper who first authors is afiliated with University of Massachusetts-Boston and published in the past 15 years.\n",
      "\n",
      "I am now querying ADS.\n",
      "\n",
      "DataFrame is empty! Something is wrong with the institution\n",
      "I am querying ADS in a different way, stay tuned!/n\n",
      "I will search for every paper who first authors is afiliated with University of Massachusetts-Boston and published in the past 15 years.\n",
      "\n"
     ]
    },
    {
     "name": "stderr",
     "output_type": "stream",
     "text": [
      "/Users/jeggen/FERMI/FSSCtesting/reviewTools/ReviewerExtractor/codeV2/ADSsearcherpkg.py:124: FutureWarning: The frame.append method is deprecated and will be removed from pandas in a future version. Use pandas.concat instead.\n",
      "  final_df= final_df.append(data1, ignore_index= True)\n"
     ]
    },
    {
     "name": "stdout",
     "output_type": "stream",
     "text": [
      "104 iterations done\n",
      "I will search for every paper who first authors is afiliated with University of Massachusetts-Dartmouth and published in the past 15 years.\n",
      "\n",
      "I am now querying ADS.\n",
      "\n",
      "DataFrame is empty! Something is wrong with the institution\n",
      "I am querying ADS in a different way, stay tuned!/n\n",
      "I will search for every paper who first authors is afiliated with University of Massachusetts-Dartmouth and published in the past 15 years.\n",
      "\n"
     ]
    },
    {
     "name": "stderr",
     "output_type": "stream",
     "text": [
      "/Users/jeggen/FERMI/FSSCtesting/reviewTools/ReviewerExtractor/codeV2/ADSsearcherpkg.py:124: FutureWarning: The frame.append method is deprecated and will be removed from pandas in a future version. Use pandas.concat instead.\n",
      "  final_df= final_df.append(data1, ignore_index= True)\n"
     ]
    },
    {
     "name": "stdout",
     "output_type": "stream",
     "text": [
      "105 iterations done\n",
      "I will search for every paper who first authors is afiliated with University of Massachusetts-Lowell and published in the past 15 years.\n",
      "\n",
      "I am now querying ADS.\n",
      "\n",
      "DataFrame is empty! Something is wrong with the institution\n",
      "I am querying ADS in a different way, stay tuned!/n\n",
      "I will search for every paper who first authors is afiliated with University of Massachusetts-Lowell and published in the past 15 years.\n",
      "\n"
     ]
    },
    {
     "name": "stderr",
     "output_type": "stream",
     "text": [
      "/Users/jeggen/FERMI/FSSCtesting/reviewTools/ReviewerExtractor/codeV2/ADSsearcherpkg.py:124: FutureWarning: The frame.append method is deprecated and will be removed from pandas in a future version. Use pandas.concat instead.\n",
      "  final_df= final_df.append(data1, ignore_index= True)\n"
     ]
    },
    {
     "name": "stdout",
     "output_type": "stream",
     "text": [
      "106 iterations done\n",
      "I will search for every paper who first authors is afiliated with University of Missouri-Kansas City and published in the past 15 years.\n",
      "\n",
      "I am now querying ADS.\n",
      "\n",
      "DataFrame is empty! Something is wrong with the institution\n",
      "I am querying ADS in a different way, stay tuned!/n\n",
      "I will search for every paper who first authors is afiliated with University of Missouri-Kansas City and published in the past 15 years.\n",
      "\n"
     ]
    },
    {
     "name": "stderr",
     "output_type": "stream",
     "text": [
      "/Users/jeggen/FERMI/FSSCtesting/reviewTools/ReviewerExtractor/codeV2/ADSsearcherpkg.py:124: FutureWarning: The frame.append method is deprecated and will be removed from pandas in a future version. Use pandas.concat instead.\n",
      "  final_df= final_df.append(data1, ignore_index= True)\n"
     ]
    },
    {
     "name": "stdout",
     "output_type": "stream",
     "text": [
      "107 iterations done\n",
      "I will search for every paper who first authors is afiliated with University of Missouri-St Louis and published in the past 15 years.\n",
      "\n",
      "I am now querying ADS.\n",
      "\n",
      "DataFrame is empty! Something is wrong with the institution\n",
      "I am querying ADS in a different way, stay tuned!/n\n",
      "I will search for every paper who first authors is afiliated with University of Missouri-St Louis and published in the past 15 years.\n",
      "\n"
     ]
    },
    {
     "name": "stderr",
     "output_type": "stream",
     "text": [
      "/Users/jeggen/FERMI/FSSCtesting/reviewTools/ReviewerExtractor/codeV2/ADSsearcherpkg.py:124: FutureWarning: The frame.append method is deprecated and will be removed from pandas in a future version. Use pandas.concat instead.\n",
      "  final_df= final_df.append(data1, ignore_index= True)\n"
     ]
    },
    {
     "name": "stdout",
     "output_type": "stream",
     "text": [
      "108 iterations done\n",
      "I will search for every paper who first authors is afiliated with University of Nebraska at Omaha and published in the past 15 years.\n",
      "\n",
      "I am now querying ADS.\n",
      "\n",
      "DataFrame is empty! Something is wrong with the institution\n",
      "I am querying ADS in a different way, stay tuned!/n\n",
      "I will search for every paper who first authors is afiliated with University of Nebraska at Omaha and published in the past 15 years.\n",
      "\n"
     ]
    },
    {
     "name": "stderr",
     "output_type": "stream",
     "text": [
      "/Users/jeggen/FERMI/FSSCtesting/reviewTools/ReviewerExtractor/codeV2/ADSsearcherpkg.py:124: FutureWarning: The frame.append method is deprecated and will be removed from pandas in a future version. Use pandas.concat instead.\n",
      "  final_df= final_df.append(data1, ignore_index= True)\n"
     ]
    },
    {
     "name": "stdout",
     "output_type": "stream",
     "text": [
      "109 iterations done\n",
      "I will search for every paper who first authors is afiliated with University of New England and published in the past 15 years.\n",
      "\n",
      "I am now querying ADS.\n",
      "\n",
      "DataFrame is empty! Something is wrong with the institution\n",
      "I am querying ADS in a different way, stay tuned!/n\n",
      "I will search for every paper who first authors is afiliated with University of New England and published in the past 15 years.\n",
      "\n"
     ]
    },
    {
     "name": "stderr",
     "output_type": "stream",
     "text": [
      "/Users/jeggen/FERMI/FSSCtesting/reviewTools/ReviewerExtractor/codeV2/ADSsearcherpkg.py:124: FutureWarning: The frame.append method is deprecated and will be removed from pandas in a future version. Use pandas.concat instead.\n",
      "  final_df= final_df.append(data1, ignore_index= True)\n"
     ]
    },
    {
     "name": "stdout",
     "output_type": "stream",
     "text": [
      "110 iterations done\n",
      "I will search for every paper who first authors is afiliated with University of New Orleans and published in the past 15 years.\n",
      "\n",
      "I am now querying ADS.\n",
      "\n"
     ]
    },
    {
     "name": "stderr",
     "output_type": "stream",
     "text": [
      "/Users/jeggen/FERMI/FSSCtesting/reviewTools/ReviewerExtractor/codeV2/ADSsearcherpkg.py:124: FutureWarning: The frame.append method is deprecated and will be removed from pandas in a future version. Use pandas.concat instead.\n",
      "  final_df= final_df.append(data1, ignore_index= True)\n"
     ]
    },
    {
     "name": "stdout",
     "output_type": "stream",
     "text": [
      "111 iterations done\n",
      "I will search for every paper who first authors is afiliated with University of North Carolina at Charlotte and published in the past 15 years.\n",
      "\n",
      "I am now querying ADS.\n",
      "\n",
      "DataFrame is empty! Something is wrong with the institution\n",
      "I am querying ADS in a different way, stay tuned!/n\n",
      "I will search for every paper who first authors is afiliated with University of North Carolina at Charlotte and published in the past 15 years.\n",
      "\n"
     ]
    },
    {
     "name": "stderr",
     "output_type": "stream",
     "text": [
      "/Users/jeggen/FERMI/FSSCtesting/reviewTools/ReviewerExtractor/codeV2/ADSsearcherpkg.py:124: FutureWarning: The frame.append method is deprecated and will be removed from pandas in a future version. Use pandas.concat instead.\n",
      "  final_df= final_df.append(data1, ignore_index= True)\n"
     ]
    },
    {
     "name": "stdout",
     "output_type": "stream",
     "text": [
      "112 iterations done\n",
      "I will search for every paper who first authors is afiliated with University of North Carolina at Greensboro and published in the past 15 years.\n",
      "\n",
      "I am now querying ADS.\n",
      "\n",
      "DataFrame is empty! Something is wrong with the institution\n",
      "I am querying ADS in a different way, stay tuned!/n\n",
      "I will search for every paper who first authors is afiliated with University of North Carolina at Greensboro and published in the past 15 years.\n",
      "\n"
     ]
    },
    {
     "name": "stderr",
     "output_type": "stream",
     "text": [
      "/Users/jeggen/FERMI/FSSCtesting/reviewTools/ReviewerExtractor/codeV2/ADSsearcherpkg.py:124: FutureWarning: The frame.append method is deprecated and will be removed from pandas in a future version. Use pandas.concat instead.\n",
      "  final_df= final_df.append(data1, ignore_index= True)\n"
     ]
    },
    {
     "name": "stdout",
     "output_type": "stream",
     "text": [
      "113 iterations done\n",
      "I will search for every paper who first authors is afiliated with University of North Carolina Wilmington and published in the past 15 years.\n",
      "\n",
      "I am now querying ADS.\n",
      "\n"
     ]
    },
    {
     "name": "stderr",
     "output_type": "stream",
     "text": [
      "/Users/jeggen/FERMI/FSSCtesting/reviewTools/ReviewerExtractor/codeV2/ADSsearcherpkg.py:124: FutureWarning: The frame.append method is deprecated and will be removed from pandas in a future version. Use pandas.concat instead.\n",
      "  final_df= final_df.append(data1, ignore_index= True)\n"
     ]
    },
    {
     "name": "stdout",
     "output_type": "stream",
     "text": [
      "114 iterations done\n",
      "I will search for every paper who first authors is afiliated with University of North Dakota and published in the past 15 years.\n",
      "\n",
      "I am now querying ADS.\n",
      "\n"
     ]
    },
    {
     "name": "stderr",
     "output_type": "stream",
     "text": [
      "/Users/jeggen/FERMI/FSSCtesting/reviewTools/ReviewerExtractor/codeV2/ADSsearcherpkg.py:124: FutureWarning: The frame.append method is deprecated and will be removed from pandas in a future version. Use pandas.concat instead.\n",
      "  final_df= final_df.append(data1, ignore_index= True)\n"
     ]
    },
    {
     "name": "stdout",
     "output_type": "stream",
     "text": [
      "115 iterations done\n",
      "I will search for every paper who first authors is afiliated with University of North Florida and published in the past 15 years.\n",
      "\n",
      "I am now querying ADS.\n",
      "\n"
     ]
    },
    {
     "name": "stderr",
     "output_type": "stream",
     "text": [
      "/Users/jeggen/FERMI/FSSCtesting/reviewTools/ReviewerExtractor/codeV2/ADSsearcherpkg.py:124: FutureWarning: The frame.append method is deprecated and will be removed from pandas in a future version. Use pandas.concat instead.\n",
      "  final_df= final_df.append(data1, ignore_index= True)\n"
     ]
    },
    {
     "name": "stdout",
     "output_type": "stream",
     "text": [
      "116 iterations done\n",
      "I will search for every paper who first authors is afiliated with University of Puerto Rico-Rio Piedras and published in the past 15 years.\n",
      "\n",
      "I am now querying ADS.\n",
      "\n",
      "DataFrame is empty! Something is wrong with the institution\n",
      "I am querying ADS in a different way, stay tuned!/n\n",
      "I will search for every paper who first authors is afiliated with University of Puerto Rico-Rio Piedras and published in the past 15 years.\n",
      "\n"
     ]
    },
    {
     "name": "stderr",
     "output_type": "stream",
     "text": [
      "/Users/jeggen/FERMI/FSSCtesting/reviewTools/ReviewerExtractor/codeV2/ADSsearcherpkg.py:124: FutureWarning: The frame.append method is deprecated and will be removed from pandas in a future version. Use pandas.concat instead.\n",
      "  final_df= final_df.append(data1, ignore_index= True)\n"
     ]
    },
    {
     "name": "stdout",
     "output_type": "stream",
     "text": [
      "117 iterations done\n",
      "I will search for every paper who first authors is afiliated with University of Rhode Island and published in the past 15 years.\n",
      "\n",
      "I am now querying ADS.\n",
      "\n"
     ]
    },
    {
     "name": "stderr",
     "output_type": "stream",
     "text": [
      "/Users/jeggen/FERMI/FSSCtesting/reviewTools/ReviewerExtractor/codeV2/ADSsearcherpkg.py:124: FutureWarning: The frame.append method is deprecated and will be removed from pandas in a future version. Use pandas.concat instead.\n",
      "  final_df= final_df.append(data1, ignore_index= True)\n"
     ]
    },
    {
     "name": "stdout",
     "output_type": "stream",
     "text": [
      "118 iterations done\n",
      "I will search for every paper who first authors is afiliated with University of San Diego and published in the past 15 years.\n",
      "\n",
      "I am now querying ADS.\n",
      "\n"
     ]
    },
    {
     "name": "stderr",
     "output_type": "stream",
     "text": [
      "/Users/jeggen/FERMI/FSSCtesting/reviewTools/ReviewerExtractor/codeV2/ADSsearcherpkg.py:124: FutureWarning: The frame.append method is deprecated and will be removed from pandas in a future version. Use pandas.concat instead.\n",
      "  final_df= final_df.append(data1, ignore_index= True)\n"
     ]
    },
    {
     "name": "stdout",
     "output_type": "stream",
     "text": [
      "119 iterations done\n",
      "I will search for every paper who first authors is afiliated with University of South Alabama and published in the past 15 years.\n",
      "\n",
      "I am now querying ADS.\n",
      "\n"
     ]
    },
    {
     "name": "stderr",
     "output_type": "stream",
     "text": [
      "/Users/jeggen/FERMI/FSSCtesting/reviewTools/ReviewerExtractor/codeV2/ADSsearcherpkg.py:124: FutureWarning: The frame.append method is deprecated and will be removed from pandas in a future version. Use pandas.concat instead.\n",
      "  final_df= final_df.append(data1, ignore_index= True)\n"
     ]
    },
    {
     "name": "stdout",
     "output_type": "stream",
     "text": [
      "120 iterations done\n",
      "I will search for every paper who first authors is afiliated with University of South Dakota and published in the past 15 years.\n",
      "\n",
      "I am now querying ADS.\n",
      "\n"
     ]
    },
    {
     "name": "stderr",
     "output_type": "stream",
     "text": [
      "/Users/jeggen/FERMI/FSSCtesting/reviewTools/ReviewerExtractor/codeV2/ADSsearcherpkg.py:124: FutureWarning: The frame.append method is deprecated and will be removed from pandas in a future version. Use pandas.concat instead.\n",
      "  final_df= final_df.append(data1, ignore_index= True)\n"
     ]
    },
    {
     "name": "stdout",
     "output_type": "stream",
     "text": [
      "121 iterations done\n",
      "I will search for every paper who first authors is afiliated with University of Toledo and published in the past 15 years.\n",
      "\n",
      "I am now querying ADS.\n",
      "\n"
     ]
    },
    {
     "name": "stderr",
     "output_type": "stream",
     "text": [
      "/Users/jeggen/FERMI/FSSCtesting/reviewTools/ReviewerExtractor/codeV2/ADSsearcherpkg.py:124: FutureWarning: The frame.append method is deprecated and will be removed from pandas in a future version. Use pandas.concat instead.\n",
      "  final_df= final_df.append(data1, ignore_index= True)\n"
     ]
    },
    {
     "name": "stdout",
     "output_type": "stream",
     "text": [
      "122 iterations done\n",
      "I will search for every paper who first authors is afiliated with University of Tulsa and published in the past 15 years.\n",
      "\n",
      "I am now querying ADS.\n",
      "\n"
     ]
    },
    {
     "name": "stderr",
     "output_type": "stream",
     "text": [
      "/Users/jeggen/FERMI/FSSCtesting/reviewTools/ReviewerExtractor/codeV2/ADSsearcherpkg.py:124: FutureWarning: The frame.append method is deprecated and will be removed from pandas in a future version. Use pandas.concat instead.\n",
      "  final_df= final_df.append(data1, ignore_index= True)\n"
     ]
    },
    {
     "name": "stdout",
     "output_type": "stream",
     "text": [
      "123 iterations done\n",
      "I will search for every paper who first authors is afiliated with University of Vermont and published in the past 15 years.\n",
      "\n",
      "I am now querying ADS.\n",
      "\n"
     ]
    },
    {
     "name": "stderr",
     "output_type": "stream",
     "text": [
      "/Users/jeggen/FERMI/FSSCtesting/reviewTools/ReviewerExtractor/codeV2/ADSsearcherpkg.py:124: FutureWarning: The frame.append method is deprecated and will be removed from pandas in a future version. Use pandas.concat instead.\n",
      "  final_df= final_df.append(data1, ignore_index= True)\n"
     ]
    },
    {
     "name": "stdout",
     "output_type": "stream",
     "text": [
      "124 iterations done\n",
      "I will search for every paper who first authors is afiliated with University of Wyoming and published in the past 15 years.\n",
      "\n",
      "I am now querying ADS.\n",
      "\n"
     ]
    },
    {
     "name": "stderr",
     "output_type": "stream",
     "text": [
      "/Users/jeggen/FERMI/FSSCtesting/reviewTools/ReviewerExtractor/codeV2/ADSsearcherpkg.py:124: FutureWarning: The frame.append method is deprecated and will be removed from pandas in a future version. Use pandas.concat instead.\n",
      "  final_df= final_df.append(data1, ignore_index= True)\n"
     ]
    },
    {
     "name": "stdout",
     "output_type": "stream",
     "text": [
      "125 iterations done\n",
      "I will search for every paper who first authors is afiliated with Villanova University and published in the past 15 years.\n",
      "\n",
      "I am now querying ADS.\n",
      "\n"
     ]
    },
    {
     "name": "stderr",
     "output_type": "stream",
     "text": [
      "/Users/jeggen/FERMI/FSSCtesting/reviewTools/ReviewerExtractor/codeV2/ADSsearcherpkg.py:124: FutureWarning: The frame.append method is deprecated and will be removed from pandas in a future version. Use pandas.concat instead.\n",
      "  final_df= final_df.append(data1, ignore_index= True)\n"
     ]
    },
    {
     "name": "stdout",
     "output_type": "stream",
     "text": [
      "126 iterations done\n",
      "I will search for every paper who first authors is afiliated with Wake Forest University and published in the past 15 years.\n",
      "\n",
      "I am now querying ADS.\n",
      "\n"
     ]
    },
    {
     "name": "stderr",
     "output_type": "stream",
     "text": [
      "/Users/jeggen/FERMI/FSSCtesting/reviewTools/ReviewerExtractor/codeV2/ADSsearcherpkg.py:124: FutureWarning: The frame.append method is deprecated and will be removed from pandas in a future version. Use pandas.concat instead.\n",
      "  final_df= final_df.append(data1, ignore_index= True)\n"
     ]
    },
    {
     "name": "stdout",
     "output_type": "stream",
     "text": [
      "127 iterations done\n",
      "I will search for every paper who first authors is afiliated with West Chester University of Pennsylvania and published in the past 15 years.\n",
      "\n",
      "I am now querying ADS.\n",
      "\n"
     ]
    },
    {
     "name": "stderr",
     "output_type": "stream",
     "text": [
      "/Users/jeggen/FERMI/FSSCtesting/reviewTools/ReviewerExtractor/codeV2/ADSsearcherpkg.py:124: FutureWarning: The frame.append method is deprecated and will be removed from pandas in a future version. Use pandas.concat instead.\n",
      "  final_df= final_df.append(data1, ignore_index= True)\n"
     ]
    },
    {
     "name": "stdout",
     "output_type": "stream",
     "text": [
      "128 iterations done\n",
      "I will search for every paper who first authors is afiliated with Western Michigan University and published in the past 15 years.\n",
      "\n",
      "I am now querying ADS.\n",
      "\n"
     ]
    },
    {
     "name": "stderr",
     "output_type": "stream",
     "text": [
      "/Users/jeggen/FERMI/FSSCtesting/reviewTools/ReviewerExtractor/codeV2/ADSsearcherpkg.py:124: FutureWarning: The frame.append method is deprecated and will be removed from pandas in a future version. Use pandas.concat instead.\n",
      "  final_df= final_df.append(data1, ignore_index= True)\n"
     ]
    },
    {
     "name": "stdout",
     "output_type": "stream",
     "text": [
      "129 iterations done\n",
      "I will search for every paper who first authors is afiliated with Wichita State University and published in the past 15 years.\n",
      "\n",
      "I am now querying ADS.\n",
      "\n"
     ]
    },
    {
     "name": "stderr",
     "output_type": "stream",
     "text": [
      "/Users/jeggen/FERMI/FSSCtesting/reviewTools/ReviewerExtractor/codeV2/ADSsearcherpkg.py:124: FutureWarning: The frame.append method is deprecated and will be removed from pandas in a future version. Use pandas.concat instead.\n",
      "  final_df= final_df.append(data1, ignore_index= True)\n"
     ]
    },
    {
     "name": "stdout",
     "output_type": "stream",
     "text": [
      "130 iterations done\n",
      "I will search for every paper who first authors is afiliated with William & Mary and published in the past 15 years.\n",
      "\n",
      "I am now querying ADS.\n",
      "\n",
      "DataFrame is empty! Something is wrong with the institution\n",
      "I am querying ADS in a different way, stay tuned!/n\n",
      "I will search for every paper who first authors is afiliated with William & Mary and published in the past 15 years.\n",
      "\n"
     ]
    },
    {
     "name": "stderr",
     "output_type": "stream",
     "text": [
      "/Users/jeggen/FERMI/FSSCtesting/reviewTools/ReviewerExtractor/codeV2/ADSsearcherpkg.py:124: FutureWarning: The frame.append method is deprecated and will be removed from pandas in a future version. Use pandas.concat instead.\n",
      "  final_df= final_df.append(data1, ignore_index= True)\n"
     ]
    },
    {
     "name": "stdout",
     "output_type": "stream",
     "text": [
      "131 iterations done\n",
      "I will search for every paper who first authors is afiliated with Worcester Polytechnic Institute and published in the past 15 years.\n",
      "\n",
      "I am now querying ADS.\n",
      "\n"
     ]
    },
    {
     "name": "stderr",
     "output_type": "stream",
     "text": [
      "/Users/jeggen/FERMI/FSSCtesting/reviewTools/ReviewerExtractor/codeV2/ADSsearcherpkg.py:124: FutureWarning: The frame.append method is deprecated and will be removed from pandas in a future version. Use pandas.concat instead.\n",
      "  final_df= final_df.append(data1, ignore_index= True)\n"
     ]
    },
    {
     "name": "stdout",
     "output_type": "stream",
     "text": [
      "132 iterations done\n",
      "I will search for every paper who first authors is afiliated with Wright State University-Main Campus and published in the past 15 years.\n",
      "\n",
      "I am now querying ADS.\n",
      "\n",
      "DataFrame is empty! Something is wrong with the institution\n",
      "I am querying ADS in a different way, stay tuned!/n\n",
      "I will search for every paper who first authors is afiliated with Wright State University-Main Campus and published in the past 15 years.\n",
      "\n",
      "133 iterations done\n"
     ]
    },
    {
     "name": "stderr",
     "output_type": "stream",
     "text": [
      "/Users/jeggen/FERMI/FSSCtesting/reviewTools/ReviewerExtractor/codeV2/ADSsearcherpkg.py:124: FutureWarning: The frame.append method is deprecated and will be removed from pandas in a future version. Use pandas.concat instead.\n",
      "  final_df= final_df.append(data1, ignore_index= True)\n"
     ]
    }
   ],
   "source": [
    "# Let's make a list of authors from the Carnegie List of R2 institutions (133 of those)\n",
    "datf=AP.run_file_insts(filename= 'R2_list.csv',\n",
    "               token=token, stop_dir=stop_dir)"
   ]
  },
  {
   "cell_type": "code",
   "execution_count": 39,
   "id": "f563372a",
   "metadata": {},
   "outputs": [
    {
     "name": "stdout",
     "output_type": "stream",
     "text": [
      "Total number of authors: 4396\n"
     ]
    },
    {
     "data": {
      "text/html": [
       "<div>\n",
       "<style scoped>\n",
       "    .dataframe tbody tr th:only-of-type {\n",
       "        vertical-align: middle;\n",
       "    }\n",
       "\n",
       "    .dataframe tbody tr th {\n",
       "        vertical-align: top;\n",
       "    }\n",
       "\n",
       "    .dataframe thead th {\n",
       "        text-align: right;\n",
       "    }\n",
       "</style>\n",
       "<table border=\"1\" class=\"dataframe\">\n",
       "  <thead>\n",
       "    <tr style=\"text-align: right;\">\n",
       "      <th></th>\n",
       "      <th>Input Author</th>\n",
       "      <th>Input Institution</th>\n",
       "      <th>First Author</th>\n",
       "      <th>Bibcode</th>\n",
       "      <th>Title</th>\n",
       "      <th>Publication Date</th>\n",
       "      <th>Keywords</th>\n",
       "      <th>Affiliations</th>\n",
       "      <th>Abstract</th>\n",
       "      <th>Identifier</th>\n",
       "      <th>Top 10 Words</th>\n",
       "      <th>Top 10 Bigrams</th>\n",
       "      <th>Top 10 Trigrams</th>\n",
       "      <th>Data Type</th>\n",
       "    </tr>\n",
       "  </thead>\n",
       "  <tbody>\n",
       "    <tr>\n",
       "      <th>0</th>\n",
       "      <td>Abernathy, M.</td>\n",
       "      <td>American University</td>\n",
       "      <td>Abernathy, M.</td>\n",
       "      <td>2021CQGra..38s5021A</td>\n",
       "      <td>Exploration of co-sputtered Ta&lt;SUB&gt;2&lt;/SUB&gt;O&lt;SU...</td>\n",
       "      <td>2021-10-00</td>\n",
       "      <td>thin films, thermal noise, gravitational-wave ...</td>\n",
       "      <td>Department of Physics, American University, Wa...</td>\n",
       "      <td>We report on the development and extensive cha...</td>\n",
       "      <td>10.48550/arXiv.2103.14140, 10.1088/1361-6382/a...</td>\n",
       "      <td>[(coating, 6), (sputtered, 4), (film, 3), (dec...</td>\n",
       "      <td>[((thin, film), 2), ((decrease, coating), 2), ...</td>\n",
       "      <td>[((ion, beam, sputtered), 2), ((report, develo...</td>\n",
       "      <td>Dirty</td>\n",
       "    </tr>\n",
       "    <tr>\n",
       "      <th>1</th>\n",
       "      <td>Airapetian, V. S.</td>\n",
       "      <td>American University</td>\n",
       "      <td>Airapetian, V. S.</td>\n",
       "      <td>2021CoBAO..68..426A</td>\n",
       "      <td>The Impact of Eruptions from Young Stars on En...</td>\n",
       "      <td>2021-12-00</td>\n",
       "      <td></td>\n",
       "      <td>NASA Goddard Space Flight Center, Greenbelt, M...</td>\n",
       "      <td>Kepler and TESS missions have discovered over ...</td>\n",
       "      <td>10.52526/25792776-2021.68.2-426, 2021CoBAO..68...</td>\n",
       "      <td>[(planet, 5), (solar, 4), (star, 4), (evolutio...</td>\n",
       "      <td>[((early, evolution), 2), ((energy, flux), 2),...</td>\n",
       "      <td>[((kepler, tess, missions), 1), ((tess, missio...</td>\n",
       "      <td>Dirty</td>\n",
       "    </tr>\n",
       "    <tr>\n",
       "      <th>2</th>\n",
       "      <td>Airapetian, Vladimir S.</td>\n",
       "      <td>American University</td>\n",
       "      <td>Airapetian, Vladimir S., Airapetian, Vladimir S.</td>\n",
       "      <td>2021ApJ...916...96A, 2018NatAs...2..448A</td>\n",
       "      <td>One Year in the Life of Young Suns: Data-const...</td>\n",
       "      <td>2021-08-00, 2018-05-00</td>\n",
       "      <td>G dwarf stars, Stellar coronae, Stellar winds,...</td>\n",
       "      <td>American University, 4400 Massachusetts Avenue...</td>\n",
       "      <td>The young magnetically active solar-like stars...</td>\n",
       "      <td>2021arXiv210601284A, 2021ApJ...916...96A, arXi...</td>\n",
       "      <td>[(stellar, 6), (model, 5), (atmospheric, 4), (...</td>\n",
       "      <td>[((stellar, wind), 2), ((atmospheric, escape),...</td>\n",
       "      <td>[((atmospheric, escape, chemistry), 2), ((youn...</td>\n",
       "      <td>Clean, Dirty</td>\n",
       "    </tr>\n",
       "    <tr>\n",
       "      <th>3</th>\n",
       "      <td>Barnes, Will</td>\n",
       "      <td>American University</td>\n",
       "      <td>Barnes, Will</td>\n",
       "      <td>2023SPD....5420705B</td>\n",
       "      <td>Constraining Very Hot Active Region Plasma wit...</td>\n",
       "      <td>2023-10-00</td>\n",
       "      <td></td>\n",
       "      <td>American University</td>\n",
       "      <td>Models of impulsive heating in non-flaring act...</td>\n",
       "      <td>2023SPD....5420705B</td>\n",
       "      <td>[(plasma, 5), (hot, 4), (spectral, 4), (range,...</td>\n",
       "      <td>[((faint, hot), 3), ((hot, plasma), 3), ((impu...</td>\n",
       "      <td>[((constraints, faint, hot), 2), ((faint, hot,...</td>\n",
       "      <td>Dirty</td>\n",
       "    </tr>\n",
       "    <tr>\n",
       "      <th>4</th>\n",
       "      <td>Bonev, B. P.</td>\n",
       "      <td>American University</td>\n",
       "      <td>Bonev, B. P.</td>\n",
       "      <td>2020DPS....5231602B</td>\n",
       "      <td>Extending the Chemical Taxonomy of Parent Vola...</td>\n",
       "      <td>2020-10-00</td>\n",
       "      <td></td>\n",
       "      <td>American University, Washington, DC</td>\n",
       "      <td>The compositional taxonomy of parent volatiles...</td>\n",
       "      <td>2020DPS....5231602B</td>\n",
       "      <td>[(comet, 9), (compositional, 5), (volatile, 4)...</td>\n",
       "      <td>[((compositional, baseline), 4), ((solar, syst...</td>\n",
       "      <td>[((distinct, outgassing, sources), 2), ((addit...</td>\n",
       "      <td>Dirty</td>\n",
       "    </tr>\n",
       "    <tr>\n",
       "      <th>...</th>\n",
       "      <td>...</td>\n",
       "      <td>...</td>\n",
       "      <td>...</td>\n",
       "      <td>...</td>\n",
       "      <td>...</td>\n",
       "      <td>...</td>\n",
       "      <td>...</td>\n",
       "      <td>...</td>\n",
       "      <td>...</td>\n",
       "      <td>...</td>\n",
       "      <td>...</td>\n",
       "      <td>...</td>\n",
       "      <td>...</td>\n",
       "      <td>...</td>\n",
       "    </tr>\n",
       "    <tr>\n",
       "      <th>4391</th>\n",
       "      <td>Kirshner, M.</td>\n",
       "      <td>Worcester Polytechnic Institute</td>\n",
       "      <td>Kirshner, M.</td>\n",
       "      <td>2016AGUFM.P11B1851K</td>\n",
       "      <td>Olympus Mons, Mars: Constraints on Lava Flow S...</td>\n",
       "      <td>2016-12-00</td>\n",
       "      <td>5220 Hydrothermal systems and weathering on ot...</td>\n",
       "      <td>Worcester Polytechnic Institute, Worcester, MA...</td>\n",
       "      <td>Olympus Mons, Mars, the largest known volcano ...</td>\n",
       "      <td>2016AGUFM.P11B1851K</td>\n",
       "      <td>[(lava, 8), (flow, 7), (tube, 5), (silica, 5),...</td>\n",
       "      <td>[((olympus, mon), 4), ((lava, tube), 4), ((sil...</td>\n",
       "      <td>[((percent, silica, content), 2), ((olympus, m...</td>\n",
       "      <td>Dirty</td>\n",
       "    </tr>\n",
       "    <tr>\n",
       "      <th>4392</th>\n",
       "      <td>Manning, Bryan</td>\n",
       "      <td>Worcester Polytechnic Institute</td>\n",
       "      <td>Manning, Bryan</td>\n",
       "      <td>2020AcAau.171...23M</td>\n",
       "      <td>Radiation engineering analysis of shielding ma...</td>\n",
       "      <td>2020-06-00</td>\n",
       "      <td>Material protection from radiation, Whole body...</td>\n",
       "      <td>Worcester Polytechnic Institute, Worcester, MA...</td>\n",
       "      <td>This paper explores the changes in the radiati...</td>\n",
       "      <td>2020AcAau.171...23M, 10.1016/j.actaastro.2020....</td>\n",
       "      <td>[(material, 7), (mission, 6), (day, 6), (shiel...</td>\n",
       "      <td>[((day, mission), 5), ((multi, material), 2), ...</td>\n",
       "      <td>[((personal, protection, forms), 2), ((paper, ...</td>\n",
       "      <td>Dirty</td>\n",
       "    </tr>\n",
       "    <tr>\n",
       "      <th>4393</th>\n",
       "      <td>O'Mullan, Patrick</td>\n",
       "      <td>Worcester Polytechnic Institute</td>\n",
       "      <td>O'Mullan, Patrick</td>\n",
       "      <td>2022APS..APRB09006O</td>\n",
       "      <td>Using Radio Relics to Help Reconstruct the Dyn...</td>\n",
       "      <td>2022-04-00</td>\n",
       "      <td></td>\n",
       "      <td>Worcester Polytechnic Institute</td>\n",
       "      <td>Merging galaxy clusters are a unique environme...</td>\n",
       "      <td>2022APS..APRB09006O</td>\n",
       "      <td>[(cluster, 3), (event, 3), (parameter, 3), (wo...</td>\n",
       "      <td>[((merging, galaxy), 1), ((galaxy, cluster), 1...</td>\n",
       "      <td>[((merging, galaxy, clusters), 1), ((galaxy, c...</td>\n",
       "      <td>Dirty</td>\n",
       "    </tr>\n",
       "    <tr>\n",
       "      <th>4394</th>\n",
       "      <td>Payan, Juan C.</td>\n",
       "      <td>Worcester Polytechnic Institute</td>\n",
       "      <td>Payan, Juan C.</td>\n",
       "      <td>2011AAS...21714412P</td>\n",
       "      <td>Optical Monitoring Of Two High Mass X-ray Bina...</td>\n",
       "      <td>2011-01-00</td>\n",
       "      <td></td>\n",
       "      <td>Worcester Polytechnic Institute</td>\n",
       "      <td>Using the BYU West Mountain 0.9-m telescope we...</td>\n",
       "      <td>2011BAAS...4314412P, 2011AAS...21714412P</td>\n",
       "      <td>[(optical, 3), (period, 3), (telescope, 2), (s...</td>\n",
       "      <td>[((optical, counterpart), 2), ((orbital, perio...</td>\n",
       "      <td>[((orbital, period, days), 2), ((byu, west, mo...</td>\n",
       "      <td>Clean</td>\n",
       "    </tr>\n",
       "    <tr>\n",
       "      <th>4395</th>\n",
       "      <td>Pryputniewicz, Ryszard J.</td>\n",
       "      <td>Worcester Polytechnic Institute</td>\n",
       "      <td>Pryputniewicz, Ryszard J.</td>\n",
       "      <td>2010AIPC.1236..273P</td>\n",
       "      <td>Advances in phase measurement methodology for ...</td>\n",
       "      <td>2010-04-00</td>\n",
       "      <td>micromechanical devices, optical design techni...</td>\n",
       "      <td>NEST-NanoEngineering, Science, and Technology,...</td>\n",
       "      <td>Advances in emerging technologies of microelec...</td>\n",
       "      <td>2010AIPC.1236..273P, 10.1063/1.3426126</td>\n",
       "      <td>[(measurement, 5), (experimental, 4), (develop...</td>\n",
       "      <td>[((phase, measurement), 3), ((design, analysis...</td>\n",
       "      <td>[((paper, phase, measurement), 2), ((phase, me...</td>\n",
       "      <td>Dirty</td>\n",
       "    </tr>\n",
       "  </tbody>\n",
       "</table>\n",
       "<p>4396 rows × 14 columns</p>\n",
       "</div>"
      ],
      "text/plain": [
       "                   Input Author                Input Institution  \\\n",
       "0                 Abernathy, M.              American University   \n",
       "1             Airapetian, V. S.              American University   \n",
       "2       Airapetian, Vladimir S.              American University   \n",
       "3                  Barnes, Will              American University   \n",
       "4                  Bonev, B. P.              American University   \n",
       "...                         ...                              ...   \n",
       "4391               Kirshner, M.  Worcester Polytechnic Institute   \n",
       "4392             Manning, Bryan  Worcester Polytechnic Institute   \n",
       "4393          O'Mullan, Patrick  Worcester Polytechnic Institute   \n",
       "4394             Payan, Juan C.  Worcester Polytechnic Institute   \n",
       "4395  Pryputniewicz, Ryszard J.  Worcester Polytechnic Institute   \n",
       "\n",
       "                                          First Author  \\\n",
       "0                                        Abernathy, M.   \n",
       "1                                    Airapetian, V. S.   \n",
       "2     Airapetian, Vladimir S., Airapetian, Vladimir S.   \n",
       "3                                         Barnes, Will   \n",
       "4                                         Bonev, B. P.   \n",
       "...                                                ...   \n",
       "4391                                      Kirshner, M.   \n",
       "4392                                    Manning, Bryan   \n",
       "4393                                 O'Mullan, Patrick   \n",
       "4394                                    Payan, Juan C.   \n",
       "4395                         Pryputniewicz, Ryszard J.   \n",
       "\n",
       "                                       Bibcode  \\\n",
       "0                          2021CQGra..38s5021A   \n",
       "1                          2021CoBAO..68..426A   \n",
       "2     2021ApJ...916...96A, 2018NatAs...2..448A   \n",
       "3                          2023SPD....5420705B   \n",
       "4                          2020DPS....5231602B   \n",
       "...                                        ...   \n",
       "4391                       2016AGUFM.P11B1851K   \n",
       "4392                       2020AcAau.171...23M   \n",
       "4393                       2022APS..APRB09006O   \n",
       "4394                       2011AAS...21714412P   \n",
       "4395                       2010AIPC.1236..273P   \n",
       "\n",
       "                                                  Title  \\\n",
       "0     Exploration of co-sputtered Ta<SUB>2</SUB>O<SU...   \n",
       "1     The Impact of Eruptions from Young Stars on En...   \n",
       "2     One Year in the Life of Young Suns: Data-const...   \n",
       "3     Constraining Very Hot Active Region Plasma wit...   \n",
       "4     Extending the Chemical Taxonomy of Parent Vola...   \n",
       "...                                                 ...   \n",
       "4391  Olympus Mons, Mars: Constraints on Lava Flow S...   \n",
       "4392  Radiation engineering analysis of shielding ma...   \n",
       "4393  Using Radio Relics to Help Reconstruct the Dyn...   \n",
       "4394  Optical Monitoring Of Two High Mass X-ray Bina...   \n",
       "4395  Advances in phase measurement methodology for ...   \n",
       "\n",
       "            Publication Date  \\\n",
       "0                 2021-10-00   \n",
       "1                 2021-12-00   \n",
       "2     2021-08-00, 2018-05-00   \n",
       "3                 2023-10-00   \n",
       "4                 2020-10-00   \n",
       "...                      ...   \n",
       "4391              2016-12-00   \n",
       "4392              2020-06-00   \n",
       "4393              2022-04-00   \n",
       "4394              2011-01-00   \n",
       "4395              2010-04-00   \n",
       "\n",
       "                                               Keywords  \\\n",
       "0     thin films, thermal noise, gravitational-wave ...   \n",
       "1                                                         \n",
       "2     G dwarf stars, Stellar coronae, Stellar winds,...   \n",
       "3                                                         \n",
       "4                                                         \n",
       "...                                                 ...   \n",
       "4391  5220 Hydrothermal systems and weathering on ot...   \n",
       "4392  Material protection from radiation, Whole body...   \n",
       "4393                                                      \n",
       "4394                                                      \n",
       "4395  micromechanical devices, optical design techni...   \n",
       "\n",
       "                                           Affiliations  \\\n",
       "0     Department of Physics, American University, Wa...   \n",
       "1     NASA Goddard Space Flight Center, Greenbelt, M...   \n",
       "2     American University, 4400 Massachusetts Avenue...   \n",
       "3                                   American University   \n",
       "4                   American University, Washington, DC   \n",
       "...                                                 ...   \n",
       "4391  Worcester Polytechnic Institute, Worcester, MA...   \n",
       "4392  Worcester Polytechnic Institute, Worcester, MA...   \n",
       "4393                    Worcester Polytechnic Institute   \n",
       "4394                    Worcester Polytechnic Institute   \n",
       "4395  NEST-NanoEngineering, Science, and Technology,...   \n",
       "\n",
       "                                               Abstract  \\\n",
       "0     We report on the development and extensive cha...   \n",
       "1     Kepler and TESS missions have discovered over ...   \n",
       "2     The young magnetically active solar-like stars...   \n",
       "3     Models of impulsive heating in non-flaring act...   \n",
       "4     The compositional taxonomy of parent volatiles...   \n",
       "...                                                 ...   \n",
       "4391  Olympus Mons, Mars, the largest known volcano ...   \n",
       "4392  This paper explores the changes in the radiati...   \n",
       "4393  Merging galaxy clusters are a unique environme...   \n",
       "4394  Using the BYU West Mountain 0.9-m telescope we...   \n",
       "4395  Advances in emerging technologies of microelec...   \n",
       "\n",
       "                                             Identifier  \\\n",
       "0     10.48550/arXiv.2103.14140, 10.1088/1361-6382/a...   \n",
       "1     10.52526/25792776-2021.68.2-426, 2021CoBAO..68...   \n",
       "2     2021arXiv210601284A, 2021ApJ...916...96A, arXi...   \n",
       "3                                   2023SPD....5420705B   \n",
       "4                                   2020DPS....5231602B   \n",
       "...                                                 ...   \n",
       "4391                                2016AGUFM.P11B1851K   \n",
       "4392  2020AcAau.171...23M, 10.1016/j.actaastro.2020....   \n",
       "4393                                2022APS..APRB09006O   \n",
       "4394           2011BAAS...4314412P, 2011AAS...21714412P   \n",
       "4395             2010AIPC.1236..273P, 10.1063/1.3426126   \n",
       "\n",
       "                                           Top 10 Words  \\\n",
       "0     [(coating, 6), (sputtered, 4), (film, 3), (dec...   \n",
       "1     [(planet, 5), (solar, 4), (star, 4), (evolutio...   \n",
       "2     [(stellar, 6), (model, 5), (atmospheric, 4), (...   \n",
       "3     [(plasma, 5), (hot, 4), (spectral, 4), (range,...   \n",
       "4     [(comet, 9), (compositional, 5), (volatile, 4)...   \n",
       "...                                                 ...   \n",
       "4391  [(lava, 8), (flow, 7), (tube, 5), (silica, 5),...   \n",
       "4392  [(material, 7), (mission, 6), (day, 6), (shiel...   \n",
       "4393  [(cluster, 3), (event, 3), (parameter, 3), (wo...   \n",
       "4394  [(optical, 3), (period, 3), (telescope, 2), (s...   \n",
       "4395  [(measurement, 5), (experimental, 4), (develop...   \n",
       "\n",
       "                                         Top 10 Bigrams  \\\n",
       "0     [((thin, film), 2), ((decrease, coating), 2), ...   \n",
       "1     [((early, evolution), 2), ((energy, flux), 2),...   \n",
       "2     [((stellar, wind), 2), ((atmospheric, escape),...   \n",
       "3     [((faint, hot), 3), ((hot, plasma), 3), ((impu...   \n",
       "4     [((compositional, baseline), 4), ((solar, syst...   \n",
       "...                                                 ...   \n",
       "4391  [((olympus, mon), 4), ((lava, tube), 4), ((sil...   \n",
       "4392  [((day, mission), 5), ((multi, material), 2), ...   \n",
       "4393  [((merging, galaxy), 1), ((galaxy, cluster), 1...   \n",
       "4394  [((optical, counterpart), 2), ((orbital, perio...   \n",
       "4395  [((phase, measurement), 3), ((design, analysis...   \n",
       "\n",
       "                                        Top 10 Trigrams     Data Type  \n",
       "0     [((ion, beam, sputtered), 2), ((report, develo...         Dirty  \n",
       "1     [((kepler, tess, missions), 1), ((tess, missio...         Dirty  \n",
       "2     [((atmospheric, escape, chemistry), 2), ((youn...  Clean, Dirty  \n",
       "3     [((constraints, faint, hot), 2), ((faint, hot,...         Dirty  \n",
       "4     [((distinct, outgassing, sources), 2), ((addit...         Dirty  \n",
       "...                                                 ...           ...  \n",
       "4391  [((percent, silica, content), 2), ((olympus, m...         Dirty  \n",
       "4392  [((personal, protection, forms), 2), ((paper, ...         Dirty  \n",
       "4393  [((merging, galaxy, clusters), 1), ((galaxy, c...         Dirty  \n",
       "4394  [((orbital, period, days), 2), ((byu, west, mo...         Clean  \n",
       "4395  [((paper, phase, measurement), 2), ((phase, me...         Dirty  \n",
       "\n",
       "[4396 rows x 14 columns]"
      ]
     },
     "execution_count": 39,
     "metadata": {},
     "output_type": "execute_result"
    }
   ],
   "source": [
    "print(\"Total number of authors: \"+str(len(datf)))\n",
    "datf"
   ]
  },
  {
   "cell_type": "code",
   "execution_count": 37,
   "id": "2c0e6cd8",
   "metadata": {},
   "outputs": [
    {
     "name": "stdout",
     "output_type": "stream",
     "text": [
      "18\n"
     ]
    },
    {
     "data": {
      "text/html": [
       "<div>\n",
       "<style scoped>\n",
       "    .dataframe tbody tr th:only-of-type {\n",
       "        vertical-align: middle;\n",
       "    }\n",
       "\n",
       "    .dataframe tbody tr th {\n",
       "        vertical-align: top;\n",
       "    }\n",
       "\n",
       "    .dataframe thead th {\n",
       "        text-align: right;\n",
       "    }\n",
       "</style>\n",
       "<table border=\"1\" class=\"dataframe\">\n",
       "  <thead>\n",
       "    <tr style=\"text-align: right;\">\n",
       "      <th></th>\n",
       "      <th>Input Author</th>\n",
       "      <th>Input Institution</th>\n",
       "      <th>First Author</th>\n",
       "      <th>Bibcode</th>\n",
       "      <th>Title</th>\n",
       "      <th>Publication Date</th>\n",
       "      <th>Keywords</th>\n",
       "      <th>Affiliations</th>\n",
       "      <th>Abstract</th>\n",
       "      <th>Identifier</th>\n",
       "      <th>Top 10 Words</th>\n",
       "      <th>Top 10 Bigrams</th>\n",
       "      <th>Top 10 Trigrams</th>\n",
       "      <th>Data Type</th>\n",
       "    </tr>\n",
       "  </thead>\n",
       "  <tbody>\n",
       "    <tr>\n",
       "      <th>291</th>\n",
       "      <td>Neilsen, David</td>\n",
       "      <td>Brigham Young University</td>\n",
       "      <td>Neilsen, David, Neilsen, David, Neilsen, David...</td>\n",
       "      <td>2019atp..prop..142N, 2016APS..APRM13003N, 2015...</td>\n",
       "      <td>Binary Black Hole Waveforms for LISA, Binary N...</td>\n",
       "      <td>2019-00-00, 2016-03-00, 2015-04-00, 2015-01-00...</td>\n",
       "      <td>, , , , 04.25.D-, 04.40.Dg, 97.60.Jd, Numerica...</td>\n",
       "      <td>Brigham Young University, Brigham Young Univer...</td>\n",
       "      <td>Using Numerical Relativity Gravitational waves...</td>\n",
       "      <td>2019atp..prop..142N, 2016APS..APRM13003N, 2015...</td>\n",
       "      <td>[(star, 12), (equation, 10), (gravitational, 9...</td>\n",
       "      <td>[((neutron, star), 8), ((gravitational, wave),...</td>\n",
       "      <td>[((binary, neutron, star), 3), ((neutron, star...</td>\n",
       "      <td>Dirty, Dirty, Dirty, Dirty, Dirty, Dirty, Dirty</td>\n",
       "    </tr>\n",
       "    <tr>\n",
       "      <th>427</th>\n",
       "      <td>Negreiros, Rodrigo Picanco</td>\n",
       "      <td>Claremont Graduate University</td>\n",
       "      <td>Negreiros, Rodrigo Picanco</td>\n",
       "      <td>2009PhDT........66N</td>\n",
       "      <td>Numerical study of the properties of compact s...</td>\n",
       "      <td>2009-10-00</td>\n",
       "      <td>Physics, Astrophysics</td>\n",
       "      <td>The Claremont Graduate University and San Dieg...</td>\n",
       "      <td>Compact stars are formed in catastrophic astro...</td>\n",
       "      <td>2009PhDT........66N</td>\n",
       "      <td>[(star, 12), (compact, 6), (core, 4), (thermal...</td>\n",
       "      <td>[((compact, star), 6), ((neutron, star), 3), (...</td>\n",
       "      <td>[((ultra, dense, nuclear), 2), ((dense, nuclea...</td>\n",
       "      <td>Dirty</td>\n",
       "    </tr>\n",
       "    <tr>\n",
       "      <th>787</th>\n",
       "      <td>Smith, Evan</td>\n",
       "      <td>Florida Institute of Technology</td>\n",
       "      <td>Smith, Evan, Smith, Evan, Smith, Evan, Smith, ...</td>\n",
       "      <td>2023ApJ...950..174S, 2020ApJ...902...65S, 2019...</td>\n",
       "      <td>A QPO in Mkn 421 from Archival RXTE Data, A QP...</td>\n",
       "      <td>2023-06-00, 2020-10-00, 2019-03-00, 2016-04-00</td>\n",
       "      <td>Active galactic nuclei, Blazars, BL Lacertae o...</td>\n",
       "      <td>Aerospace, Physics and Space Sciences Departme...</td>\n",
       "      <td>We report a 325(-7, +8) day quasi-periodic osc...</td>\n",
       "      <td>arXiv:2305.07510, 2023arXiv230507510S, 10.3847...</td>\n",
       "      <td>[(qpo, 11), (qpos, 11), (data, 10), (agn, 10),...</td>\n",
       "      <td>[((light, curve), 7), ((black, hole), 5), ((ac...</td>\n",
       "      <td>[((rossi, ray, timing), 3), ((ray, timing, exp...</td>\n",
       "      <td>Clean, Clean, Dirty, Dirty</td>\n",
       "    </tr>\n",
       "    <tr>\n",
       "      <th>1015</th>\n",
       "      <td>Alexander, Michael J.</td>\n",
       "      <td>Lehigh University</td>\n",
       "      <td>Alexander, Michael J., Alexander, Michael J., ...</td>\n",
       "      <td>2016AJ....152..190A, 2015MNRAS.449.1686A, 2015...</td>\n",
       "      <td>A Catalog of New Spectroscopically Confirmed M...</td>\n",
       "      <td>2016-12-00, 2015-05-00, 2015-01-00, 2014-01-00</td>\n",
       "      <td>binaries: spectroscopic, open clusters and ass...</td>\n",
       "      <td>Department of Physics, Lehigh University, 16 M...</td>\n",
       "      <td>The Carina star-forming region is one of the l...</td>\n",
       "      <td>10.48550/arXiv.1611.01405, 10.3847/0004-6256/1...</td>\n",
       "      <td>[(star, 22), (ray, 11), (ob, 9), (binary, 9), ...</td>\n",
       "      <td>[((ob, star), 9), ((gamma, ray), 6), ((binary,...</td>\n",
       "      <td>[((carina, star, forming), 2), ((massive, star...</td>\n",
       "      <td>Clean, Clean, Clean, Clean</td>\n",
       "    </tr>\n",
       "    <tr>\n",
       "      <th>1016</th>\n",
       "      <td>Aragona, Christina</td>\n",
       "      <td>Lehigh University</td>\n",
       "      <td>Aragona, Christina, Aragona, Christina, Aragon...</td>\n",
       "      <td>2012xrb..confE...2A, 2012AAS...21934420A, 2011...</td>\n",
       "      <td>LS 5039 and HD 259440: A Multiwavelength Appro...</td>\n",
       "      <td>2012-07-00, 2012-01-00, 2011-08-00, 2011-01-00...</td>\n",
       "      <td>, , , , Physics, Astrophysics;Physics, Astrono...</td>\n",
       "      <td>Lehigh University, Lehigh University, Lehigh U...</td>\n",
       "      <td>A handful of Galactic High Mass X-ray Binaries...</td>\n",
       "      <td>2012xrb..confE...2A, 2012AAS...21934420A, 2011...</td>\n",
       "      <td>[(ray, 34), (star, 32), (binary, 25), (disk, 2...</td>\n",
       "      <td>[((ray, binary), 22), ((gamma, ray), 13), ((hi...</td>\n",
       "      <td>[((high, mass, ray), 7), ((mass, ray, binaries...</td>\n",
       "      <td>Dirty, Clean, Dirty, Dirty, Dirty, Clean, Clea...</td>\n",
       "    </tr>\n",
       "    <tr>\n",
       "      <th>1068</th>\n",
       "      <td>McSwain, M. Virginia</td>\n",
       "      <td>Lehigh University</td>\n",
       "      <td>McSwain, M. Virginia, McSwain, M. Virginia, Mc...</td>\n",
       "      <td>2016AAS...22714414M, 2014noao.prop..345M, 2014...</td>\n",
       "      <td>Light Curve Models of Rotationally Distorted, ...</td>\n",
       "      <td>2016-01-00, 2014-02-00, 2014-01-00, 2013-08-00...</td>\n",
       "      <td>, , , , , , pulsars: general, stars: individua...</td>\n",
       "      <td>Lehigh Univ, Lehigh University, M. Virginia Mc...</td>\n",
       "      <td>Classical Be stars are a class of active B-typ...</td>\n",
       "      <td>2016AAS...22714414M, 2014noao.prop..345M, 2014...</td>\n",
       "      <td>[(star, 50), (emission, 25), (binary, 24), (ra...</td>\n",
       "      <td>[((ray, binary), 11), ((open, cluster), 7), ((...</td>\n",
       "      <td>[((high, mass, ray), 3), ((gamma, ray, binarie...</td>\n",
       "      <td>Clean, Dirty, Dirty, Dirty, Dirty, Clean, Clea...</td>\n",
       "    </tr>\n",
       "    <tr>\n",
       "      <th>1137</th>\n",
       "      <td>Abbasi, R.</td>\n",
       "      <td>Loyola University Chicago</td>\n",
       "      <td>Abbasi, R., Abbasi, R., Abbasi, R., Abbasi, R....</td>\n",
       "      <td>2023ApJ...959...96A, 2023PhRvD.108j2004A, 2023...</td>\n",
       "      <td>A Search for IceCube Sub-TeV Neutrinos Correla...</td>\n",
       "      <td>2023-12-00, 2023-11-00, 2023-11-00, 2023-10-00...</td>\n",
       "      <td>Neutrino astronomy, Neutrino telescopes, Gravi...</td>\n",
       "      <td>Department of Physics, Loyola University Chica...</td>\n",
       "      <td>The LIGO/Virgo collaboration published the cat...</td>\n",
       "      <td>2023ApJ...959...96A, 10.3847/1538-4357/aceefc,...</td>\n",
       "      <td>[(neutrino, 212), (energy, 97), (icecube, 69),...</td>\n",
       "      <td>[((high, energy), 38), ((neutrino, emission), ...</td>\n",
       "      <td>[((icecube, neutrino, observatory), 20), ((hig...</td>\n",
       "      <td>Clean, Dirty, Clean, Clean, Dirty, Clean, Dirt...</td>\n",
       "    </tr>\n",
       "    <tr>\n",
       "      <th>1172</th>\n",
       "      <td>Babiuc, Maria</td>\n",
       "      <td>Marshall University</td>\n",
       "      <td>Babiuc, Maria, Babiuc, Maria, Babiuc, Maria, B...</td>\n",
       "      <td>2022APS..APRF01059B, 2022APS..APRK16004B, 2016...</td>\n",
       "      <td>Building Fully Analytic Gravitational Waves fr...</td>\n",
       "      <td>2022-04-00, 2022-04-00, 2016-03-00, 2015-04-00...</td>\n",
       "      <td>, , , ,</td>\n",
       "      <td>Marshall University, Marshall University, Mars...</td>\n",
       "      <td>The first observation of gravitational waves (...</td>\n",
       "      <td>2022APS..APRF01059B, 2022APS..APRK16004B, 2016...</td>\n",
       "      <td>[(gravitational, 18), (gw, 11), (electromagnet...</td>\n",
       "      <td>[((gravitational, wave), 8), ((gravitational, ...</td>\n",
       "      <td>[((national, science, foundation), 3), ((gravi...</td>\n",
       "      <td>Dirty, Dirty, Dirty, Dirty, Dirty</td>\n",
       "    </tr>\n",
       "    <tr>\n",
       "      <th>1188</th>\n",
       "      <td>Stanley, Rae</td>\n",
       "      <td>Marshall University</td>\n",
       "      <td>Stanley, Rae</td>\n",
       "      <td>2019AAS...23324238S</td>\n",
       "      <td>A Spectroscopic Study of Radio-Loud Narrow-Lin...</td>\n",
       "      <td>2019-01-00</td>\n",
       "      <td></td>\n",
       "      <td>Physics, Marshall University, Ona, WV, United ...</td>\n",
       "      <td>Narrow-line radio-loud Seyfert-1 galaxies are ...</td>\n",
       "      <td>2019AAS...23324238S</td>\n",
       "      <td>[(black, 8), (hole, 8), (galaxy, 7), (jet, 6),...</td>\n",
       "      <td>[((black, hole), 8), ((relativistic, jet), 4),...</td>\n",
       "      <td>[((black, hole, mass), 3), ((narrow, line, rad...</td>\n",
       "      <td>Clean</td>\n",
       "    </tr>\n",
       "    <tr>\n",
       "      <th>1256</th>\n",
       "      <td>Nemiroff, Robert</td>\n",
       "      <td>Michigan Technological University</td>\n",
       "      <td>Nemiroff, Robert, Nemiroff, Robert, Nemiroff, ...</td>\n",
       "      <td>2023AAS...24116601N, 2022AAS...24034507N, 2019...</td>\n",
       "      <td>Guest Writing for APOD in 2023: Toward Finding...</td>\n",
       "      <td>2023-01-00, 2022-06-00, 2019-03-00, 2019-03-00...</td>\n",
       "      <td>, , , , , , , , , , 98.70.Rz, 98.62.Py, 95.55....</td>\n",
       "      <td>Michigan Technological Univ., Michigan Technol...</td>\n",
       "      <td>Would you like to write for — or even become a...</td>\n",
       "      <td>2023AAS...24116601N, 2022AAS...24034507N, 2019...</td>\n",
       "      <td>[(image, 25), (apod, 24), (cherenkov, 15), (as...</td>\n",
       "      <td>[((high, energy), 7), ((particle, image), 6), ...</td>\n",
       "      <td>[((https, apod, nasa), 5), ((apod, nasa, gov),...</td>\n",
       "      <td>Clean, Clean, Dirty, Dirty, Dirty, Dirty, Clea...</td>\n",
       "    </tr>\n",
       "    <tr>\n",
       "      <th>1332</th>\n",
       "      <td>Mogushi, Kentaro</td>\n",
       "      <td>Missouri University of Science and Technology</td>\n",
       "      <td>Mogushi, Kentaro, Mogushi, Kentaro</td>\n",
       "      <td>2021CQGra..38o5004M, 2019ApJ...880...55M</td>\n",
       "      <td>Application of a new transient-noise analysis ...</td>\n",
       "      <td>2021-08-00, 2019-07-00</td>\n",
       "      <td>glitch, statistics, gravitational waves, Gener...</td>\n",
       "      <td>Institute of Multi-messenger Astrophysics and ...</td>\n",
       "      <td>Excess transient noise events, or 'glitches', ...</td>\n",
       "      <td>2021CQGra..38o5004M, 10.1088/1361-6382/ac08a7,...</td>\n",
       "      <td>[(gw, 9), (detection, 6), (glitch, 5), (detect...</td>\n",
       "      <td>[((gravitational, wave), 2), ((wave, gw), 2), ...</td>\n",
       "      <td>[((gravitational, wave, gw), 2), ((gamma, ray,...</td>\n",
       "      <td>Dirty, Clean</td>\n",
       "    </tr>\n",
       "    <tr>\n",
       "      <th>2171</th>\n",
       "      <td>Dent, James B.</td>\n",
       "      <td>Sam Houston State University</td>\n",
       "      <td>Dent, James B., Dent, James B., Dent, James B....</td>\n",
       "      <td>2022JHEP...08..300D, 2022PhRvD.105a5030D, 2021...</td>\n",
       "      <td>Sensitivity to dark sector scales from gravita...</td>\n",
       "      <td>2022-08-00, 2022-01-00, 2021-09-00, 2021-08-00...</td>\n",
       "      <td>Early Universe Particle Physics, Phase Transit...</td>\n",
       "      <td>Department of Physics, Sam Houston State Unive...</td>\n",
       "      <td>We consider gravitational sound wave signals p...</td>\n",
       "      <td>10.1007/JHEP08(2022)300, arXiv:2203.11736, 10....</td>\n",
       "      <td>[(dark, 10), (photon, 9), (gravitational, 8), ...</td>\n",
       "      <td>[((dark, matter), 8), ((gravitational, wave), ...</td>\n",
       "      <td>[((cosmic, ray, upscattered), 3), ((thermal, e...</td>\n",
       "      <td>Dirty, Dirty, Dirty, Dirty, Dirty, Dirty, Dirty</td>\n",
       "    </tr>\n",
       "    <tr>\n",
       "      <th>2275</th>\n",
       "      <td>Negreiros, Rodrigo Picanco</td>\n",
       "      <td>San Diego State University</td>\n",
       "      <td>Negreiros, Rodrigo Picanco</td>\n",
       "      <td>2009PhDT........66N</td>\n",
       "      <td>Numerical study of the properties of compact s...</td>\n",
       "      <td>2009-10-00</td>\n",
       "      <td>Physics, Astrophysics</td>\n",
       "      <td>The Claremont Graduate University and San Dieg...</td>\n",
       "      <td>Compact stars are formed in catastrophic astro...</td>\n",
       "      <td>2009PhDT........66N</td>\n",
       "      <td>[(star, 12), (compact, 6), (core, 4), (thermal...</td>\n",
       "      <td>[((compact, star), 6), ((neutron, star), 3), (...</td>\n",
       "      <td>[((ultra, dense, nuclear), 2), ((dense, nuclea...</td>\n",
       "      <td>Dirty</td>\n",
       "    </tr>\n",
       "    <tr>\n",
       "      <th>2277</th>\n",
       "      <td>Niebergal, Brian</td>\n",
       "      <td>San Diego State University</td>\n",
       "      <td>Niebergal, Brian</td>\n",
       "      <td>2010PhRvD..81d3005N</td>\n",
       "      <td>Meissner effect and vortex expulsion in color-...</td>\n",
       "      <td>2010-02-00</td>\n",
       "      <td>95.30.Cq, 12.38.Aw, 97.60.Jd, Elementary parti...</td>\n",
       "      <td>Department of Physics and Astronomy, Universit...</td>\n",
       "      <td>Compact stars made of quark matter, rather tha...</td>\n",
       "      <td>10.48550/arXiv.0906.3043, 2010PhRvD..81d3005N,...</td>\n",
       "      <td>[(star, 9), (quark, 4), (magnetic, 4), (ray, 4...</td>\n",
       "      <td>[((magnetic, field), 2), ((quark, star), 2), (...</td>\n",
       "      <td>[((soft, gamma, repeaters), 2), ((gamma, repea...</td>\n",
       "      <td>Dirty</td>\n",
       "    </tr>\n",
       "    <tr>\n",
       "      <th>3611</th>\n",
       "      <td>Shoemaker, Ian M.</td>\n",
       "      <td>University of South Dakota</td>\n",
       "      <td>Shoemaker, Ian M.</td>\n",
       "      <td>2018PhRvD..97h3013S</td>\n",
       "      <td>Constraints from the time lag between gravitat...</td>\n",
       "      <td>2018-04-00</td>\n",
       "      <td>Astrophysics - High Energy Astrophysical Pheno...</td>\n",
       "      <td>University of South Dakota, Vermillion, South ...</td>\n",
       "      <td>The Laser Interferometer Gravitational-Wave Ob...</td>\n",
       "      <td>10.48550/arXiv.1710.06427, 10.1103/PhysRevD.97...</td>\n",
       "      <td>[(gravitational, 5), (gw, 5), (gws, 3), (em, 3...</td>\n",
       "      <td>[((gravitational, wave), 2), ((neutron, star),...</td>\n",
       "      <td>[((short, gamma, ray), 2), ((laser, interferom...</td>\n",
       "      <td>Dirty</td>\n",
       "    </tr>\n",
       "    <tr>\n",
       "      <th>3792</th>\n",
       "      <td>Noble, Scott C.</td>\n",
       "      <td>University of Tulsa</td>\n",
       "      <td>Noble, Scott C.</td>\n",
       "      <td>2016PhRvD..93b4015N</td>\n",
       "      <td>Driven neutron star collapse: Type I critical ...</td>\n",
       "      <td>2016-01-00</td>\n",
       "      <td>General Relativity and Quantum Cosmology, Astr...</td>\n",
       "      <td>Department of Physics and Engineering Physics,...</td>\n",
       "      <td>We study the general relativistic collapse of ...</td>\n",
       "      <td>2016PhRvD..93b4015N, arXiv:1512.02999, 10.4855...</td>\n",
       "      <td>[(solution, 6), (star, 4), (model, 4), (initia...</td>\n",
       "      <td>[((critical, solution), 3), ((n, model), 2), (...</td>\n",
       "      <td>[((star, central, density), 2), ((study, gener...</td>\n",
       "      <td>Dirty</td>\n",
       "    </tr>\n",
       "    <tr>\n",
       "      <th>4125</th>\n",
       "      <td>Godon, Patrick</td>\n",
       "      <td>Villanova University</td>\n",
       "      <td>Godon, Patrick, Godon, Patrick, Godon, Patrick...</td>\n",
       "      <td>2023ApJ...950..139G, 2022hst..prop17190G, 2022...</td>\n",
       "      <td>White Dwarf Photospheric Abundances in Catacly...</td>\n",
       "      <td>2023-06-00, 2022-06-00, 2022-03-00, 2021-02-00...</td>\n",
       "      <td>White dwarf stars, Dwarf novae, Cataclysmic va...</td>\n",
       "      <td>Department of Astrophysics &amp;amp; Planetary Sci...</td>\n",
       "      <td>In the last two decades infrared spectroscopy ...</td>\n",
       "      <td>10.3847/1538-4357/accb94, 2023ApJ...950..139G,...</td>\n",
       "      <td>[(disk, 81), (spectrum, 65), (dwarf, 48), (mas...</td>\n",
       "      <td>[((white, dwarf), 40), ((accretion, rate), 24)...</td>\n",
       "      <td>[((mass, accretion, rate), 17), ((hubble, spac...</td>\n",
       "      <td>Clean, Dirty, Clean, Clean, Clean, Clean, Clea...</td>\n",
       "    </tr>\n",
       "    <tr>\n",
       "      <th>4210</th>\n",
       "      <td>Sion, Edward</td>\n",
       "      <td>Villanova University</td>\n",
       "      <td>Sion, Edward, Sion, Edward, Sion, Edward, Sion...</td>\n",
       "      <td>2020adap.prop...59S, 2019ASPC..519..223S, 2017...</td>\n",
       "      <td>The Masses, Rotational Velocities and Chemical...</td>\n",
       "      <td>2020-00-00, 2019-07-00, 2017-08-00, 2015-10-00...</td>\n",
       "      <td>, , , , , , ,</td>\n",
       "      <td>Villanova University, Villanova University, As...</td>\n",
       "      <td>Accreting white dwarfs (WDs) in cataclysmic va...</td>\n",
       "      <td>2020adap.prop...59S, 2019ASPC..519..223S, 2017...</td>\n",
       "      <td>[(accretion, 25), (wd, 23), (dwarf, 22), (whit...</td>\n",
       "      <td>[((white, dwarf), 21), ((recurrent, nova), 11)...</td>\n",
       "      <td>[((type, ia, supernova), 5), ((accreting, whit...</td>\n",
       "      <td>Dirty, Dirty, Dirty, Dirty, Dirty, Dirty, Dirt...</td>\n",
       "    </tr>\n",
       "  </tbody>\n",
       "</table>\n",
       "</div>"
      ],
      "text/plain": [
       "                    Input Author  \\\n",
       "291               Neilsen, David   \n",
       "427   Negreiros, Rodrigo Picanco   \n",
       "787                  Smith, Evan   \n",
       "1015       Alexander, Michael J.   \n",
       "1016          Aragona, Christina   \n",
       "1068        McSwain, M. Virginia   \n",
       "1137                  Abbasi, R.   \n",
       "1172               Babiuc, Maria   \n",
       "1188                Stanley, Rae   \n",
       "1256            Nemiroff, Robert   \n",
       "1332            Mogushi, Kentaro   \n",
       "2171              Dent, James B.   \n",
       "2275  Negreiros, Rodrigo Picanco   \n",
       "2277            Niebergal, Brian   \n",
       "3611           Shoemaker, Ian M.   \n",
       "3792             Noble, Scott C.   \n",
       "4125              Godon, Patrick   \n",
       "4210                Sion, Edward   \n",
       "\n",
       "                                  Input Institution  \\\n",
       "291                        Brigham Young University   \n",
       "427                   Claremont Graduate University   \n",
       "787                 Florida Institute of Technology   \n",
       "1015                              Lehigh University   \n",
       "1016                              Lehigh University   \n",
       "1068                              Lehigh University   \n",
       "1137                      Loyola University Chicago   \n",
       "1172                            Marshall University   \n",
       "1188                            Marshall University   \n",
       "1256              Michigan Technological University   \n",
       "1332  Missouri University of Science and Technology   \n",
       "2171                   Sam Houston State University   \n",
       "2275                     San Diego State University   \n",
       "2277                     San Diego State University   \n",
       "3611                     University of South Dakota   \n",
       "3792                            University of Tulsa   \n",
       "4125                           Villanova University   \n",
       "4210                           Villanova University   \n",
       "\n",
       "                                           First Author  \\\n",
       "291   Neilsen, David, Neilsen, David, Neilsen, David...   \n",
       "427                          Negreiros, Rodrigo Picanco   \n",
       "787   Smith, Evan, Smith, Evan, Smith, Evan, Smith, ...   \n",
       "1015  Alexander, Michael J., Alexander, Michael J., ...   \n",
       "1016  Aragona, Christina, Aragona, Christina, Aragon...   \n",
       "1068  McSwain, M. Virginia, McSwain, M. Virginia, Mc...   \n",
       "1137  Abbasi, R., Abbasi, R., Abbasi, R., Abbasi, R....   \n",
       "1172  Babiuc, Maria, Babiuc, Maria, Babiuc, Maria, B...   \n",
       "1188                                       Stanley, Rae   \n",
       "1256  Nemiroff, Robert, Nemiroff, Robert, Nemiroff, ...   \n",
       "1332                 Mogushi, Kentaro, Mogushi, Kentaro   \n",
       "2171  Dent, James B., Dent, James B., Dent, James B....   \n",
       "2275                         Negreiros, Rodrigo Picanco   \n",
       "2277                                   Niebergal, Brian   \n",
       "3611                                  Shoemaker, Ian M.   \n",
       "3792                                    Noble, Scott C.   \n",
       "4125  Godon, Patrick, Godon, Patrick, Godon, Patrick...   \n",
       "4210  Sion, Edward, Sion, Edward, Sion, Edward, Sion...   \n",
       "\n",
       "                                                Bibcode  \\\n",
       "291   2019atp..prop..142N, 2016APS..APRM13003N, 2015...   \n",
       "427                                 2009PhDT........66N   \n",
       "787   2023ApJ...950..174S, 2020ApJ...902...65S, 2019...   \n",
       "1015  2016AJ....152..190A, 2015MNRAS.449.1686A, 2015...   \n",
       "1016  2012xrb..confE...2A, 2012AAS...21934420A, 2011...   \n",
       "1068  2016AAS...22714414M, 2014noao.prop..345M, 2014...   \n",
       "1137  2023ApJ...959...96A, 2023PhRvD.108j2004A, 2023...   \n",
       "1172  2022APS..APRF01059B, 2022APS..APRK16004B, 2016...   \n",
       "1188                                2019AAS...23324238S   \n",
       "1256  2023AAS...24116601N, 2022AAS...24034507N, 2019...   \n",
       "1332           2021CQGra..38o5004M, 2019ApJ...880...55M   \n",
       "2171  2022JHEP...08..300D, 2022PhRvD.105a5030D, 2021...   \n",
       "2275                                2009PhDT........66N   \n",
       "2277                                2010PhRvD..81d3005N   \n",
       "3611                                2018PhRvD..97h3013S   \n",
       "3792                                2016PhRvD..93b4015N   \n",
       "4125  2023ApJ...950..139G, 2022hst..prop17190G, 2022...   \n",
       "4210  2020adap.prop...59S, 2019ASPC..519..223S, 2017...   \n",
       "\n",
       "                                                  Title  \\\n",
       "291   Binary Black Hole Waveforms for LISA, Binary N...   \n",
       "427   Numerical study of the properties of compact s...   \n",
       "787   A QPO in Mkn 421 from Archival RXTE Data, A QP...   \n",
       "1015  A Catalog of New Spectroscopically Confirmed M...   \n",
       "1016  LS 5039 and HD 259440: A Multiwavelength Appro...   \n",
       "1068  Light Curve Models of Rotationally Distorted, ...   \n",
       "1137  A Search for IceCube Sub-TeV Neutrinos Correla...   \n",
       "1172  Building Fully Analytic Gravitational Waves fr...   \n",
       "1188  A Spectroscopic Study of Radio-Loud Narrow-Lin...   \n",
       "1256  Guest Writing for APOD in 2023: Toward Finding...   \n",
       "1332  Application of a new transient-noise analysis ...   \n",
       "2171  Sensitivity to dark sector scales from gravita...   \n",
       "2275  Numerical study of the properties of compact s...   \n",
       "2277  Meissner effect and vortex expulsion in color-...   \n",
       "3611  Constraints from the time lag between gravitat...   \n",
       "3792  Driven neutron star collapse: Type I critical ...   \n",
       "4125  White Dwarf Photospheric Abundances in Catacly...   \n",
       "4210  The Masses, Rotational Velocities and Chemical...   \n",
       "\n",
       "                                       Publication Date  \\\n",
       "291   2019-00-00, 2016-03-00, 2015-04-00, 2015-01-00...   \n",
       "427                                          2009-10-00   \n",
       "787      2023-06-00, 2020-10-00, 2019-03-00, 2016-04-00   \n",
       "1015     2016-12-00, 2015-05-00, 2015-01-00, 2014-01-00   \n",
       "1016  2012-07-00, 2012-01-00, 2011-08-00, 2011-01-00...   \n",
       "1068  2016-01-00, 2014-02-00, 2014-01-00, 2013-08-00...   \n",
       "1137  2023-12-00, 2023-11-00, 2023-11-00, 2023-10-00...   \n",
       "1172  2022-04-00, 2022-04-00, 2016-03-00, 2015-04-00...   \n",
       "1188                                         2019-01-00   \n",
       "1256  2023-01-00, 2022-06-00, 2019-03-00, 2019-03-00...   \n",
       "1332                             2021-08-00, 2019-07-00   \n",
       "2171  2022-08-00, 2022-01-00, 2021-09-00, 2021-08-00...   \n",
       "2275                                         2009-10-00   \n",
       "2277                                         2010-02-00   \n",
       "3611                                         2018-04-00   \n",
       "3792                                         2016-01-00   \n",
       "4125  2023-06-00, 2022-06-00, 2022-03-00, 2021-02-00...   \n",
       "4210  2020-00-00, 2019-07-00, 2017-08-00, 2015-10-00...   \n",
       "\n",
       "                                               Keywords  \\\n",
       "291   , , , , 04.25.D-, 04.40.Dg, 97.60.Jd, Numerica...   \n",
       "427                               Physics, Astrophysics   \n",
       "787   Active galactic nuclei, Blazars, BL Lacertae o...   \n",
       "1015  binaries: spectroscopic, open clusters and ass...   \n",
       "1016  , , , , Physics, Astrophysics;Physics, Astrono...   \n",
       "1068  , , , , , , pulsars: general, stars: individua...   \n",
       "1137  Neutrino astronomy, Neutrino telescopes, Gravi...   \n",
       "1172                                           , , , ,    \n",
       "1188                                                      \n",
       "1256  , , , , , , , , , , 98.70.Rz, 98.62.Py, 95.55....   \n",
       "1332  glitch, statistics, gravitational waves, Gener...   \n",
       "2171  Early Universe Particle Physics, Phase Transit...   \n",
       "2275                              Physics, Astrophysics   \n",
       "2277  95.30.Cq, 12.38.Aw, 97.60.Jd, Elementary parti...   \n",
       "3611  Astrophysics - High Energy Astrophysical Pheno...   \n",
       "3792  General Relativity and Quantum Cosmology, Astr...   \n",
       "4125  White dwarf stars, Dwarf novae, Cataclysmic va...   \n",
       "4210                                     , , , , , , ,    \n",
       "\n",
       "                                           Affiliations  \\\n",
       "291   Brigham Young University, Brigham Young Univer...   \n",
       "427   The Claremont Graduate University and San Dieg...   \n",
       "787   Aerospace, Physics and Space Sciences Departme...   \n",
       "1015  Department of Physics, Lehigh University, 16 M...   \n",
       "1016  Lehigh University, Lehigh University, Lehigh U...   \n",
       "1068  Lehigh Univ, Lehigh University, M. Virginia Mc...   \n",
       "1137  Department of Physics, Loyola University Chica...   \n",
       "1172  Marshall University, Marshall University, Mars...   \n",
       "1188  Physics, Marshall University, Ona, WV, United ...   \n",
       "1256  Michigan Technological Univ., Michigan Technol...   \n",
       "1332  Institute of Multi-messenger Astrophysics and ...   \n",
       "2171  Department of Physics, Sam Houston State Unive...   \n",
       "2275  The Claremont Graduate University and San Dieg...   \n",
       "2277  Department of Physics and Astronomy, Universit...   \n",
       "3611  University of South Dakota, Vermillion, South ...   \n",
       "3792  Department of Physics and Engineering Physics,...   \n",
       "4125  Department of Astrophysics &amp; Planetary Sci...   \n",
       "4210  Villanova University, Villanova University, As...   \n",
       "\n",
       "                                               Abstract  \\\n",
       "291   Using Numerical Relativity Gravitational waves...   \n",
       "427   Compact stars are formed in catastrophic astro...   \n",
       "787   We report a 325(-7, +8) day quasi-periodic osc...   \n",
       "1015  The Carina star-forming region is one of the l...   \n",
       "1016  A handful of Galactic High Mass X-ray Binaries...   \n",
       "1068  Classical Be stars are a class of active B-typ...   \n",
       "1137  The LIGO/Virgo collaboration published the cat...   \n",
       "1172  The first observation of gravitational waves (...   \n",
       "1188  Narrow-line radio-loud Seyfert-1 galaxies are ...   \n",
       "1256  Would you like to write for — or even become a...   \n",
       "1332  Excess transient noise events, or 'glitches', ...   \n",
       "2171  We consider gravitational sound wave signals p...   \n",
       "2275  Compact stars are formed in catastrophic astro...   \n",
       "2277  Compact stars made of quark matter, rather tha...   \n",
       "3611  The Laser Interferometer Gravitational-Wave Ob...   \n",
       "3792  We study the general relativistic collapse of ...   \n",
       "4125  In the last two decades infrared spectroscopy ...   \n",
       "4210  Accreting white dwarfs (WDs) in cataclysmic va...   \n",
       "\n",
       "                                             Identifier  \\\n",
       "291   2019atp..prop..142N, 2016APS..APRM13003N, 2015...   \n",
       "427                                 2009PhDT........66N   \n",
       "787   arXiv:2305.07510, 2023arXiv230507510S, 10.3847...   \n",
       "1015  10.48550/arXiv.1611.01405, 10.3847/0004-6256/1...   \n",
       "1016  2012xrb..confE...2A, 2012AAS...21934420A, 2011...   \n",
       "1068  2016AAS...22714414M, 2014noao.prop..345M, 2014...   \n",
       "1137  2023ApJ...959...96A, 10.3847/1538-4357/aceefc,...   \n",
       "1172  2022APS..APRF01059B, 2022APS..APRK16004B, 2016...   \n",
       "1188                                2019AAS...23324238S   \n",
       "1256  2023AAS...24116601N, 2022AAS...24034507N, 2019...   \n",
       "1332  2021CQGra..38o5004M, 10.1088/1361-6382/ac08a7,...   \n",
       "2171  10.1007/JHEP08(2022)300, arXiv:2203.11736, 10....   \n",
       "2275                                2009PhDT........66N   \n",
       "2277  10.48550/arXiv.0906.3043, 2010PhRvD..81d3005N,...   \n",
       "3611  10.48550/arXiv.1710.06427, 10.1103/PhysRevD.97...   \n",
       "3792  2016PhRvD..93b4015N, arXiv:1512.02999, 10.4855...   \n",
       "4125  10.3847/1538-4357/accb94, 2023ApJ...950..139G,...   \n",
       "4210  2020adap.prop...59S, 2019ASPC..519..223S, 2017...   \n",
       "\n",
       "                                           Top 10 Words  \\\n",
       "291   [(star, 12), (equation, 10), (gravitational, 9...   \n",
       "427   [(star, 12), (compact, 6), (core, 4), (thermal...   \n",
       "787   [(qpo, 11), (qpos, 11), (data, 10), (agn, 10),...   \n",
       "1015  [(star, 22), (ray, 11), (ob, 9), (binary, 9), ...   \n",
       "1016  [(ray, 34), (star, 32), (binary, 25), (disk, 2...   \n",
       "1068  [(star, 50), (emission, 25), (binary, 24), (ra...   \n",
       "1137  [(neutrino, 212), (energy, 97), (icecube, 69),...   \n",
       "1172  [(gravitational, 18), (gw, 11), (electromagnet...   \n",
       "1188  [(black, 8), (hole, 8), (galaxy, 7), (jet, 6),...   \n",
       "1256  [(image, 25), (apod, 24), (cherenkov, 15), (as...   \n",
       "1332  [(gw, 9), (detection, 6), (glitch, 5), (detect...   \n",
       "2171  [(dark, 10), (photon, 9), (gravitational, 8), ...   \n",
       "2275  [(star, 12), (compact, 6), (core, 4), (thermal...   \n",
       "2277  [(star, 9), (quark, 4), (magnetic, 4), (ray, 4...   \n",
       "3611  [(gravitational, 5), (gw, 5), (gws, 3), (em, 3...   \n",
       "3792  [(solution, 6), (star, 4), (model, 4), (initia...   \n",
       "4125  [(disk, 81), (spectrum, 65), (dwarf, 48), (mas...   \n",
       "4210  [(accretion, 25), (wd, 23), (dwarf, 22), (whit...   \n",
       "\n",
       "                                         Top 10 Bigrams  \\\n",
       "291   [((neutron, star), 8), ((gravitational, wave),...   \n",
       "427   [((compact, star), 6), ((neutron, star), 3), (...   \n",
       "787   [((light, curve), 7), ((black, hole), 5), ((ac...   \n",
       "1015  [((ob, star), 9), ((gamma, ray), 6), ((binary,...   \n",
       "1016  [((ray, binary), 22), ((gamma, ray), 13), ((hi...   \n",
       "1068  [((ray, binary), 11), ((open, cluster), 7), ((...   \n",
       "1137  [((high, energy), 38), ((neutrino, emission), ...   \n",
       "1172  [((gravitational, wave), 8), ((gravitational, ...   \n",
       "1188  [((black, hole), 8), ((relativistic, jet), 4),...   \n",
       "1256  [((high, energy), 7), ((particle, image), 6), ...   \n",
       "1332  [((gravitational, wave), 2), ((wave, gw), 2), ...   \n",
       "2171  [((dark, matter), 8), ((gravitational, wave), ...   \n",
       "2275  [((compact, star), 6), ((neutron, star), 3), (...   \n",
       "2277  [((magnetic, field), 2), ((quark, star), 2), (...   \n",
       "3611  [((gravitational, wave), 2), ((neutron, star),...   \n",
       "3792  [((critical, solution), 3), ((n, model), 2), (...   \n",
       "4125  [((white, dwarf), 40), ((accretion, rate), 24)...   \n",
       "4210  [((white, dwarf), 21), ((recurrent, nova), 11)...   \n",
       "\n",
       "                                        Top 10 Trigrams  \\\n",
       "291   [((binary, neutron, star), 3), ((neutron, star...   \n",
       "427   [((ultra, dense, nuclear), 2), ((dense, nuclea...   \n",
       "787   [((rossi, ray, timing), 3), ((ray, timing, exp...   \n",
       "1015  [((carina, star, forming), 2), ((massive, star...   \n",
       "1016  [((high, mass, ray), 7), ((mass, ray, binaries...   \n",
       "1068  [((high, mass, ray), 3), ((gamma, ray, binarie...   \n",
       "1137  [((icecube, neutrino, observatory), 20), ((hig...   \n",
       "1172  [((national, science, foundation), 3), ((gravi...   \n",
       "1188  [((black, hole, mass), 3), ((narrow, line, rad...   \n",
       "1256  [((https, apod, nasa), 5), ((apod, nasa, gov),...   \n",
       "1332  [((gravitational, wave, gw), 2), ((gamma, ray,...   \n",
       "2171  [((cosmic, ray, upscattered), 3), ((thermal, e...   \n",
       "2275  [((ultra, dense, nuclear), 2), ((dense, nuclea...   \n",
       "2277  [((soft, gamma, repeaters), 2), ((gamma, repea...   \n",
       "3611  [((short, gamma, ray), 2), ((laser, interferom...   \n",
       "3792  [((star, central, density), 2), ((study, gener...   \n",
       "4125  [((mass, accretion, rate), 17), ((hubble, spac...   \n",
       "4210  [((type, ia, supernova), 5), ((accreting, whit...   \n",
       "\n",
       "                                              Data Type  \n",
       "291     Dirty, Dirty, Dirty, Dirty, Dirty, Dirty, Dirty  \n",
       "427                                               Dirty  \n",
       "787                          Clean, Clean, Dirty, Dirty  \n",
       "1015                         Clean, Clean, Clean, Clean  \n",
       "1016  Dirty, Clean, Dirty, Dirty, Dirty, Clean, Clea...  \n",
       "1068  Clean, Dirty, Dirty, Dirty, Dirty, Clean, Clea...  \n",
       "1137  Clean, Dirty, Clean, Clean, Dirty, Clean, Dirt...  \n",
       "1172                  Dirty, Dirty, Dirty, Dirty, Dirty  \n",
       "1188                                              Clean  \n",
       "1256  Clean, Clean, Dirty, Dirty, Dirty, Dirty, Clea...  \n",
       "1332                                       Dirty, Clean  \n",
       "2171    Dirty, Dirty, Dirty, Dirty, Dirty, Dirty, Dirty  \n",
       "2275                                              Dirty  \n",
       "2277                                              Dirty  \n",
       "3611                                              Dirty  \n",
       "3792                                              Dirty  \n",
       "4125  Clean, Dirty, Clean, Clean, Clean, Clean, Clea...  \n",
       "4210  Dirty, Dirty, Dirty, Dirty, Dirty, Dirty, Dirt...  "
      ]
     },
     "execution_count": 37,
     "metadata": {},
     "output_type": "execute_result"
    }
   ],
   "source": [
    "# Make a sub-list of authors that mention \"neutron stars\" in their abstracts\n",
    "NS_datf = datf[datf[\"Abstract\"].str.contains(\"neutron star\")]\n",
    "# Of those, those onee who also mention \"gamma\" in their abstracts\n",
    "NS_datf = NS_datf[NS_datf[\"Abstract\"].str.contains(\"gamma\")]\n",
    "print(len(NS_datf))\n",
    "NS_datf"
   ]
  },
  {
   "cell_type": "code",
   "execution_count": 35,
   "id": "6e53a3c3",
   "metadata": {},
   "outputs": [
    {
     "name": "stdout",
     "output_type": "stream",
     "text": [
      "12\n"
     ]
    },
    {
     "data": {
      "text/html": [
       "<div>\n",
       "<style scoped>\n",
       "    .dataframe tbody tr th:only-of-type {\n",
       "        vertical-align: middle;\n",
       "    }\n",
       "\n",
       "    .dataframe tbody tr th {\n",
       "        vertical-align: top;\n",
       "    }\n",
       "\n",
       "    .dataframe thead th {\n",
       "        text-align: right;\n",
       "    }\n",
       "</style>\n",
       "<table border=\"1\" class=\"dataframe\">\n",
       "  <thead>\n",
       "    <tr style=\"text-align: right;\">\n",
       "      <th></th>\n",
       "      <th>Input Author</th>\n",
       "      <th>Input Institution</th>\n",
       "      <th>First Author</th>\n",
       "      <th>Bibcode</th>\n",
       "      <th>Title</th>\n",
       "      <th>Publication Date</th>\n",
       "      <th>Keywords</th>\n",
       "      <th>Affiliations</th>\n",
       "      <th>Abstract</th>\n",
       "      <th>Identifier</th>\n",
       "      <th>Top 10 Words</th>\n",
       "      <th>Top 10 Bigrams</th>\n",
       "      <th>Top 10 Trigrams</th>\n",
       "      <th>Data Type</th>\n",
       "    </tr>\n",
       "  </thead>\n",
       "  <tbody>\n",
       "    <tr>\n",
       "      <th>111</th>\n",
       "      <td>Macomb, Daryl J.</td>\n",
       "      <td>Boise State University</td>\n",
       "      <td>Macomb, Daryl J., Macomb, Daryl J., Macomb, Da...</td>\n",
       "      <td>2017HEAD...1610605M, 2015AAS...22514457M, 2014...</td>\n",
       "      <td>Illuminating Radio Dim/Gamma-ray Bright Active...</td>\n",
       "      <td>2017-08-00, 2015-01-00, 2014-01-00, 2012-05-00</td>\n",
       "      <td>, , ,</td>\n",
       "      <td>Boise State Univ, Boise State Univ, Boise Stat...</td>\n",
       "      <td>A recent survey of high-latitude gamma-ray sou...</td>\n",
       "      <td>2017HEAD...1610605M, 2015AAS...22514457M, 2014...</td>\n",
       "      <td>[(source, 12), (flux, 9), (blazar, 8), (flare,...</td>\n",
       "      <td>[((gamma, ray), 5), ((flux, variability), 5), ...</td>\n",
       "      <td>[((intrinsic, flux, variability), 3), ((flux, ...</td>\n",
       "      <td>Dirty, Clean, Clean, Clean</td>\n",
       "    </tr>\n",
       "    <tr>\n",
       "      <th>130</th>\n",
       "      <td>Wada, Katelyn R.</td>\n",
       "      <td>Boise State University</td>\n",
       "      <td>Wada, Katelyn R.</td>\n",
       "      <td>2017AAS...22925042W</td>\n",
       "      <td>Searching for Hard X-Ray Emission from Radio-L...</td>\n",
       "      <td>2017-01-00</td>\n",
       "      <td></td>\n",
       "      <td>Boise State University</td>\n",
       "      <td>While the Swift BAT AGN source catalog is domi...</td>\n",
       "      <td>2017AAS...22925042W</td>\n",
       "      <td>[(swift, 4), (bat, 4), (agn, 4), (fermi, 4), (...</td>\n",
       "      <td>[((swift, bat), 4), ((fermi, lat), 2), ((resul...</td>\n",
       "      <td>[((result, selection, bias), 2), ((swift, bat,...</td>\n",
       "      <td>Clean</td>\n",
       "    </tr>\n",
       "    <tr>\n",
       "      <th>131</th>\n",
       "      <td>Watkins, Tiffany</td>\n",
       "      <td>Boise State University</td>\n",
       "      <td>Watkins, Tiffany</td>\n",
       "      <td>2011AAS...21715701W</td>\n",
       "      <td>Monitoring High Energy Transients With Crro</td>\n",
       "      <td>2011-01-00</td>\n",
       "      <td></td>\n",
       "      <td>Boise State University</td>\n",
       "      <td>We describe the capabilities and early results...</td>\n",
       "      <td>2011AAS...21715701W, 2011BAAS...4315701W</td>\n",
       "      <td>[(capability, 2), (observatory, 2), (crro, 2),...</td>\n",
       "      <td>[((remotely, operable), 2), ((describe, capabi...</td>\n",
       "      <td>[((describe, capabilities, early), 1), ((capab...</td>\n",
       "      <td>Clean</td>\n",
       "    </tr>\n",
       "    <tr>\n",
       "      <th>281</th>\n",
       "      <td>Moody, J. W.</td>\n",
       "      <td>Brigham Young University</td>\n",
       "      <td>Moody, J. W.</td>\n",
       "      <td>2012PASP..124..956M</td>\n",
       "      <td>Remote Observatory for Variable Object Researc...</td>\n",
       "      <td>2012-09-00</td>\n",
       "      <td>Astrophysics - Instrumentation and Methods for...</td>\n",
       "      <td>Physics and Astronomy Department, Brigham Youn...</td>\n",
       "      <td>Observatories constructed solely for photometr...</td>\n",
       "      <td>10.1086/667712, arXiv:1211.2215, 2012PASP..124...</td>\n",
       "      <td>[(observatory, 4), (object, 3), (constructed, ...</td>\n",
       "      <td>[((observatory, constructed), 1), ((constructe...</td>\n",
       "      <td>[((observatories, constructed, solely), 1), ((...</td>\n",
       "      <td>Clean</td>\n",
       "    </tr>\n",
       "    <tr>\n",
       "      <th>282</th>\n",
       "      <td>Moody, J. Ward</td>\n",
       "      <td>Brigham Young University</td>\n",
       "      <td>Moody, J. Ward, Moody, J. Ward, Moody, J. Ward...</td>\n",
       "      <td>2022RNAAS...6..278M, 2017AJ....154..268M, 2017...</td>\n",
       "      <td>FN8-23-7179: A Low-temperature Circumstellar S...</td>\n",
       "      <td>2022-12-00, 2017-12-00, 2017-02-00, 2017-01-00...</td>\n",
       "      <td>Circumstellar shells, Emission line stars, Ste...</td>\n",
       "      <td>Brigham Young University, Department of Physic...</td>\n",
       "      <td>In the course of a narrow-band imaging survey ...</td>\n",
       "      <td>2022RNAAS...6..278M, 10.3847/2515-5172/acad7c,...</td>\n",
       "      <td>[(source, 14), (galaxy, 13), (object, 8), (sur...</td>\n",
       "      <td>[((nearby, galaxy), 4), ((point, source), 4), ...</td>\n",
       "      <td>[((variety, interesting, objects), 2), ((inter...</td>\n",
       "      <td>Clean, Clean, Clean, Clean, Clean, Dirty</td>\n",
       "    </tr>\n",
       "    <tr>\n",
       "      <th>345</th>\n",
       "      <td>Stephens, Thomas E.</td>\n",
       "      <td>Brigham Young University</td>\n",
       "      <td>Stephens, Thomas E.</td>\n",
       "      <td>2015AAS...22542202S</td>\n",
       "      <td>The Fermi Large Area Telescope Thrid Gamma-ray...</td>\n",
       "      <td>2015-01-00</td>\n",
       "      <td></td>\n",
       "      <td>Brigham Young University</td>\n",
       "      <td>We present an overview of the third Fermi Larg...</td>\n",
       "      <td>2015AAS...22542202S</td>\n",
       "      <td>[(source, 12), (fgl, 5), (catalog, 4), (galact...</td>\n",
       "      <td>[((fgl, catalog), 3), ((gamma, ray), 2), ((gal...</td>\n",
       "      <td>[((present, overview, fermi), 1), ((overview, ...</td>\n",
       "      <td>Clean</td>\n",
       "    </tr>\n",
       "    <tr>\n",
       "      <th>787</th>\n",
       "      <td>Smith, Evan</td>\n",
       "      <td>Florida Institute of Technology</td>\n",
       "      <td>Smith, Evan, Smith, Evan, Smith, Evan, Smith, ...</td>\n",
       "      <td>2023ApJ...950..174S, 2020ApJ...902...65S, 2019...</td>\n",
       "      <td>A QPO in Mkn 421 from Archival RXTE Data, A QP...</td>\n",
       "      <td>2023-06-00, 2020-10-00, 2019-03-00, 2016-04-00</td>\n",
       "      <td>Active galactic nuclei, Blazars, BL Lacertae o...</td>\n",
       "      <td>Aerospace, Physics and Space Sciences Departme...</td>\n",
       "      <td>We report a 325(-7, +8) day quasi-periodic osc...</td>\n",
       "      <td>arXiv:2305.07510, 2023arXiv230507510S, 10.3847...</td>\n",
       "      <td>[(qpo, 11), (qpos, 11), (data, 10), (agn, 10),...</td>\n",
       "      <td>[((light, curve), 7), ((black, hole), 5), ((ac...</td>\n",
       "      <td>[((rossi, ray, timing), 3), ((ray, timing, exp...</td>\n",
       "      <td>Clean, Clean, Dirty, Dirty</td>\n",
       "    </tr>\n",
       "    <tr>\n",
       "      <th>918</th>\n",
       "      <td>Kaufman, E. E.</td>\n",
       "      <td>Illinois Institute of Technology</td>\n",
       "      <td>Kaufman, E. E.</td>\n",
       "      <td>2020AAS...23536913K</td>\n",
       "      <td>Investigating Power Spectral Densities of Blac...</td>\n",
       "      <td>2020-01-00</td>\n",
       "      <td></td>\n",
       "      <td>Physics, Illinois Institute of Technology, Chi...</td>\n",
       "      <td>Relativistic jets from blazars and gamma-ray b...</td>\n",
       "      <td>2020AAS...23536913K</td>\n",
       "      <td>[(magnetic, 5), (jet, 4), (reconnection, 3), (...</td>\n",
       "      <td>[((particle, acceleration), 2), ((magnetic, re...</td>\n",
       "      <td>[((relativistic, jets, blazars), 1), ((jets, b...</td>\n",
       "      <td>Clean</td>\n",
       "    </tr>\n",
       "    <tr>\n",
       "      <th>1137</th>\n",
       "      <td>Abbasi, R.</td>\n",
       "      <td>Loyola University Chicago</td>\n",
       "      <td>Abbasi, R., Abbasi, R., Abbasi, R., Abbasi, R....</td>\n",
       "      <td>2023ApJ...959...96A, 2023PhRvD.108j2004A, 2023...</td>\n",
       "      <td>A Search for IceCube Sub-TeV Neutrinos Correla...</td>\n",
       "      <td>2023-12-00, 2023-11-00, 2023-11-00, 2023-10-00...</td>\n",
       "      <td>Neutrino astronomy, Neutrino telescopes, Gravi...</td>\n",
       "      <td>Department of Physics, Loyola University Chica...</td>\n",
       "      <td>The LIGO/Virgo collaboration published the cat...</td>\n",
       "      <td>2023ApJ...959...96A, 10.3847/1538-4357/aceefc,...</td>\n",
       "      <td>[(neutrino, 212), (energy, 97), (icecube, 69),...</td>\n",
       "      <td>[((high, energy), 38), ((neutrino, emission), ...</td>\n",
       "      <td>[((icecube, neutrino, observatory), 20), ((hig...</td>\n",
       "      <td>Clean, Dirty, Clean, Clean, Dirty, Clean, Dirt...</td>\n",
       "    </tr>\n",
       "    <tr>\n",
       "      <th>1758</th>\n",
       "      <td>McKinnon, Ian</td>\n",
       "      <td>Oakland University</td>\n",
       "      <td>McKinnon, Ian</td>\n",
       "      <td>2022APS..APRS17040M</td>\n",
       "      <td>Modeling the extragalactic gamma-ray backgroun...</td>\n",
       "      <td>2022-04-00</td>\n",
       "      <td></td>\n",
       "      <td>Oakland University</td>\n",
       "      <td>The extragalactic gamma-ray background is the ...</td>\n",
       "      <td>2022APS..APRS17040M</td>\n",
       "      <td>[(gamma, 4), (ray, 4), (background, 4), (astro...</td>\n",
       "      <td>[((gamma, ray), 4), ((ray, background), 3), ((...</td>\n",
       "      <td>[((gamma, ray, background), 3), ((extragalacti...</td>\n",
       "      <td>Dirty</td>\n",
       "    </tr>\n",
       "    <tr>\n",
       "      <th>2706</th>\n",
       "      <td>Carpenter, Bryce</td>\n",
       "      <td>The Catholic University of America</td>\n",
       "      <td>Carpenter, Bryce</td>\n",
       "      <td>2014AAS...22325127C</td>\n",
       "      <td>Five Years of the Fermi LAT Flare Advocate</td>\n",
       "      <td>2014-01-00</td>\n",
       "      <td></td>\n",
       "      <td>The Catholic University of America; NASA/GSFC</td>\n",
       "      <td>Since the launch of the Fermi satellite, the F...</td>\n",
       "      <td>2014AAS...22325127C</td>\n",
       "      <td>[(gamma, 6), (ray, 6), (fermi, 5), (source, 4)...</td>\n",
       "      <td>[((gamma, ray), 6), ((ray, sky), 2), ((flare, ...</td>\n",
       "      <td>[((gamma, ray, sky), 2), ((fa, gsw, program), ...</td>\n",
       "      <td>Clean</td>\n",
       "    </tr>\n",
       "    <tr>\n",
       "      <th>2731</th>\n",
       "      <td>Dutka, Michael</td>\n",
       "      <td>The Catholic University of America</td>\n",
       "      <td>Dutka, Michael</td>\n",
       "      <td>2014PhDT........40D</td>\n",
       "      <td>Investigating the Nature of High Energy Emissi...</td>\n",
       "      <td>2014-00-00</td>\n",
       "      <td>Physics, Astronomy and Astrophysics;Physics, E...</td>\n",
       "      <td>The Catholic University of America</td>\n",
       "      <td>Active Galactic Nuclei (AGN) are extremely lum...</td>\n",
       "      <td>2014PhDT........40D</td>\n",
       "      <td>[(radio, 9), (gamma, 9), (ray, 9), (blazars, 8...</td>\n",
       "      <td>[((gamma, ray), 9), ((radio, loud), 4), ((loud...</td>\n",
       "      <td>[((radio, loud, agn), 4), ((gamma, ray, emissi...</td>\n",
       "      <td>Dirty</td>\n",
       "    </tr>\n",
       "  </tbody>\n",
       "</table>\n",
       "</div>"
      ],
      "text/plain": [
       "             Input Author                   Input Institution  \\\n",
       "111      Macomb, Daryl J.              Boise State University   \n",
       "130      Wada, Katelyn R.              Boise State University   \n",
       "131      Watkins, Tiffany              Boise State University   \n",
       "281          Moody, J. W.            Brigham Young University   \n",
       "282        Moody, J. Ward            Brigham Young University   \n",
       "345   Stephens, Thomas E.            Brigham Young University   \n",
       "787           Smith, Evan     Florida Institute of Technology   \n",
       "918        Kaufman, E. E.    Illinois Institute of Technology   \n",
       "1137           Abbasi, R.           Loyola University Chicago   \n",
       "1758        McKinnon, Ian                  Oakland University   \n",
       "2706     Carpenter, Bryce  The Catholic University of America   \n",
       "2731       Dutka, Michael  The Catholic University of America   \n",
       "\n",
       "                                           First Author  \\\n",
       "111   Macomb, Daryl J., Macomb, Daryl J., Macomb, Da...   \n",
       "130                                    Wada, Katelyn R.   \n",
       "131                                    Watkins, Tiffany   \n",
       "281                                        Moody, J. W.   \n",
       "282   Moody, J. Ward, Moody, J. Ward, Moody, J. Ward...   \n",
       "345                                 Stephens, Thomas E.   \n",
       "787   Smith, Evan, Smith, Evan, Smith, Evan, Smith, ...   \n",
       "918                                      Kaufman, E. E.   \n",
       "1137  Abbasi, R., Abbasi, R., Abbasi, R., Abbasi, R....   \n",
       "1758                                      McKinnon, Ian   \n",
       "2706                                   Carpenter, Bryce   \n",
       "2731                                     Dutka, Michael   \n",
       "\n",
       "                                                Bibcode  \\\n",
       "111   2017HEAD...1610605M, 2015AAS...22514457M, 2014...   \n",
       "130                                 2017AAS...22925042W   \n",
       "131                                 2011AAS...21715701W   \n",
       "281                                 2012PASP..124..956M   \n",
       "282   2022RNAAS...6..278M, 2017AJ....154..268M, 2017...   \n",
       "345                                 2015AAS...22542202S   \n",
       "787   2023ApJ...950..174S, 2020ApJ...902...65S, 2019...   \n",
       "918                                 2020AAS...23536913K   \n",
       "1137  2023ApJ...959...96A, 2023PhRvD.108j2004A, 2023...   \n",
       "1758                                2022APS..APRS17040M   \n",
       "2706                                2014AAS...22325127C   \n",
       "2731                                2014PhDT........40D   \n",
       "\n",
       "                                                  Title  \\\n",
       "111   Illuminating Radio Dim/Gamma-ray Bright Active...   \n",
       "130   Searching for Hard X-Ray Emission from Radio-L...   \n",
       "131         Monitoring High Energy Transients With Crro   \n",
       "281   Remote Observatory for Variable Object Researc...   \n",
       "282   FN8-23-7179: A Low-temperature Circumstellar S...   \n",
       "345   The Fermi Large Area Telescope Thrid Gamma-ray...   \n",
       "787   A QPO in Mkn 421 from Archival RXTE Data, A QP...   \n",
       "918   Investigating Power Spectral Densities of Blac...   \n",
       "1137  A Search for IceCube Sub-TeV Neutrinos Correla...   \n",
       "1758  Modeling the extragalactic gamma-ray backgroun...   \n",
       "2706         Five Years of the Fermi LAT Flare Advocate   \n",
       "2731  Investigating the Nature of High Energy Emissi...   \n",
       "\n",
       "                                       Publication Date  \\\n",
       "111      2017-08-00, 2015-01-00, 2014-01-00, 2012-05-00   \n",
       "130                                          2017-01-00   \n",
       "131                                          2011-01-00   \n",
       "281                                          2012-09-00   \n",
       "282   2022-12-00, 2017-12-00, 2017-02-00, 2017-01-00...   \n",
       "345                                          2015-01-00   \n",
       "787      2023-06-00, 2020-10-00, 2019-03-00, 2016-04-00   \n",
       "918                                          2020-01-00   \n",
       "1137  2023-12-00, 2023-11-00, 2023-11-00, 2023-10-00...   \n",
       "1758                                         2022-04-00   \n",
       "2706                                         2014-01-00   \n",
       "2731                                         2014-00-00   \n",
       "\n",
       "                                               Keywords  \\\n",
       "111                                              , , ,    \n",
       "130                                                       \n",
       "131                                                       \n",
       "281   Astrophysics - Instrumentation and Methods for...   \n",
       "282   Circumstellar shells, Emission line stars, Ste...   \n",
       "345                                                       \n",
       "787   Active galactic nuclei, Blazars, BL Lacertae o...   \n",
       "918                                                       \n",
       "1137  Neutrino astronomy, Neutrino telescopes, Gravi...   \n",
       "1758                                                      \n",
       "2706                                                      \n",
       "2731  Physics, Astronomy and Astrophysics;Physics, E...   \n",
       "\n",
       "                                           Affiliations  \\\n",
       "111   Boise State Univ, Boise State Univ, Boise Stat...   \n",
       "130                              Boise State University   \n",
       "131                              Boise State University   \n",
       "281   Physics and Astronomy Department, Brigham Youn...   \n",
       "282   Brigham Young University, Department of Physic...   \n",
       "345                            Brigham Young University   \n",
       "787   Aerospace, Physics and Space Sciences Departme...   \n",
       "918   Physics, Illinois Institute of Technology, Chi...   \n",
       "1137  Department of Physics, Loyola University Chica...   \n",
       "1758                                 Oakland University   \n",
       "2706      The Catholic University of America; NASA/GSFC   \n",
       "2731                 The Catholic University of America   \n",
       "\n",
       "                                               Abstract  \\\n",
       "111   A recent survey of high-latitude gamma-ray sou...   \n",
       "130   While the Swift BAT AGN source catalog is domi...   \n",
       "131   We describe the capabilities and early results...   \n",
       "281   Observatories constructed solely for photometr...   \n",
       "282   In the course of a narrow-band imaging survey ...   \n",
       "345   We present an overview of the third Fermi Larg...   \n",
       "787   We report a 325(-7, +8) day quasi-periodic osc...   \n",
       "918   Relativistic jets from blazars and gamma-ray b...   \n",
       "1137  The LIGO/Virgo collaboration published the cat...   \n",
       "1758  The extragalactic gamma-ray background is the ...   \n",
       "2706  Since the launch of the Fermi satellite, the F...   \n",
       "2731  Active Galactic Nuclei (AGN) are extremely lum...   \n",
       "\n",
       "                                             Identifier  \\\n",
       "111   2017HEAD...1610605M, 2015AAS...22514457M, 2014...   \n",
       "130                                 2017AAS...22925042W   \n",
       "131            2011AAS...21715701W, 2011BAAS...4315701W   \n",
       "281   10.1086/667712, arXiv:1211.2215, 2012PASP..124...   \n",
       "282   2022RNAAS...6..278M, 10.3847/2515-5172/acad7c,...   \n",
       "345                                 2015AAS...22542202S   \n",
       "787   arXiv:2305.07510, 2023arXiv230507510S, 10.3847...   \n",
       "918                                 2020AAS...23536913K   \n",
       "1137  2023ApJ...959...96A, 10.3847/1538-4357/aceefc,...   \n",
       "1758                                2022APS..APRS17040M   \n",
       "2706                                2014AAS...22325127C   \n",
       "2731                                2014PhDT........40D   \n",
       "\n",
       "                                           Top 10 Words  \\\n",
       "111   [(source, 12), (flux, 9), (blazar, 8), (flare,...   \n",
       "130   [(swift, 4), (bat, 4), (agn, 4), (fermi, 4), (...   \n",
       "131   [(capability, 2), (observatory, 2), (crro, 2),...   \n",
       "281   [(observatory, 4), (object, 3), (constructed, ...   \n",
       "282   [(source, 14), (galaxy, 13), (object, 8), (sur...   \n",
       "345   [(source, 12), (fgl, 5), (catalog, 4), (galact...   \n",
       "787   [(qpo, 11), (qpos, 11), (data, 10), (agn, 10),...   \n",
       "918   [(magnetic, 5), (jet, 4), (reconnection, 3), (...   \n",
       "1137  [(neutrino, 212), (energy, 97), (icecube, 69),...   \n",
       "1758  [(gamma, 4), (ray, 4), (background, 4), (astro...   \n",
       "2706  [(gamma, 6), (ray, 6), (fermi, 5), (source, 4)...   \n",
       "2731  [(radio, 9), (gamma, 9), (ray, 9), (blazars, 8...   \n",
       "\n",
       "                                         Top 10 Bigrams  \\\n",
       "111   [((gamma, ray), 5), ((flux, variability), 5), ...   \n",
       "130   [((swift, bat), 4), ((fermi, lat), 2), ((resul...   \n",
       "131   [((remotely, operable), 2), ((describe, capabi...   \n",
       "281   [((observatory, constructed), 1), ((constructe...   \n",
       "282   [((nearby, galaxy), 4), ((point, source), 4), ...   \n",
       "345   [((fgl, catalog), 3), ((gamma, ray), 2), ((gal...   \n",
       "787   [((light, curve), 7), ((black, hole), 5), ((ac...   \n",
       "918   [((particle, acceleration), 2), ((magnetic, re...   \n",
       "1137  [((high, energy), 38), ((neutrino, emission), ...   \n",
       "1758  [((gamma, ray), 4), ((ray, background), 3), ((...   \n",
       "2706  [((gamma, ray), 6), ((ray, sky), 2), ((flare, ...   \n",
       "2731  [((gamma, ray), 9), ((radio, loud), 4), ((loud...   \n",
       "\n",
       "                                        Top 10 Trigrams  \\\n",
       "111   [((intrinsic, flux, variability), 3), ((flux, ...   \n",
       "130   [((result, selection, bias), 2), ((swift, bat,...   \n",
       "131   [((describe, capabilities, early), 1), ((capab...   \n",
       "281   [((observatories, constructed, solely), 1), ((...   \n",
       "282   [((variety, interesting, objects), 2), ((inter...   \n",
       "345   [((present, overview, fermi), 1), ((overview, ...   \n",
       "787   [((rossi, ray, timing), 3), ((ray, timing, exp...   \n",
       "918   [((relativistic, jets, blazars), 1), ((jets, b...   \n",
       "1137  [((icecube, neutrino, observatory), 20), ((hig...   \n",
       "1758  [((gamma, ray, background), 3), ((extragalacti...   \n",
       "2706  [((gamma, ray, sky), 2), ((fa, gsw, program), ...   \n",
       "2731  [((radio, loud, agn), 4), ((gamma, ray, emissi...   \n",
       "\n",
       "                                              Data Type  \n",
       "111                          Dirty, Clean, Clean, Clean  \n",
       "130                                               Clean  \n",
       "131                                               Clean  \n",
       "281                                               Clean  \n",
       "282            Clean, Clean, Clean, Clean, Clean, Dirty  \n",
       "345                                               Clean  \n",
       "787                          Clean, Clean, Dirty, Dirty  \n",
       "918                                               Clean  \n",
       "1137  Clean, Dirty, Clean, Clean, Dirty, Clean, Dirt...  \n",
       "1758                                              Dirty  \n",
       "2706                                              Clean  \n",
       "2731                                              Dirty  "
      ]
     },
     "execution_count": 35,
     "metadata": {},
     "output_type": "execute_result"
    }
   ],
   "source": [
    "# Same thing for authors who mention \"blazars\" and also \"gamma\"\n",
    "Blazar_datf = datf[datf[\"Abstract\"].str.contains(\"blazar\")]\n",
    "Blazar_datf = Blazar_datf[Blazar_datf[\"Abstract\"].str.contains(\"gamma\")]\n",
    "print(len(Blazar_datf))\n",
    "Blazar_datf"
   ]
  },
  {
   "cell_type": "code",
   "execution_count": 38,
   "id": "970f7db0",
   "metadata": {},
   "outputs": [],
   "source": [
    "# Write these dataframes to excel spreadsheets\n",
    "NS_datf.to_excel(\"NS_authors.xlsx\")\n",
    "Blazar_datf.to_excel(\"blazar_authors.xlsx\")"
   ]
  },
  {
   "cell_type": "code",
   "execution_count": null,
   "id": "dedb22c3",
   "metadata": {},
   "outputs": [],
   "source": []
  }
 ],
 "metadata": {
  "kernelspec": {
   "display_name": "Python 3 (ipykernel)",
   "language": "python",
   "name": "python3"
  },
  "language_info": {
   "codemirror_mode": {
    "name": "ipython",
    "version": 3
   },
   "file_extension": ".py",
   "mimetype": "text/x-python",
   "name": "python",
   "nbconvert_exporter": "python",
   "pygments_lexer": "ipython3",
   "version": "3.11.4"
  }
 },
 "nbformat": 4,
 "nbformat_minor": 5
}
